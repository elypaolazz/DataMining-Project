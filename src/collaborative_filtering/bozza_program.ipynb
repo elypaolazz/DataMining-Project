{
 "cells": [
  {
   "cell_type": "markdown",
   "metadata": {},
   "source": [
    "p. 101 degli appunti"
   ]
  },
  {
   "cell_type": "code",
   "execution_count": 1,
   "metadata": {},
   "outputs": [],
   "source": [
    "import json\n",
    "sys.path.append('../')\n",
    "from utilities import utility_matrix\n",
    "import pandas as pd\n",
    "from tqdm import tqdm"
   ]
  },
  {
   "cell_type": "code",
   "execution_count": 2,
   "metadata": {},
   "outputs": [],
   "source": [
    "# open dataset\n",
    "with open('../../data/full_data.json', 'r') as file:\n",
    "    data = json.load(file)"
   ]
  },
  {
   "cell_type": "code",
   "execution_count": 3,
   "metadata": {},
   "outputs": [
    {
     "data": {
      "text/html": [
       "<div>\n",
       "<style scoped>\n",
       "    .dataframe tbody tr th:only-of-type {\n",
       "        vertical-align: middle;\n",
       "    }\n",
       "\n",
       "    .dataframe tbody tr th {\n",
       "        vertical-align: top;\n",
       "    }\n",
       "\n",
       "    .dataframe thead th {\n",
       "        text-align: right;\n",
       "    }\n",
       "</style>\n",
       "<table border=\"1\" class=\"dataframe\">\n",
       "  <thead>\n",
       "    <tr style=\"text-align: right;\">\n",
       "      <th></th>\n",
       "      <th>id</th>\n",
       "      <th>name</th>\n",
       "      <th>gender</th>\n",
       "      <th>conditions</th>\n",
       "      <th>trials</th>\n",
       "    </tr>\n",
       "  </thead>\n",
       "  <tbody>\n",
       "    <tr>\n",
       "      <th>0</th>\n",
       "      <td>pat_0</td>\n",
       "      <td>Aadam</td>\n",
       "      <td>Male</td>\n",
       "      <td>[{'id': 'c1', 'diagnosed': '2003-03-27', 'cure...</td>\n",
       "      <td>[{'id': 'c1_t1', 'start': '2017-07-30', 'end':...</td>\n",
       "    </tr>\n",
       "    <tr>\n",
       "      <th>1</th>\n",
       "      <td>pat_1</td>\n",
       "      <td>Aadil</td>\n",
       "      <td>Male</td>\n",
       "      <td>[{'id': 'c1', 'diagnosed': '2009-03-18', 'cure...</td>\n",
       "      <td>[{'id': 'c1_t1', 'start': '2014-09-16', 'end':...</td>\n",
       "    </tr>\n",
       "    <tr>\n",
       "      <th>2</th>\n",
       "      <td>pat_2</td>\n",
       "      <td>Aakash</td>\n",
       "      <td>Male</td>\n",
       "      <td>[{'id': 'c1', 'diagnosed': '2003-10-24', 'cure...</td>\n",
       "      <td>[{'id': 'c1_t1', 'start': '2019-04-06', 'end':...</td>\n",
       "    </tr>\n",
       "    <tr>\n",
       "      <th>3</th>\n",
       "      <td>pat_3</td>\n",
       "      <td>Aaliyah</td>\n",
       "      <td>Female</td>\n",
       "      <td>[{'id': 'c1', 'diagnosed': '2000-12-13', 'cure...</td>\n",
       "      <td>[{'id': 'c1_t1', 'start': '2007-06-20', 'end':...</td>\n",
       "    </tr>\n",
       "    <tr>\n",
       "      <th>4</th>\n",
       "      <td>pat_4</td>\n",
       "      <td>Aamir</td>\n",
       "      <td>Male</td>\n",
       "      <td>[{'id': 'c1', 'diagnosed': '2004-01-23', 'cure...</td>\n",
       "      <td>[{'id': 'c1_t1', 'start': '2007-10-24', 'end':...</td>\n",
       "    </tr>\n",
       "    <tr>\n",
       "      <th>...</th>\n",
       "      <td>...</td>\n",
       "      <td>...</td>\n",
       "      <td>...</td>\n",
       "      <td>...</td>\n",
       "      <td>...</td>\n",
       "    </tr>\n",
       "    <tr>\n",
       "      <th>9995</th>\n",
       "      <td>pat_9995</td>\n",
       "      <td>Таня</td>\n",
       "      <td>Female</td>\n",
       "      <td>[{'id': 'c1', 'diagnosed': '2003-09-09', 'cure...</td>\n",
       "      <td>[{'id': 'c1_t1', 'start': '2015-06-12', 'end':...</td>\n",
       "    </tr>\n",
       "    <tr>\n",
       "      <th>9996</th>\n",
       "      <td>pat_9996</td>\n",
       "      <td>Татьяна</td>\n",
       "      <td>Female</td>\n",
       "      <td>[{'id': 'c1', 'diagnosed': '2007-11-07', 'cure...</td>\n",
       "      <td>[{'id': 'c2_t1', 'start': '2018-01-31', 'end':...</td>\n",
       "    </tr>\n",
       "    <tr>\n",
       "      <th>9997</th>\n",
       "      <td>pat_9997</td>\n",
       "      <td>Тетяна</td>\n",
       "      <td>Female</td>\n",
       "      <td>[{'id': 'c1', 'diagnosed': '2007-09-05', 'cure...</td>\n",
       "      <td>[{'id': 'c1_t1', 'start': '2012-09-20', 'end':...</td>\n",
       "    </tr>\n",
       "    <tr>\n",
       "      <th>9998</th>\n",
       "      <td>pat_9998</td>\n",
       "      <td>Юлия</td>\n",
       "      <td>Female</td>\n",
       "      <td>[{'id': 'c1', 'diagnosed': '2006-11-14', 'cure...</td>\n",
       "      <td>[{'id': 'c1_t1', 'start': '2019-05-20', 'end':...</td>\n",
       "    </tr>\n",
       "    <tr>\n",
       "      <th>9999</th>\n",
       "      <td>pat_9999</td>\n",
       "      <td>السيد</td>\n",
       "      <td>Male</td>\n",
       "      <td>[{'id': 'c1', 'diagnosed': '2005-11-15', 'cure...</td>\n",
       "      <td>[{'id': 'c1_t1', 'start': '2014-03-25', 'end':...</td>\n",
       "    </tr>\n",
       "  </tbody>\n",
       "</table>\n",
       "<p>10000 rows × 5 columns</p>\n",
       "</div>"
      ],
      "text/plain": [
       "            id     name  gender  \\\n",
       "0        pat_0    Aadam    Male   \n",
       "1        pat_1    Aadil    Male   \n",
       "2        pat_2   Aakash    Male   \n",
       "3        pat_3  Aaliyah  Female   \n",
       "4        pat_4    Aamir    Male   \n",
       "...        ...      ...     ...   \n",
       "9995  pat_9995     Таня  Female   \n",
       "9996  pat_9996  Татьяна  Female   \n",
       "9997  pat_9997   Тетяна  Female   \n",
       "9998  pat_9998     Юлия  Female   \n",
       "9999  pat_9999    السيد    Male   \n",
       "\n",
       "                                             conditions  \\\n",
       "0     [{'id': 'c1', 'diagnosed': '2003-03-27', 'cure...   \n",
       "1     [{'id': 'c1', 'diagnosed': '2009-03-18', 'cure...   \n",
       "2     [{'id': 'c1', 'diagnosed': '2003-10-24', 'cure...   \n",
       "3     [{'id': 'c1', 'diagnosed': '2000-12-13', 'cure...   \n",
       "4     [{'id': 'c1', 'diagnosed': '2004-01-23', 'cure...   \n",
       "...                                                 ...   \n",
       "9995  [{'id': 'c1', 'diagnosed': '2003-09-09', 'cure...   \n",
       "9996  [{'id': 'c1', 'diagnosed': '2007-11-07', 'cure...   \n",
       "9997  [{'id': 'c1', 'diagnosed': '2007-09-05', 'cure...   \n",
       "9998  [{'id': 'c1', 'diagnosed': '2006-11-14', 'cure...   \n",
       "9999  [{'id': 'c1', 'diagnosed': '2005-11-15', 'cure...   \n",
       "\n",
       "                                                 trials  \n",
       "0     [{'id': 'c1_t1', 'start': '2017-07-30', 'end':...  \n",
       "1     [{'id': 'c1_t1', 'start': '2014-09-16', 'end':...  \n",
       "2     [{'id': 'c1_t1', 'start': '2019-04-06', 'end':...  \n",
       "3     [{'id': 'c1_t1', 'start': '2007-06-20', 'end':...  \n",
       "4     [{'id': 'c1_t1', 'start': '2007-10-24', 'end':...  \n",
       "...                                                 ...  \n",
       "9995  [{'id': 'c1_t1', 'start': '2015-06-12', 'end':...  \n",
       "9996  [{'id': 'c2_t1', 'start': '2018-01-31', 'end':...  \n",
       "9997  [{'id': 'c1_t1', 'start': '2012-09-20', 'end':...  \n",
       "9998  [{'id': 'c1_t1', 'start': '2019-05-20', 'end':...  \n",
       "9999  [{'id': 'c1_t1', 'start': '2014-03-25', 'end':...  \n",
       "\n",
       "[10000 rows x 5 columns]"
      ]
     },
     "execution_count": 3,
     "metadata": {},
     "output_type": "execute_result"
    }
   ],
   "source": [
    "data_df = pd.DataFrame(data['Patients'])\n",
    "data_df"
   ]
  },
  {
   "cell_type": "code",
   "execution_count": 4,
   "metadata": {},
   "outputs": [
    {
     "data": {
      "text/plain": [
       "[{'id': 'c1', 'diagnosed': '2003-03-27', 'cured': None, 'kind': 'cond_132'},\n",
       " {'id': 'c2',\n",
       "  'diagnosed': '2006-09-12',\n",
       "  'cured': '2019-12-31',\n",
       "  'kind': 'cond_9'},\n",
       " {'id': 'c3',\n",
       "  'diagnosed': '2009-05-04',\n",
       "  'cured': '2015-10-17',\n",
       "  'kind': 'cond_20'},\n",
       " {'id': 'c4', 'diagnosed': '2009-12-04', 'cured': None, 'kind': 'cond_92'},\n",
       " {'id': 'c5', 'diagnosed': '2009-12-25', 'cured': None, 'kind': 'cond_146'},\n",
       " {'id': 'c6', 'diagnosed': '2009-12-25', 'cured': None, 'kind': 'cond_133'},\n",
       " {'id': 'c7', 'diagnosed': '2009-12-28', 'cured': None, 'kind': 'cond_301'},\n",
       " {'id': 'c8', 'diagnosed': '2009-12-29', 'cured': None, 'kind': 'cond_17'},\n",
       " {'id': 'c9',\n",
       "  'diagnosed': '2009-12-30',\n",
       "  'cured': '2019-12-31',\n",
       "  'kind': 'cond_306'},\n",
       " {'id': 'c10', 'diagnosed': '2009-12-30', 'cured': None, 'kind': 'cond_218'}]"
      ]
     },
     "execution_count": 4,
     "metadata": {},
     "output_type": "execute_result"
    }
   ],
   "source": [
    "data_df.loc[data_df[\"name\"] == \"Aadam\"][\"conditions\"][0]"
   ]
  },
  {
   "cell_type": "code",
   "execution_count": 5,
   "metadata": {},
   "outputs": [],
   "source": [
    "def my_program(data, patient_id, condition):\n",
    "    reccomended_ther = pd.DataFrame(columns = ['id', 'name', 'type'])\n",
    "\n",
    "    # open dataset\n",
    "    # with open(dataset_path, 'r') as file:\n",
    "    #     data = json.load(file)\n",
    "    patients_df = pd.DataFrame(data['Patients'])\n",
    "    conditions_df = pd.DataFrame(data['Conditions'])\n",
    "    therapies_df = pd.DataFrame(data['Therapies'])\n",
    "    # check if patients and condition exists\n",
    "    if patient_id not in patients_df.id.values:\n",
    "        print(\"Patient ID is not in the data\")\n",
    "    else:\n",
    "        if condition not in conditions_df.name.values:\n",
    "            print(\"Condition is not in the data\")\n",
    "        else:\n",
    "            # check if condition was already succesfully cured by a therapy (for the given patient)\n",
    "            cond_id = conditions_df[conditions_df.name==condition].id.values[0]\n",
    "            if any(d['kind'] == cond_id and d['cured'] != None for d in patients_df[patients_df.id == patient_id].conditions.values[0]):\n",
    "                \n",
    "                succ_cond_id = list(filter(lambda d: d['kind'] == cond_id, patients_df[patients_df.id == patient_id].conditions.values[0]))[0]['id'] \n",
    "                ther_id = list(filter(lambda d: d['condition'] == succ_cond_id and d['successful']>90, patients_df[patients_df.id == patient_id].trials.values[0]))[0]['therapy']\n",
    "                reccomended_ther = reccomended_ther.append(therapies_df[therapies_df.id == ther_id], ignore_index = True)\n",
    "                return reccomended_ther\n",
    "            else:\n",
    "                return reccomended_ther"
   ]
  },
  {
   "cell_type": "code",
   "execution_count": 6,
   "metadata": {},
   "outputs": [],
   "source": [
    "i = my_program(data, \"pat_0\", \"Acute myeloid leukaemia\")"
   ]
  },
  {
   "cell_type": "code",
   "execution_count": 7,
   "metadata": {},
   "outputs": [
    {
     "data": {
      "text/html": [
       "<div>\n",
       "<style scoped>\n",
       "    .dataframe tbody tr th:only-of-type {\n",
       "        vertical-align: middle;\n",
       "    }\n",
       "\n",
       "    .dataframe tbody tr th {\n",
       "        vertical-align: top;\n",
       "    }\n",
       "\n",
       "    .dataframe thead th {\n",
       "        text-align: right;\n",
       "    }\n",
       "</style>\n",
       "<table border=\"1\" class=\"dataframe\">\n",
       "  <thead>\n",
       "    <tr style=\"text-align: right;\">\n",
       "      <th></th>\n",
       "      <th>id</th>\n",
       "      <th>name</th>\n",
       "      <th>type</th>\n",
       "    </tr>\n",
       "  </thead>\n",
       "  <tbody>\n",
       "  </tbody>\n",
       "</table>\n",
       "</div>"
      ],
      "text/plain": [
       "Empty DataFrame\n",
       "Columns: [id, name, type]\n",
       "Index: []"
      ]
     },
     "execution_count": 7,
     "metadata": {},
     "output_type": "execute_result"
    }
   ],
   "source": [
    "i"
   ]
  },
  {
   "cell_type": "code",
   "execution_count": 8,
   "metadata": {},
   "outputs": [
    {
     "data": {
      "text/html": [
       "<div>\n",
       "<style scoped>\n",
       "    .dataframe tbody tr th:only-of-type {\n",
       "        vertical-align: middle;\n",
       "    }\n",
       "\n",
       "    .dataframe tbody tr th {\n",
       "        vertical-align: top;\n",
       "    }\n",
       "\n",
       "    .dataframe thead th {\n",
       "        text-align: right;\n",
       "    }\n",
       "</style>\n",
       "<table border=\"1\" class=\"dataframe\">\n",
       "  <thead>\n",
       "    <tr style=\"text-align: right;\">\n",
       "      <th></th>\n",
       "      <th>id</th>\n",
       "      <th>name</th>\n",
       "      <th>type</th>\n",
       "    </tr>\n",
       "  </thead>\n",
       "  <tbody>\n",
       "  </tbody>\n",
       "</table>\n",
       "</div>"
      ],
      "text/plain": [
       "Empty DataFrame\n",
       "Columns: [id, name, type]\n",
       "Index: []"
      ]
     },
     "execution_count": 8,
     "metadata": {},
     "output_type": "execute_result"
    }
   ],
   "source": [
    "my_program(data, \"pat_1\", \"Acute myeloid leukaemia\")"
   ]
  },
  {
   "cell_type": "markdown",
   "metadata": {},
   "source": [
    "------"
   ]
  },
  {
   "cell_type": "code",
   "execution_count": 255,
   "metadata": {},
   "outputs": [],
   "source": [
    "def my_program2(data, patient_id, condition):\n",
    "    reccomended_ther = pd.DataFrame(columns = ['id', 'name', 'type'])\n",
    "\n",
    "    # open dataset\n",
    "    # with open(dataset_path, 'r') as file:\n",
    "    #     data = json.load(file)\n",
    "    patients_df = pd.DataFrame(data['Patients'])\n",
    "    conditions_df = pd.DataFrame(data['Conditions'])\n",
    "    therapies_df = pd.DataFrame(data['Therapies'])\n",
    "    # check if patients and condition exists\n",
    "    if patient_id not in patients_df.id.values:\n",
    "        print(\"Patient ID is not in the data\")\n",
    "    else:\n",
    "        if condition not in conditions_df.name.values:\n",
    "            print(\"Condition is not in the data\")\n",
    "        else:\n",
    "            # check if condition was already succesfully cured by a therapy (for the given patient)\n",
    "            cond_id = conditions_df[conditions_df.name==condition].id.values[0]\n",
    "            if any(d['kind'] == cond_id and d['cured'] != None for d in patients_df[patients_df.id == patient_id].conditions.values[0]):\n",
    "                \n",
    "                succ_cond_id = list(filter(lambda d: d['kind'] == cond_id, patients_df[patients_df.id == patient_id].conditions.values[0]))[0]['id'] \n",
    "                ther_id = list(filter(lambda d: d['condition'] == succ_cond_id and d['successful']>90, patients_df[patients_df.id == patient_id].trials.values[0]))[0]['therapy']\n",
    "                reccomended_ther = reccomended_ther.append(therapies_df[therapies_df.id == ther_id], ignore_index = True)\n",
    "                # return reccomended_ther\n",
    "                return patients_df\n",
    "            else:\n",
    "                # return reccomended_ther\n",
    "                return patients_df"
   ]
  },
  {
   "cell_type": "code",
   "execution_count": 9,
   "metadata": {},
   "outputs": [],
   "source": [
    "patients_df = pd.DataFrame(data['Patients'])\n",
    "conditions_df = pd.DataFrame(data['Conditions'])\n",
    "therapies_df = pd.DataFrame(data['Therapies'])"
   ]
  },
  {
   "cell_type": "code",
   "execution_count": 299,
   "metadata": {},
   "outputs": [
    {
     "data": {
      "text/plain": [
       "array(['pat_0', 'pat_1', 'pat_2', ..., 'pat_19997', 'pat_19998',\n",
       "       'pat_19999'], dtype=object)"
      ]
     },
     "execution_count": 299,
     "metadata": {},
     "output_type": "execute_result"
    }
   ],
   "source": [
    "patients_df.id.values"
   ]
  },
  {
   "cell_type": "code",
   "execution_count": 10,
   "metadata": {},
   "outputs": [],
   "source": [
    "pat_cured = []\n",
    "for i in patients_df.id.values:\n",
    "    if any(d['kind'] == 'cond_14' and d['cured'] != None for d in patients_df[patients_df.id == i].conditions.values[0]):\n",
    "        #print(i)\n",
    "        \n",
    "        pat_cured.append(i)"
   ]
  },
  {
   "cell_type": "code",
   "execution_count": 11,
   "metadata": {},
   "outputs": [
    {
     "data": {
      "text/plain": [
       "108"
      ]
     },
     "execution_count": 11,
     "metadata": {},
     "output_type": "execute_result"
    }
   ],
   "source": [
    "len(pat_cured)"
   ]
  },
  {
   "cell_type": "code",
   "execution_count": 12,
   "metadata": {},
   "outputs": [],
   "source": [
    "therapies = []\n",
    "for i in patients_df.id.values:\n",
    "    if any(d['kind'] == 'cond_14' and d['cured'] != None for d in patients_df[patients_df.id == i].conditions.values[0]):\n",
    "        succ_cond_id = list(filter(lambda d: d['kind'] == 'cond_14', patients_df[patients_df.id == i].conditions.values[0]))[0]['id'] \n",
    "        ther_id = list(filter(lambda d: d['condition'] == succ_cond_id and d['successful']>90, patients_df[patients_df.id == i].trials.values[0]))[0]['therapy']\n",
    "        succ = list(filter(lambda d: d['condition'] == succ_cond_id and d['successful']>90, patients_df[patients_df.id == i].trials.values[0]))[0]['successful']\n",
    "        # print(i, ther_id)\n",
    "        therapies.append(ther_id)"
   ]
  },
  {
   "cell_type": "code",
   "execution_count": 14,
   "metadata": {},
   "outputs": [
    {
     "data": {
      "text/plain": [
       "54"
      ]
     },
     "execution_count": 14,
     "metadata": {},
     "output_type": "execute_result"
    }
   ],
   "source": [
    "len(set(therapies))\n"
   ]
  },
  {
   "cell_type": "code",
   "execution_count": null,
   "metadata": {},
   "outputs": [],
   "source": [
    "\n",
    "import collections\n",
    "\n",
    "counter=collections.Counter(therapies)\n",
    "\n",
    "counter"
   ]
  },
  {
   "cell_type": "code",
   "execution_count": null,
   "metadata": {},
   "outputs": [],
   "source": [
    "pd.DataFrame(pat_cured, therapies)"
   ]
  },
  {
   "cell_type": "code",
   "execution_count": 15,
   "metadata": {},
   "outputs": [],
   "source": [
    "pat_0 = utility_matrix('pat_0')\n",
    "mat_0 = pat_0.to_numpy()"
   ]
  },
  {
   "cell_type": "code",
   "execution_count": 16,
   "metadata": {},
   "outputs": [
    {
     "data": {
      "text/plain": [
       "array([[0., 0., 0., ..., 0., 0., 0.],\n",
       "       [0., 0., 0., ..., 0., 0., 0.],\n",
       "       [0., 0., 0., ..., 0., 0., 0.],\n",
       "       ...,\n",
       "       [0., 0., 0., ..., 0., 0., 0.],\n",
       "       [0., 0., 0., ..., 0., 0., 0.],\n",
       "       [0., 0., 0., ..., 0., 0., 0.]])"
      ]
     },
     "execution_count": 16,
     "metadata": {},
     "output_type": "execute_result"
    }
   ],
   "source": [
    "mat_0"
   ]
  },
  {
   "cell_type": "code",
   "execution_count": 22,
   "metadata": {},
   "outputs": [
    {
     "data": {
      "text/plain": [
       "764"
      ]
     },
     "execution_count": 22,
     "metadata": {},
     "output_type": "execute_result"
    }
   ],
   "source": [
    "len(pat_cured)"
   ]
  },
  {
   "cell_type": "code",
   "execution_count": 16,
   "metadata": {},
   "outputs": [
    {
     "name": "stderr",
     "output_type": "stream",
     "text": [
      "Caclulating cosine distances: 100%|██████████| 108/108 [02:46<00:00,  1.54s/it]\n"
     ]
    }
   ],
   "source": [
    "import numpy as np\n",
    "import scipy.spatial.distance as distance\n",
    "cosine_sim = []\n",
    "\n",
    "for i in tqdm(pat_cured, desc=\"Caclulating cosine distances\"):\n",
    "    pat = utility_matrix(i)\n",
    "    mat = pat.to_numpy()\n",
    "    cosine_sim_pat_0 = 1 - distance.cosine(mat_0.flatten(), mat.flatten())\n",
    "    cosine_sim.append(cosine_sim_pat_0)\n",
    "    "
   ]
  },
  {
   "cell_type": "code",
   "execution_count": 18,
   "metadata": {},
   "outputs": [
    {
     "data": {
      "text/plain": [
       "108"
      ]
     },
     "execution_count": 18,
     "metadata": {},
     "output_type": "execute_result"
    }
   ],
   "source": [
    "len(cosine_sim)"
   ]
  },
  {
   "cell_type": "code",
   "execution_count": 24,
   "metadata": {},
   "outputs": [
    {
     "data": {
      "text/plain": [
       "108"
      ]
     },
     "execution_count": 24,
     "metadata": {},
     "output_type": "execute_result"
    }
   ],
   "source": [
    "len(therapies)"
   ]
  },
  {
   "cell_type": "code",
   "execution_count": 30,
   "metadata": {},
   "outputs": [
    {
     "data": {
      "text/html": [
       "<div>\n",
       "<style scoped>\n",
       "    .dataframe tbody tr th:only-of-type {\n",
       "        vertical-align: middle;\n",
       "    }\n",
       "\n",
       "    .dataframe tbody tr th {\n",
       "        vertical-align: top;\n",
       "    }\n",
       "\n",
       "    .dataframe thead th {\n",
       "        text-align: right;\n",
       "    }\n",
       "</style>\n",
       "<table border=\"1\" class=\"dataframe\">\n",
       "  <thead>\n",
       "    <tr style=\"text-align: right;\">\n",
       "      <th></th>\n",
       "      <th>Cured patients</th>\n",
       "      <th>Therapy</th>\n",
       "      <th>Cosine_similarity</th>\n",
       "    </tr>\n",
       "  </thead>\n",
       "  <tbody>\n",
       "    <tr>\n",
       "      <th>31</th>\n",
       "      <td>pat_2940</td>\n",
       "      <td>ther_41</td>\n",
       "      <td>0.048551</td>\n",
       "    </tr>\n",
       "    <tr>\n",
       "      <th>10</th>\n",
       "      <td>pat_996</td>\n",
       "      <td>ther_5</td>\n",
       "      <td>0.033465</td>\n",
       "    </tr>\n",
       "    <tr>\n",
       "      <th>8</th>\n",
       "      <td>pat_584</td>\n",
       "      <td>ther_65</td>\n",
       "      <td>0.009398</td>\n",
       "    </tr>\n",
       "    <tr>\n",
       "      <th>85</th>\n",
       "      <td>pat_7241</td>\n",
       "      <td>ther_36</td>\n",
       "      <td>0.004048</td>\n",
       "    </tr>\n",
       "    <tr>\n",
       "      <th>63</th>\n",
       "      <td>pat_5151</td>\n",
       "      <td>ther_9</td>\n",
       "      <td>0.002289</td>\n",
       "    </tr>\n",
       "    <tr>\n",
       "      <th>...</th>\n",
       "      <td>...</td>\n",
       "      <td>...</td>\n",
       "      <td>...</td>\n",
       "    </tr>\n",
       "    <tr>\n",
       "      <th>93</th>\n",
       "      <td>pat_8104</td>\n",
       "      <td>ther_13</td>\n",
       "      <td>-0.001338</td>\n",
       "    </tr>\n",
       "    <tr>\n",
       "      <th>88</th>\n",
       "      <td>pat_7413</td>\n",
       "      <td>ther_40</td>\n",
       "      <td>-0.003396</td>\n",
       "    </tr>\n",
       "    <tr>\n",
       "      <th>50</th>\n",
       "      <td>pat_4386</td>\n",
       "      <td>ther_60</td>\n",
       "      <td>-0.003597</td>\n",
       "    </tr>\n",
       "    <tr>\n",
       "      <th>38</th>\n",
       "      <td>pat_3620</td>\n",
       "      <td>ther_9</td>\n",
       "      <td>-0.019076</td>\n",
       "    </tr>\n",
       "    <tr>\n",
       "      <th>104</th>\n",
       "      <td>pat_9700</td>\n",
       "      <td>ther_28</td>\n",
       "      <td>-0.022540</td>\n",
       "    </tr>\n",
       "  </tbody>\n",
       "</table>\n",
       "<p>108 rows × 3 columns</p>\n",
       "</div>"
      ],
      "text/plain": [
       "    Cured patients  Therapy  Cosine_similarity\n",
       "31        pat_2940  ther_41           0.048551\n",
       "10         pat_996   ther_5           0.033465\n",
       "8          pat_584  ther_65           0.009398\n",
       "85        pat_7241  ther_36           0.004048\n",
       "63        pat_5151   ther_9           0.002289\n",
       "..             ...      ...                ...\n",
       "93        pat_8104  ther_13          -0.001338\n",
       "88        pat_7413  ther_40          -0.003396\n",
       "50        pat_4386  ther_60          -0.003597\n",
       "38        pat_3620   ther_9          -0.019076\n",
       "104       pat_9700  ther_28          -0.022540\n",
       "\n",
       "[108 rows x 3 columns]"
      ]
     },
     "execution_count": 30,
     "metadata": {},
     "output_type": "execute_result"
    }
   ],
   "source": [
    "recc = pd.DataFrame(\n",
    "    {'Cured patients': pat_cured,\n",
    "     'Therapy': therapies,\n",
    "     'Cosine_similarity': cosine_sim\n",
    "    })\n",
    "\n",
    "recc.sort_values('Cosine_similarity', ascending=False)"
   ]
  },
  {
   "cell_type": "code",
   "execution_count": 37,
   "metadata": {},
   "outputs": [],
   "source": [
    "pat_0 = utility_matrix('pat_0')\n",
    "pat_ = utility_matrix('pat_2940')\n",
    "\n",
    "mat_0 = pat_0.to_numpy()\n",
    "mat_ = pat_.to_numpy()\n",
    "\n",
    "cosine_sim_pat_0 = 1 - distance.cosine(mat_0.flatten(), mat_.flatten())\n"
   ]
  },
  {
   "cell_type": "code",
   "execution_count": 38,
   "metadata": {},
   "outputs": [
    {
     "data": {
      "text/plain": [
       "0.048551290426001814"
      ]
     },
     "execution_count": 38,
     "metadata": {},
     "output_type": "execute_result"
    }
   ],
   "source": [
    "cosine_sim_pat_0"
   ]
  },
  {
   "cell_type": "markdown",
   "metadata": {},
   "source": [
    "--------"
   ]
  },
  {
   "cell_type": "code",
   "execution_count": 67,
   "metadata": {},
   "outputs": [
    {
     "name": "stderr",
     "output_type": "stream",
     "text": [
      "100%|██████████| 20000/20000 [02:19<00:00, 143.71it/s]\n"
     ]
    },
    {
     "data": {
      "text/plain": [
       "[[{'id': 'c1', 'diagnosed': '2005-05-24', 'cured': None, 'kind': 'cond_288'},\n",
       "  {'id': 'c2',\n",
       "   'diagnosed': '2009-10-02',\n",
       "   'cured': '2019-12-30',\n",
       "   'kind': 'cond_15'},\n",
       "  {'id': 'c3', 'diagnosed': '2009-12-21', 'cured': None, 'kind': 'cond_32'},\n",
       "  {'id': 'c4',\n",
       "   'diagnosed': '2009-12-22',\n",
       "   'cured': '2013-08-11',\n",
       "   'kind': 'cond_167'},\n",
       "  {'id': 'c5', 'diagnosed': '2009-12-23', 'cured': None, 'kind': 'cond_180'},\n",
       "  {'id': 'c6',\n",
       "   'diagnosed': '2009-12-30',\n",
       "   'cured': '2019-10-24',\n",
       "   'kind': 'cond_68'},\n",
       "  {'id': 'c7',\n",
       "   'diagnosed': '2009-12-30',\n",
       "   'cured': '2019-12-31',\n",
       "   'kind': 'cond_108'},\n",
       "  {'id': 'c8',\n",
       "   'diagnosed': '2009-12-31',\n",
       "   'cured': '2019-09-23',\n",
       "   'kind': 'cond_307'},\n",
       "  {'id': 'c9', 'diagnosed': '2009-12-31', 'cured': None, 'kind': 'cond_201'},\n",
       "  {'id': 'c10', 'diagnosed': '2009-12-31', 'cured': None, 'kind': 'cond_177'},\n",
       "  {'id': 'c11',\n",
       "   'diagnosed': '2009-12-31',\n",
       "   'cured': '2019-12-31',\n",
       "   'kind': 'cond_232'},\n",
       "  {'id': 'c12', 'diagnosed': '2009-12-31', 'cured': None, 'kind': 'cond_282'},\n",
       "  {'id': 'c13',\n",
       "   'diagnosed': '2009-12-31',\n",
       "   'cured': '2018-01-26',\n",
       "   'kind': 'cond_188'},\n",
       "  {'id': 'c14',\n",
       "   'diagnosed': '2009-12-31',\n",
       "   'cured': '2019-12-31',\n",
       "   'kind': 'cond_228'},\n",
       "  {'id': 'c15',\n",
       "   'diagnosed': '2009-12-31',\n",
       "   'cured': '2017-05-09',\n",
       "   'kind': 'cond_168'},\n",
       "  {'id': 'c16',\n",
       "   'diagnosed': '2009-12-31',\n",
       "   'cured': '2019-12-31',\n",
       "   'kind': 'cond_301'},\n",
       "  {'id': 'c17',\n",
       "   'diagnosed': '2009-12-31',\n",
       "   'cured': '2019-11-17',\n",
       "   'kind': 'cond_93'},\n",
       "  {'id': 'c18',\n",
       "   'diagnosed': '2009-12-31',\n",
       "   'cured': '2019-01-28',\n",
       "   'kind': 'cond_27'},\n",
       "  {'id': 'c19',\n",
       "   'diagnosed': '2009-12-31',\n",
       "   'cured': '2019-12-25',\n",
       "   'kind': 'cond_104'}],\n",
       " [{'id': 'c1', 'diagnosed': '2003-10-03', 'cured': None, 'kind': 'cond_127'},\n",
       "  {'id': 'c2', 'diagnosed': '2005-02-21', 'cured': None, 'kind': 'cond_14'},\n",
       "  {'id': 'c3', 'diagnosed': '2006-09-10', 'cured': None, 'kind': 'cond_158'},\n",
       "  {'id': 'c4',\n",
       "   'diagnosed': '2008-03-25',\n",
       "   'cured': '2019-12-31',\n",
       "   'kind': 'cond_6'},\n",
       "  {'id': 'c5',\n",
       "   'diagnosed': '2009-12-23',\n",
       "   'cured': '2018-01-06',\n",
       "   'kind': 'cond_147'},\n",
       "  {'id': 'c6',\n",
       "   'diagnosed': '2009-12-26',\n",
       "   'cured': '2019-12-31',\n",
       "   'kind': 'cond_13'},\n",
       "  {'id': 'c7',\n",
       "   'diagnosed': '2009-12-27',\n",
       "   'cured': '2019-12-17',\n",
       "   'kind': 'cond_303'},\n",
       "  {'id': 'c8',\n",
       "   'diagnosed': '2009-12-27',\n",
       "   'cured': '2019-12-31',\n",
       "   'kind': 'cond_244'},\n",
       "  {'id': 'c9', 'diagnosed': '2009-12-28', 'cured': None, 'kind': 'cond_12'},\n",
       "  {'id': 'c10',\n",
       "   'diagnosed': '2009-12-29',\n",
       "   'cured': '2019-12-31',\n",
       "   'kind': 'cond_163'},\n",
       "  {'id': 'c11',\n",
       "   'diagnosed': '2009-12-30',\n",
       "   'cured': '2018-04-03',\n",
       "   'kind': 'cond_178'},\n",
       "  {'id': 'c12', 'diagnosed': '2009-12-31', 'cured': None, 'kind': 'cond_215'},\n",
       "  {'id': 'c13', 'diagnosed': '2009-12-31', 'cured': None, 'kind': 'cond_140'},\n",
       "  {'id': 'c14',\n",
       "   'diagnosed': '2009-12-31',\n",
       "   'cured': '2019-12-24',\n",
       "   'kind': 'cond_226'},\n",
       "  {'id': 'c15', 'diagnosed': '2009-12-31', 'cured': None, 'kind': 'cond_90'},\n",
       "  {'id': 'c16', 'diagnosed': '2009-12-31', 'cured': None, 'kind': 'cond_135'},\n",
       "  {'id': 'c17', 'diagnosed': '2009-12-31', 'cured': None, 'kind': 'cond_307'},\n",
       "  {'id': 'c18',\n",
       "   'diagnosed': '2009-12-31',\n",
       "   'cured': '2019-12-31',\n",
       "   'kind': 'cond_230'},\n",
       "  {'id': 'c19',\n",
       "   'diagnosed': '2009-12-31',\n",
       "   'cured': '2019-12-31',\n",
       "   'kind': 'cond_37'},\n",
       "  {'id': 'c20', 'diagnosed': '2009-12-31', 'cured': None, 'kind': 'cond_106'},\n",
       "  {'id': 'c21', 'diagnosed': '2009-12-31', 'cured': None, 'kind': 'cond_22'},\n",
       "  {'id': 'c22',\n",
       "   'diagnosed': '2009-12-31',\n",
       "   'cured': '2019-12-08',\n",
       "   'kind': 'cond_112'},\n",
       "  {'id': 'c23',\n",
       "   'diagnosed': '2009-12-31',\n",
       "   'cured': '2019-06-16',\n",
       "   'kind': 'cond_210'},\n",
       "  {'id': 'c24', 'diagnosed': '2009-12-31', 'cured': None, 'kind': 'cond_256'},\n",
       "  {'id': 'c25',\n",
       "   'diagnosed': '2009-12-31',\n",
       "   'cured': '2019-12-31',\n",
       "   'kind': 'cond_73'},\n",
       "  {'id': 'c26', 'diagnosed': '2009-12-31', 'cured': None, 'kind': 'cond_180'},\n",
       "  {'id': 'c27',\n",
       "   'diagnosed': '2009-12-31',\n",
       "   'cured': '2019-12-31',\n",
       "   'kind': 'cond_145'},\n",
       "  {'id': 'c28', 'diagnosed': '2009-12-31', 'cured': None, 'kind': 'cond_149'},\n",
       "  {'id': 'c29',\n",
       "   'diagnosed': '2009-12-31',\n",
       "   'cured': '2019-12-31',\n",
       "   'kind': 'cond_71'},\n",
       "  {'id': 'c30', 'diagnosed': '2009-12-31', 'cured': None, 'kind': 'cond_117'},\n",
       "  {'id': 'c31', 'diagnosed': '2009-12-31', 'cured': None, 'kind': 'cond_165'},\n",
       "  {'id': 'c32', 'diagnosed': '2009-12-31', 'cured': None, 'kind': 'cond_295'}]]"
      ]
     },
     "execution_count": 67,
     "metadata": {},
     "output_type": "execute_result"
    }
   ],
   "source": [
    "import itertools\n",
    "\n",
    "pat_0 = patients_df[patients_df.id == 'pat_0'].conditions.values\n",
    "\n",
    "for i in tqdm(patients_df.id.values):\n",
    "    pat = patients_df[patients_df.id == i].conditions.values\n",
    "\n",
    "res = list(itertools.filterfalse(lambda i: i in pat_0, pat)) \\\n",
    "    + list(itertools.filterfalse(lambda j: j in pat, pat_0))\n",
    "    \n",
    "res"
   ]
  },
  {
   "cell_type": "code",
   "execution_count": 64,
   "metadata": {},
   "outputs": [
    {
     "data": {
      "text/plain": [
       "array([list([{'id': 'c1', 'diagnosed': '2003-10-03', 'cured': None, 'kind': 'cond_127'}, {'id': 'c2', 'diagnosed': '2005-02-21', 'cured': None, 'kind': 'cond_14'}, {'id': 'c3', 'diagnosed': '2006-09-10', 'cured': None, 'kind': 'cond_158'}, {'id': 'c4', 'diagnosed': '2008-03-25', 'cured': '2019-12-31', 'kind': 'cond_6'}, {'id': 'c5', 'diagnosed': '2009-12-23', 'cured': '2018-01-06', 'kind': 'cond_147'}, {'id': 'c6', 'diagnosed': '2009-12-26', 'cured': '2019-12-31', 'kind': 'cond_13'}, {'id': 'c7', 'diagnosed': '2009-12-27', 'cured': '2019-12-17', 'kind': 'cond_303'}, {'id': 'c8', 'diagnosed': '2009-12-27', 'cured': '2019-12-31', 'kind': 'cond_244'}, {'id': 'c9', 'diagnosed': '2009-12-28', 'cured': None, 'kind': 'cond_12'}, {'id': 'c10', 'diagnosed': '2009-12-29', 'cured': '2019-12-31', 'kind': 'cond_163'}, {'id': 'c11', 'diagnosed': '2009-12-30', 'cured': '2018-04-03', 'kind': 'cond_178'}, {'id': 'c12', 'diagnosed': '2009-12-31', 'cured': None, 'kind': 'cond_215'}, {'id': 'c13', 'diagnosed': '2009-12-31', 'cured': None, 'kind': 'cond_140'}, {'id': 'c14', 'diagnosed': '2009-12-31', 'cured': '2019-12-24', 'kind': 'cond_226'}, {'id': 'c15', 'diagnosed': '2009-12-31', 'cured': None, 'kind': 'cond_90'}, {'id': 'c16', 'diagnosed': '2009-12-31', 'cured': None, 'kind': 'cond_135'}, {'id': 'c17', 'diagnosed': '2009-12-31', 'cured': None, 'kind': 'cond_307'}, {'id': 'c18', 'diagnosed': '2009-12-31', 'cured': '2019-12-31', 'kind': 'cond_230'}, {'id': 'c19', 'diagnosed': '2009-12-31', 'cured': '2019-12-31', 'kind': 'cond_37'}, {'id': 'c20', 'diagnosed': '2009-12-31', 'cured': None, 'kind': 'cond_106'}, {'id': 'c21', 'diagnosed': '2009-12-31', 'cured': None, 'kind': 'cond_22'}, {'id': 'c22', 'diagnosed': '2009-12-31', 'cured': '2019-12-08', 'kind': 'cond_112'}, {'id': 'c23', 'diagnosed': '2009-12-31', 'cured': '2019-06-16', 'kind': 'cond_210'}, {'id': 'c24', 'diagnosed': '2009-12-31', 'cured': None, 'kind': 'cond_256'}, {'id': 'c25', 'diagnosed': '2009-12-31', 'cured': '2019-12-31', 'kind': 'cond_73'}, {'id': 'c26', 'diagnosed': '2009-12-31', 'cured': None, 'kind': 'cond_180'}, {'id': 'c27', 'diagnosed': '2009-12-31', 'cured': '2019-12-31', 'kind': 'cond_145'}, {'id': 'c28', 'diagnosed': '2009-12-31', 'cured': None, 'kind': 'cond_149'}, {'id': 'c29', 'diagnosed': '2009-12-31', 'cured': '2019-12-31', 'kind': 'cond_71'}, {'id': 'c30', 'diagnosed': '2009-12-31', 'cured': None, 'kind': 'cond_117'}, {'id': 'c31', 'diagnosed': '2009-12-31', 'cured': None, 'kind': 'cond_165'}, {'id': 'c32', 'diagnosed': '2009-12-31', 'cured': None, 'kind': 'cond_295'}]),\n",
       "       list([{'id': 'c1', 'diagnosed': '2000-02-10', 'cured': None, 'kind': 'cond_173'}, {'id': 'c2', 'diagnosed': '2004-03-10', 'cured': '2019-12-31', 'kind': 'cond_113'}, {'id': 'c3', 'diagnosed': '2005-07-21', 'cured': None, 'kind': 'cond_267'}, {'id': 'c4', 'diagnosed': '2007-06-27', 'cured': '2019-12-31', 'kind': 'cond_143'}, {'id': 'c5', 'diagnosed': '2008-04-29', 'cured': '2019-04-06', 'kind': 'cond_49'}, {'id': 'c6', 'diagnosed': '2009-07-17', 'cured': '2019-12-31', 'kind': 'cond_169'}, {'id': 'c7', 'diagnosed': '2009-11-04', 'cured': '2019-12-31', 'kind': 'cond_24'}, {'id': 'c8', 'diagnosed': '2009-11-25', 'cured': '2019-12-31', 'kind': 'cond_10'}, {'id': 'c9', 'diagnosed': '2009-11-26', 'cured': '2019-12-31', 'kind': 'cond_88'}, {'id': 'c10', 'diagnosed': '2009-11-26', 'cured': None, 'kind': 'cond_137'}, {'id': 'c11', 'diagnosed': '2009-12-03', 'cured': None, 'kind': 'cond_8'}, {'id': 'c12', 'diagnosed': '2009-12-27', 'cured': '2019-12-08', 'kind': 'cond_286'}, {'id': 'c13', 'diagnosed': '2009-12-29', 'cured': '2019-04-11', 'kind': 'cond_305'}, {'id': 'c14', 'diagnosed': '2009-12-30', 'cured': None, 'kind': 'cond_151'}, {'id': 'c15', 'diagnosed': '2009-12-31', 'cured': '2019-12-31', 'kind': 'cond_189'}, {'id': 'c16', 'diagnosed': '2009-12-31', 'cured': None, 'kind': 'cond_148'}, {'id': 'c17', 'diagnosed': '2009-12-31', 'cured': '2019-10-30', 'kind': 'cond_116'}, {'id': 'c18', 'diagnosed': '2009-12-31', 'cured': None, 'kind': 'cond_242'}, {'id': 'c19', 'diagnosed': '2009-12-31', 'cured': None, 'kind': 'cond_222'}, {'id': 'c20', 'diagnosed': '2009-12-31', 'cured': '2019-12-31', 'kind': 'cond_104'}, {'id': 'c21', 'diagnosed': '2009-12-31', 'cured': None, 'kind': 'cond_93'}, {'id': 'c22', 'diagnosed': '2009-12-31', 'cured': None, 'kind': 'cond_290'}, {'id': 'c23', 'diagnosed': '2009-12-31', 'cured': '2013-01-24', 'kind': 'cond_108'}, {'id': 'c24', 'diagnosed': '2009-12-31', 'cured': '2019-12-31', 'kind': 'cond_120'}, {'id': 'c25', 'diagnosed': '2009-12-31', 'cured': None, 'kind': 'cond_95'}, {'id': 'c26', 'diagnosed': '2009-12-31', 'cured': None, 'kind': 'cond_219'}, {'id': 'c27', 'diagnosed': '2009-12-31', 'cured': None, 'kind': 'cond_80'}, {'id': 'c28', 'diagnosed': '2009-12-31', 'cured': '2019-12-31', 'kind': 'cond_215'}, {'id': 'c29', 'diagnosed': '2009-12-31', 'cured': '2019-07-30', 'kind': 'cond_87'}, {'id': 'c30', 'diagnosed': '2009-12-31', 'cured': '2019-12-31', 'kind': 'cond_54'}, {'id': 'c31', 'diagnosed': '2009-12-31', 'cured': '2018-04-02', 'kind': 'cond_18'}, {'id': 'c32', 'diagnosed': '2009-12-31', 'cured': '2019-03-18', 'kind': 'cond_158'}, {'id': 'c33', 'diagnosed': '2009-12-31', 'cured': '2019-12-31', 'kind': 'cond_76'}, {'id': 'c34', 'diagnosed': '2009-12-31', 'cured': None, 'kind': 'cond_57'}, {'id': 'c35', 'diagnosed': '2009-12-31', 'cured': None, 'kind': 'cond_208'}, {'id': 'c36', 'diagnosed': '2009-12-31', 'cured': '2019-12-25', 'kind': 'cond_272'}, {'id': 'c37', 'diagnosed': '2009-12-31', 'cured': '2017-03-25', 'kind': 'cond_160'}, {'id': 'c38', 'diagnosed': '2009-12-31', 'cured': '2019-12-31', 'kind': 'cond_168'}, {'id': 'c39', 'diagnosed': '2009-12-31', 'cured': '2019-12-31', 'kind': 'cond_40'}]),\n",
       "       list([{'id': 'c1', 'diagnosed': '2009-07-10', 'cured': None, 'kind': 'cond_211'}, {'id': 'c2', 'diagnosed': '2009-12-11', 'cured': '2016-06-06', 'kind': 'cond_190'}, {'id': 'c3', 'diagnosed': '2009-12-12', 'cured': '2019-12-31', 'kind': 'cond_56'}, {'id': 'c4', 'diagnosed': '2009-12-16', 'cured': None, 'kind': 'cond_84'}, {'id': 'c5', 'diagnosed': '2009-12-27', 'cured': '2019-12-23', 'kind': 'cond_149'}, {'id': 'c6', 'diagnosed': '2009-12-29', 'cured': '2019-12-31', 'kind': 'cond_244'}, {'id': 'c7', 'diagnosed': '2009-12-29', 'cured': None, 'kind': 'cond_196'}, {'id': 'c8', 'diagnosed': '2009-12-31', 'cured': '2019-12-30', 'kind': 'cond_135'}, {'id': 'c9', 'diagnosed': '2009-12-31', 'cured': '2019-12-31', 'kind': 'cond_255'}, {'id': 'c10', 'diagnosed': '2009-12-31', 'cured': '2019-12-31', 'kind': 'cond_253'}, {'id': 'c11', 'diagnosed': '2009-12-31', 'cured': '2019-12-31', 'kind': 'cond_64'}, {'id': 'c12', 'diagnosed': '2009-12-31', 'cured': '2019-12-31', 'kind': 'cond_214'}, {'id': 'c13', 'diagnosed': '2009-12-31', 'cured': None, 'kind': 'cond_278'}, {'id': 'c14', 'diagnosed': '2009-12-31', 'cured': None, 'kind': 'cond_246'}, {'id': 'c15', 'diagnosed': '2009-12-31', 'cured': '2018-05-20', 'kind': 'cond_292'}, {'id': 'c16', 'diagnosed': '2009-12-31', 'cured': None, 'kind': 'cond_2'}, {'id': 'c17', 'diagnosed': '2009-12-31', 'cured': None, 'kind': 'cond_101'}, {'id': 'c18', 'diagnosed': '2009-12-31', 'cured': None, 'kind': 'cond_141'}, {'id': 'c19', 'diagnosed': '2009-12-31', 'cured': '2019-12-31', 'kind': 'cond_192'}, {'id': 'c20', 'diagnosed': '2009-12-31', 'cured': None, 'kind': 'cond_126'}, {'id': 'c21', 'diagnosed': '2009-12-31', 'cured': None, 'kind': 'cond_121'}, {'id': 'c22', 'diagnosed': '2009-12-31', 'cured': '2019-12-31', 'kind': 'cond_11'}, {'id': 'c23', 'diagnosed': '2009-12-31', 'cured': '2019-12-31', 'kind': 'cond_3'}, {'id': 'c24', 'diagnosed': '2009-12-31', 'cured': '2019-12-31', 'kind': 'cond_219'}, {'id': 'c25', 'diagnosed': '2009-12-31', 'cured': None, 'kind': 'cond_172'}, {'id': 'c26', 'diagnosed': '2009-12-31', 'cured': '2019-12-26', 'kind': 'cond_105'}, {'id': 'c27', 'diagnosed': '2009-12-31', 'cured': '2019-12-31', 'kind': 'cond_133'}]),\n",
       "       ...,\n",
       "       list([{'id': 'c1', 'diagnosed': '2000-10-21', 'cured': None, 'kind': 'cond_136'}, {'id': 'c2', 'diagnosed': '2005-06-03', 'cured': '2019-12-31', 'kind': 'cond_302'}, {'id': 'c3', 'diagnosed': '2005-09-16', 'cured': '2019-12-31', 'kind': 'cond_207'}, {'id': 'c4', 'diagnosed': '2008-10-07', 'cured': None, 'kind': 'cond_192'}, {'id': 'c5', 'diagnosed': '2008-11-13', 'cured': '2019-12-31', 'kind': 'cond_214'}, {'id': 'c6', 'diagnosed': '2009-02-27', 'cured': '2019-12-23', 'kind': 'cond_152'}, {'id': 'c7', 'diagnosed': '2009-12-29', 'cured': '2019-12-31', 'kind': 'cond_126'}, {'id': 'c8', 'diagnosed': '2009-12-31', 'cured': None, 'kind': 'cond_18'}, {'id': 'c9', 'diagnosed': '2009-12-31', 'cured': '2019-05-07', 'kind': 'cond_0'}, {'id': 'c10', 'diagnosed': '2009-12-31', 'cured': '2019-12-31', 'kind': 'cond_14'}, {'id': 'c11', 'diagnosed': '2009-12-31', 'cured': '2019-12-31', 'kind': 'cond_228'}, {'id': 'c12', 'diagnosed': '2009-12-31', 'cured': '2019-12-31', 'kind': 'cond_256'}, {'id': 'c13', 'diagnosed': '2009-12-31', 'cured': None, 'kind': 'cond_166'}, {'id': 'c14', 'diagnosed': '2009-12-31', 'cured': None, 'kind': 'cond_287'}, {'id': 'c15', 'diagnosed': '2009-12-31', 'cured': '2019-12-31', 'kind': 'cond_288'}, {'id': 'c16', 'diagnosed': '2009-12-31', 'cured': None, 'kind': 'cond_280'}, {'id': 'c17', 'diagnosed': '2009-12-31', 'cured': None, 'kind': 'cond_235'}, {'id': 'c18', 'diagnosed': '2009-12-31', 'cured': None, 'kind': 'cond_208'}, {'id': 'c19', 'diagnosed': '2009-12-31', 'cured': '2019-12-31', 'kind': 'cond_229'}, {'id': 'c20', 'diagnosed': '2009-12-31', 'cured': '2019-12-31', 'kind': 'cond_13'}, {'id': 'c21', 'diagnosed': '2009-12-31', 'cured': '2019-12-31', 'kind': 'cond_201'}, {'id': 'c22', 'diagnosed': '2009-12-31', 'cured': '2019-12-31', 'kind': 'cond_127'}, {'id': 'c23', 'diagnosed': '2009-12-31', 'cured': '2019-12-31', 'kind': 'cond_64'}, {'id': 'c24', 'diagnosed': '2009-12-31', 'cured': None, 'kind': 'cond_202'}, {'id': 'c25', 'diagnosed': '2009-12-31', 'cured': '2019-12-31', 'kind': 'cond_218'}, {'id': 'c26', 'diagnosed': '2009-12-31', 'cured': '2019-12-31', 'kind': 'cond_181'}, {'id': 'c27', 'diagnosed': '2009-12-31', 'cured': '2019-12-31', 'kind': 'cond_184'}, {'id': 'c28', 'diagnosed': '2009-12-31', 'cured': '2019-12-31', 'kind': 'cond_140'}, {'id': 'c29', 'diagnosed': '2009-12-31', 'cured': '2019-12-31', 'kind': 'cond_100'}, {'id': 'c30', 'diagnosed': '2009-12-31', 'cured': '2019-12-31', 'kind': 'cond_30'}, {'id': 'c31', 'diagnosed': '2009-12-31', 'cured': '2019-12-29', 'kind': 'cond_38'}, {'id': 'c32', 'diagnosed': '2009-12-31', 'cured': '2019-12-24', 'kind': 'cond_90'}, {'id': 'c33', 'diagnosed': '2009-12-31', 'cured': None, 'kind': 'cond_40'}, {'id': 'c34', 'diagnosed': '2009-12-31', 'cured': None, 'kind': 'cond_37'}, {'id': 'c35', 'diagnosed': '2009-12-31', 'cured': '2019-10-16', 'kind': 'cond_55'}, {'id': 'c36', 'diagnosed': '2009-12-31', 'cured': None, 'kind': 'cond_94'}, {'id': 'c37', 'diagnosed': '2009-12-31', 'cured': None, 'kind': 'cond_6'}, {'id': 'c38', 'diagnosed': '2009-12-31', 'cured': '2019-12-31', 'kind': 'cond_41'}, {'id': 'c39', 'diagnosed': '2009-12-31', 'cured': '2018-06-25', 'kind': 'cond_34'}]),\n",
       "       list([{'id': 'c1', 'diagnosed': '2003-01-13', 'cured': '2019-12-15', 'kind': 'cond_254'}]),\n",
       "       list([{'id': 'c1', 'diagnosed': '2005-05-24', 'cured': None, 'kind': 'cond_288'}, {'id': 'c2', 'diagnosed': '2009-10-02', 'cured': '2019-12-30', 'kind': 'cond_15'}, {'id': 'c3', 'diagnosed': '2009-12-21', 'cured': None, 'kind': 'cond_32'}, {'id': 'c4', 'diagnosed': '2009-12-22', 'cured': '2013-08-11', 'kind': 'cond_167'}, {'id': 'c5', 'diagnosed': '2009-12-23', 'cured': None, 'kind': 'cond_180'}, {'id': 'c6', 'diagnosed': '2009-12-30', 'cured': '2019-10-24', 'kind': 'cond_68'}, {'id': 'c7', 'diagnosed': '2009-12-30', 'cured': '2019-12-31', 'kind': 'cond_108'}, {'id': 'c8', 'diagnosed': '2009-12-31', 'cured': '2019-09-23', 'kind': 'cond_307'}, {'id': 'c9', 'diagnosed': '2009-12-31', 'cured': None, 'kind': 'cond_201'}, {'id': 'c10', 'diagnosed': '2009-12-31', 'cured': None, 'kind': 'cond_177'}, {'id': 'c11', 'diagnosed': '2009-12-31', 'cured': '2019-12-31', 'kind': 'cond_232'}, {'id': 'c12', 'diagnosed': '2009-12-31', 'cured': None, 'kind': 'cond_282'}, {'id': 'c13', 'diagnosed': '2009-12-31', 'cured': '2018-01-26', 'kind': 'cond_188'}, {'id': 'c14', 'diagnosed': '2009-12-31', 'cured': '2019-12-31', 'kind': 'cond_228'}, {'id': 'c15', 'diagnosed': '2009-12-31', 'cured': '2017-05-09', 'kind': 'cond_168'}, {'id': 'c16', 'diagnosed': '2009-12-31', 'cured': '2019-12-31', 'kind': 'cond_301'}, {'id': 'c17', 'diagnosed': '2009-12-31', 'cured': '2019-11-17', 'kind': 'cond_93'}, {'id': 'c18', 'diagnosed': '2009-12-31', 'cured': '2019-01-28', 'kind': 'cond_27'}, {'id': 'c19', 'diagnosed': '2009-12-31', 'cured': '2019-12-25', 'kind': 'cond_104'}])],\n",
       "      dtype=object)"
      ]
     },
     "execution_count": 64,
     "metadata": {},
     "output_type": "execute_result"
    }
   ],
   "source": [
    "patients_df.conditions.values"
   ]
  }
 ],
 "metadata": {
  "kernelspec": {
   "display_name": "Python 3.9.12 ('DATA_MINING')",
   "language": "python",
   "name": "python3"
  },
  "language_info": {
   "codemirror_mode": {
    "name": "ipython",
    "version": 3
   },
   "file_extension": ".py",
   "mimetype": "text/x-python",
   "name": "python",
   "nbconvert_exporter": "python",
   "pygments_lexer": "ipython3",
   "version": "3.9.12"
  },
  "orig_nbformat": 4,
  "vscode": {
   "interpreter": {
    "hash": "9478262fb3c52ab4ffeada6175b6b0d234b7147cd16c4fdbc145fe9c59d9ba51"
   }
  }
 },
 "nbformat": 4,
 "nbformat_minor": 2
}
