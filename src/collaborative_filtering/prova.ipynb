{
 "cells": [
  {
   "cell_type": "markdown",
   "metadata": {},
   "source": [
    "Provo a creare una matrice alternativa:\n",
    "- pazienti sulle righe\n",
    "- ogni combinazione di condition-trials sulle colonne"
   ]
  },
  {
   "cell_type": "code",
   "execution_count": 22,
   "metadata": {},
   "outputs": [],
   "source": [
    "import json\n",
    "sys.path.append('../')\n",
    "from utilities import cond_ther_collection\n",
    "import pandas as pd\n",
    "import itertools\n",
    "from tqdm import tqdm\n",
    "import numpy as np\n",
    "import scipy.spatial.distance as distance"
   ]
  },
  {
   "cell_type": "code",
   "execution_count": 4,
   "metadata": {},
   "outputs": [],
   "source": [
    "# open dataset\n",
    "with open('../../data/full_data.json', 'r') as file:\n",
    "    data = json.load(file)"
   ]
  },
  {
   "cell_type": "code",
   "execution_count": 5,
   "metadata": {},
   "outputs": [],
   "source": [
    "conditions_df = pd.DataFrame(data['Conditions'])\n",
    "therapies_df = pd.DataFrame(data['Therapies'])\n",
    "patients_df = pd.DataFrame(data['Patients'])"
   ]
  },
  {
   "cell_type": "code",
   "execution_count": 6,
   "metadata": {},
   "outputs": [
    {
     "ename": "NameError",
     "evalue": "name 'c' is not defined",
     "output_type": "error",
     "traceback": [
      "\u001b[1;31m---------------------------------------------------------------------------\u001b[0m",
      "\u001b[1;31mNameError\u001b[0m                                 Traceback (most recent call last)",
      "\u001b[1;32mc:\\Users\\elypa\\OneDrive\\Desktop\\DM updated\\updates\\Data Mining\\DataMining-Project\\src\\collaborative_filtering\\prova.ipynb Cell 5'\u001b[0m in \u001b[0;36m<cell line: 1>\u001b[1;34m()\u001b[0m\n\u001b[1;32m----> <a href='vscode-notebook-cell:/c%3A/Users/elypa/OneDrive/Desktop/DM%20updated/updates/Data%20Mining/DataMining-Project/src/collaborative_filtering/prova.ipynb#ch0000004?line=0'>1</a>\u001b[0m prova \u001b[39m=\u001b[39m pd\u001b[39m.\u001b[39mDataFrame(columns \u001b[39m=\u001b[39m c, index\u001b[39m=\u001b[39m pat_cured)\n\u001b[0;32m      <a href='vscode-notebook-cell:/c%3A/Users/elypa/OneDrive/Desktop/DM%20updated/updates/Data%20Mining/DataMining-Project/src/collaborative_filtering/prova.ipynb#ch0000004?line=1'>2</a>\u001b[0m \u001b[39m#prova = prova.fillna(0)\u001b[39;00m\n\u001b[0;32m      <a href='vscode-notebook-cell:/c%3A/Users/elypa/OneDrive/Desktop/DM%20updated/updates/Data%20Mining/DataMining-Project/src/collaborative_filtering/prova.ipynb#ch0000004?line=2'>3</a>\u001b[0m prova\n",
      "\u001b[1;31mNameError\u001b[0m: name 'c' is not defined"
     ]
    }
   ],
   "source": [
    "prova = pd.DataFrame(columns = c, index= pat_cured)\n",
    "#prova = prova.fillna(0)\n",
    "prova"
   ]
  },
  {
   "cell_type": "code",
   "execution_count": null,
   "metadata": {},
   "outputs": [
    {
     "data": {
      "text/plain": [
       "('cond_0', 'ther_1')"
      ]
     },
     "execution_count": 15,
     "metadata": {},
     "output_type": "execute_result"
    }
   ],
   "source": [
    "prova.columns[1]"
   ]
  },
  {
   "cell_type": "code",
   "execution_count": null,
   "metadata": {},
   "outputs": [
    {
     "data": {
      "text/plain": [
       "20703"
      ]
     },
     "execution_count": 11,
     "metadata": {},
     "output_type": "execute_result"
    }
   ],
   "source": [
    "conditions_df.id.values\n",
    "therapies_df.id.values\n",
    "\n",
    "c = list(itertools.product(conditions_df.id.values, therapies_df.id.values))\n",
    "len(c)"
   ]
  },
  {
   "cell_type": "code",
   "execution_count": null,
   "metadata": {},
   "outputs": [],
   "source": [
    "def utility_matrix2():\n",
    "    # # open dataset\n",
    "    # with open('../../data/full_data.json', 'r') as file:\n",
    "    #     data = json.load(file)\n",
    "    \n",
    "    conditions_df = pd.DataFrame(data['Conditions'])\n",
    "    therapies_df = pd.DataFrame(data['Therapies'])\n",
    "    patients_df = pd.DataFrame(data['Patients'])\n",
    "    \n",
    "    # initialize empty utility matrix\n",
    "    c = list(itertools.product(conditions_df.id.values, therapies_df.id.values))\n",
    "    prova = pd.DataFrame(columns = c, index= pat_cured)\n",
    "    \n",
    "    for p in tqdm(pat_cured, desc=\"Filling utility matrix\"):\n",
    "        # extract data for the patient\n",
    "        pat = patients_df[patients_df.id == p]\n",
    "\n",
    "        # trials and cond\n",
    "        trials = pd.DataFrame(pat.trials.values[0])\n",
    "        cond = pd.DataFrame(pat.conditions.values[0])\n",
    "        \n",
    "        # add true cond_id to trial data\n",
    "        trials['cond_id'] = \"\"\n",
    "\n",
    "        for idx,row in trials.iterrows():\n",
    "            pat_cond = row['condition']\n",
    "            cond_id = cond[cond.id == pat_cond].kind.values[0]\n",
    "            trials.loc[idx,'cond_id'] = cond_id\n",
    "            \n",
    "        # fill utility matrix\n",
    "        for idx,row in trials.iterrows():\n",
    "            matrix_pat = prova\n",
    "            \n",
    "            cond = row['cond_id']\n",
    "            ther = row['therapy']\n",
    "            succ = row['successful']\n",
    "            col = (cond, ther)\n",
    "            matrix_pat.at[p, col] = succ\n",
    "        # normalize\n",
    "        norm_matrix = matrix_pat.sub(matrix_pat.mean(axis=1), axis=0)\n",
    "        final_matrix = norm_matrix.fillna(0)\n",
    "    return final_matrix"
   ]
  },
  {
   "cell_type": "code",
   "execution_count": 11,
   "metadata": {},
   "outputs": [],
   "source": [
    "def utility_matrix_single_p(patients_id):\n",
    "    # # open dataset\n",
    "    # with open('../../data/full_data.json', 'r') as file:\n",
    "    #     data = json.load(file)\n",
    "    \n",
    "    conditions_df = pd.DataFrame(data['Conditions'])\n",
    "    therapies_df = pd.DataFrame(data['Therapies'])\n",
    "    patients_df = pd.DataFrame(data['Patients'])\n",
    "    \n",
    "    # initialize empty utility matrix\n",
    "    c = list(itertools.product(conditions_df.id.values, therapies_df.id.values))\n",
    "    prova = pd.DataFrame(columns = c, index= list([patients_id]))\n",
    "    \n",
    "    # extract data for the patient\n",
    "    pat = patients_df[patients_df.id == patients_id]\n",
    "\n",
    "    # trials and cond\n",
    "    trials = pd.DataFrame(pat.trials.values[0])\n",
    "    cond = pd.DataFrame(pat.conditions.values[0])\n",
    "    \n",
    "    # add true cond_id to trial data\n",
    "    trials['cond_id'] = \"\"\n",
    "\n",
    "    for idx,row in trials.iterrows():\n",
    "        pat_cond = row['condition']\n",
    "        cond_id = cond[cond.id == pat_cond].kind.values[0]\n",
    "        trials.loc[idx,'cond_id'] = cond_id\n",
    "        \n",
    "    # fill utility matrix\n",
    "    for idx,row in trials.iterrows():\n",
    "        matrix_pat = prova\n",
    "        \n",
    "        cond = row['cond_id']\n",
    "        ther = row['therapy']\n",
    "        succ = row['successful']\n",
    "        col = (cond, ther)\n",
    "        matrix_pat.at[patients_id, col] = succ\n",
    "    # normalize\n",
    "    # norm_matrix = matrix_pat.sub(matrix_pat.mean(axis=1), axis=0)\n",
    "    # final_matrix = norm_matrix.fillna(0)\n",
    "    final_matrix = matrix_pat.fillna(0)\n",
    "    return final_matrix"
   ]
  },
  {
   "cell_type": "code",
   "execution_count": null,
   "metadata": {},
   "outputs": [],
   "source": [
    "pat_cured = []\n",
    "for i in patients_df.id.values:\n",
    "    if any(d['kind'] == 'cond_14' and d['cured'] != None for d in patients_df[patients_df.id == i].conditions.values[0]):\n",
    "        #print(i)\n",
    "        \n",
    "        pat_cured.append(i)"
   ]
  },
  {
   "cell_type": "code",
   "execution_count": null,
   "metadata": {},
   "outputs": [
    {
     "name": "stderr",
     "output_type": "stream",
     "text": [
      "Filling utility matrix: 100%|██████████| 108/108 [03:11<00:00,  1.77s/it]\n"
     ]
    }
   ],
   "source": [
    "u_mat = utility_matrix()"
   ]
  },
  {
   "cell_type": "code",
   "execution_count": null,
   "metadata": {},
   "outputs": [],
   "source": [
    "cos_sim = []\n",
    "for p in pat_cured:\n",
    "    pat_row = u_mat[u_mat.index == p]\n",
    "    vect = pat_row.to_numpy()\n",
    "    cos = 1 - distance.cosine(vect_0, vect)\n",
    "    cos_sim.append(cos)"
   ]
  },
  {
   "cell_type": "code",
   "execution_count": null,
   "metadata": {},
   "outputs": [
    {
     "data": {
      "text/plain": [
       "[0.0,\n",
       " 0.0,\n",
       " 0.0,\n",
       " 0.0,\n",
       " 0.0,\n",
       " 0.0,\n",
       " 0.0,\n",
       " 0.0,\n",
       " 0.03973325322155363,\n",
       " 0.0,\n",
       " 0.020497668846309658,\n",
       " 0.00036031904961997263,\n",
       " 0.0,\n",
       " 0.0,\n",
       " 0.0,\n",
       " 0.0,\n",
       " 0.0,\n",
       " 0.0,\n",
       " 0.0,\n",
       " 0.0,\n",
       " 0.0,\n",
       " 0.0,\n",
       " 0.0,\n",
       " 0.0,\n",
       " 0.0,\n",
       " 0.0,\n",
       " 0.0,\n",
       " 0.0,\n",
       " 0.0,\n",
       " 0.0,\n",
       " 0.0,\n",
       " 0.03652859857837398,\n",
       " 0.0,\n",
       " 0.0,\n",
       " 0.0,\n",
       " 0.0,\n",
       " 0.0,\n",
       " 0.0,\n",
       " -0.017567145417449526,\n",
       " 0.0,\n",
       " 0.0,\n",
       " 0.0,\n",
       " 0.0,\n",
       " 0.0,\n",
       " 0.0,\n",
       " 0.0,\n",
       " 0.0,\n",
       " 0.0,\n",
       " 0.0,\n",
       " 0.0,\n",
       " -0.0006886054703083566,\n",
       " 0.0,\n",
       " 0.0,\n",
       " 0.0,\n",
       " 0.0,\n",
       " 0.0,\n",
       " 0.0,\n",
       " 0.0,\n",
       " 0.0,\n",
       " 0.0,\n",
       " 0.0,\n",
       " 0.0,\n",
       " 0.0,\n",
       " -0.0008600003427203795,\n",
       " 0.0,\n",
       " 0.0,\n",
       " 0.0,\n",
       " 0.0,\n",
       " 0.0,\n",
       " 0.0,\n",
       " 0.0,\n",
       " 0.0,\n",
       " 0.0,\n",
       " 0.0,\n",
       " 0.0,\n",
       " 0.0,\n",
       " 0.0,\n",
       " 0.0,\n",
       " 0.0,\n",
       " 0.0,\n",
       " 0.0,\n",
       " 0.0,\n",
       " 0.0,\n",
       " 0.0,\n",
       " 0.0,\n",
       " -0.0009642468321808817,\n",
       " 0.0,\n",
       " 0.0,\n",
       " 0.010045470597916495,\n",
       " 0.0,\n",
       " 0.0,\n",
       " 0.0,\n",
       " 0.0,\n",
       " -0.00020531215095820343,\n",
       " 0.0,\n",
       " 0.0,\n",
       " 0.0,\n",
       " 0.0,\n",
       " 0.0,\n",
       " 0.0,\n",
       " 0.0,\n",
       " 0.0,\n",
       " 0.0,\n",
       " 0.0,\n",
       " -0.007413388963727119,\n",
       " 0.0,\n",
       " 0.0,\n",
       " 0.0]"
      ]
     },
     "execution_count": 165,
     "metadata": {},
     "output_type": "execute_result"
    }
   ],
   "source": [
    "cos_sim"
   ]
  },
  {
   "cell_type": "code",
   "execution_count": null,
   "metadata": {},
   "outputs": [
    {
     "data": {
      "text/plain": [
       "20703"
      ]
     },
     "execution_count": 157,
     "metadata": {},
     "output_type": "execute_result"
    }
   ],
   "source": [
    "pi = u_mat[u_mat.index == \"pat_14\"]\n",
    "vect = pi.to_numpy()"
   ]
  },
  {
   "cell_type": "code",
   "execution_count": null,
   "metadata": {},
   "outputs": [],
   "source": [
    "mat_0 = utility_matrix_single_p(\"pat_0\")\n",
    "vect_0 = mat_0.to_numpy()"
   ]
  },
  {
   "cell_type": "code",
   "execution_count": null,
   "metadata": {},
   "outputs": [
    {
     "data": {
      "text/html": [
       "<div>\n",
       "<style scoped>\n",
       "    .dataframe tbody tr th:only-of-type {\n",
       "        vertical-align: middle;\n",
       "    }\n",
       "\n",
       "    .dataframe tbody tr th {\n",
       "        vertical-align: top;\n",
       "    }\n",
       "\n",
       "    .dataframe thead th {\n",
       "        text-align: right;\n",
       "    }\n",
       "</style>\n",
       "<table border=\"1\" class=\"dataframe\">\n",
       "  <thead>\n",
       "    <tr style=\"text-align: right;\">\n",
       "      <th></th>\n",
       "      <th>(cond_0, ther_0)</th>\n",
       "      <th>(cond_0, ther_1)</th>\n",
       "      <th>(cond_0, ther_2)</th>\n",
       "      <th>(cond_0, ther_3)</th>\n",
       "      <th>(cond_0, ther_4)</th>\n",
       "      <th>(cond_0, ther_5)</th>\n",
       "      <th>(cond_0, ther_6)</th>\n",
       "      <th>(cond_0, ther_7)</th>\n",
       "      <th>(cond_0, ther_8)</th>\n",
       "      <th>(cond_0, ther_9)</th>\n",
       "      <th>...</th>\n",
       "      <th>(cond_308, ther_57)</th>\n",
       "      <th>(cond_308, ther_58)</th>\n",
       "      <th>(cond_308, ther_59)</th>\n",
       "      <th>(cond_308, ther_60)</th>\n",
       "      <th>(cond_308, ther_61)</th>\n",
       "      <th>(cond_308, ther_62)</th>\n",
       "      <th>(cond_308, ther_63)</th>\n",
       "      <th>(cond_308, ther_64)</th>\n",
       "      <th>(cond_308, ther_65)</th>\n",
       "      <th>(cond_308, ther_66)</th>\n",
       "    </tr>\n",
       "  </thead>\n",
       "  <tbody>\n",
       "    <tr>\n",
       "      <th>pat_0</th>\n",
       "      <td>0</td>\n",
       "      <td>0</td>\n",
       "      <td>0</td>\n",
       "      <td>0</td>\n",
       "      <td>0</td>\n",
       "      <td>0</td>\n",
       "      <td>0</td>\n",
       "      <td>0</td>\n",
       "      <td>0</td>\n",
       "      <td>0</td>\n",
       "      <td>...</td>\n",
       "      <td>0</td>\n",
       "      <td>0</td>\n",
       "      <td>0</td>\n",
       "      <td>0</td>\n",
       "      <td>0</td>\n",
       "      <td>0</td>\n",
       "      <td>0</td>\n",
       "      <td>0</td>\n",
       "      <td>0</td>\n",
       "      <td>0</td>\n",
       "    </tr>\n",
       "  </tbody>\n",
       "</table>\n",
       "<p>1 rows × 20703 columns</p>\n",
       "</div>"
      ],
      "text/plain": [
       "       (cond_0, ther_0)  (cond_0, ther_1)  (cond_0, ther_2)  (cond_0, ther_3)  \\\n",
       "pat_0                 0                 0                 0                 0   \n",
       "\n",
       "       (cond_0, ther_4)  (cond_0, ther_5)  (cond_0, ther_6)  (cond_0, ther_7)  \\\n",
       "pat_0                 0                 0                 0                 0   \n",
       "\n",
       "       (cond_0, ther_8)  (cond_0, ther_9)  ...  (cond_308, ther_57)  \\\n",
       "pat_0                 0                 0  ...                    0   \n",
       "\n",
       "       (cond_308, ther_58)  (cond_308, ther_59)  (cond_308, ther_60)  \\\n",
       "pat_0                    0                    0                    0   \n",
       "\n",
       "       (cond_308, ther_61)  (cond_308, ther_62)  (cond_308, ther_63)  \\\n",
       "pat_0                    0                    0                    0   \n",
       "\n",
       "       (cond_308, ther_64)  (cond_308, ther_65)  (cond_308, ther_66)  \n",
       "pat_0                    0                    0                    0  \n",
       "\n",
       "[1 rows x 20703 columns]"
      ]
     },
     "execution_count": 160,
     "metadata": {},
     "output_type": "execute_result"
    }
   ],
   "source": [
    "mat_0 # 20767\n"
   ]
  },
  {
   "cell_type": "code",
   "execution_count": null,
   "metadata": {},
   "outputs": [
    {
     "data": {
      "text/html": [
       "<div>\n",
       "<style scoped>\n",
       "    .dataframe tbody tr th:only-of-type {\n",
       "        vertical-align: middle;\n",
       "    }\n",
       "\n",
       "    .dataframe tbody tr th {\n",
       "        vertical-align: top;\n",
       "    }\n",
       "\n",
       "    .dataframe thead th {\n",
       "        text-align: right;\n",
       "    }\n",
       "</style>\n",
       "<table border=\"1\" class=\"dataframe\">\n",
       "  <thead>\n",
       "    <tr style=\"text-align: right;\">\n",
       "      <th></th>\n",
       "      <th>(cond_0, ther_0)</th>\n",
       "      <th>(cond_0, ther_1)</th>\n",
       "      <th>(cond_0, ther_2)</th>\n",
       "      <th>(cond_0, ther_3)</th>\n",
       "      <th>(cond_0, ther_4)</th>\n",
       "      <th>(cond_0, ther_5)</th>\n",
       "      <th>(cond_0, ther_6)</th>\n",
       "      <th>(cond_0, ther_7)</th>\n",
       "      <th>(cond_0, ther_8)</th>\n",
       "      <th>(cond_0, ther_9)</th>\n",
       "      <th>...</th>\n",
       "      <th>(cond_308, ther_57)</th>\n",
       "      <th>(cond_308, ther_58)</th>\n",
       "      <th>(cond_308, ther_59)</th>\n",
       "      <th>(cond_308, ther_60)</th>\n",
       "      <th>(cond_308, ther_61)</th>\n",
       "      <th>(cond_308, ther_62)</th>\n",
       "      <th>(cond_308, ther_63)</th>\n",
       "      <th>(cond_308, ther_64)</th>\n",
       "      <th>(cond_308, ther_65)</th>\n",
       "      <th>(cond_308, ther_66)</th>\n",
       "    </tr>\n",
       "  </thead>\n",
       "  <tbody>\n",
       "    <tr>\n",
       "      <th>pat_14</th>\n",
       "      <td>0</td>\n",
       "      <td>0</td>\n",
       "      <td>0.0</td>\n",
       "      <td>0.0</td>\n",
       "      <td>0</td>\n",
       "      <td>0</td>\n",
       "      <td>0</td>\n",
       "      <td>0</td>\n",
       "      <td>0</td>\n",
       "      <td>0.0</td>\n",
       "      <td>...</td>\n",
       "      <td>0</td>\n",
       "      <td>0.0</td>\n",
       "      <td>0</td>\n",
       "      <td>0</td>\n",
       "      <td>0.0</td>\n",
       "      <td>0.0</td>\n",
       "      <td>0.0</td>\n",
       "      <td>0.0</td>\n",
       "      <td>0</td>\n",
       "      <td>0.0</td>\n",
       "    </tr>\n",
       "  </tbody>\n",
       "</table>\n",
       "<p>1 rows × 20703 columns</p>\n",
       "</div>"
      ],
      "text/plain": [
       "        (cond_0, ther_0)  (cond_0, ther_1)  (cond_0, ther_2)  \\\n",
       "pat_14                 0                 0               0.0   \n",
       "\n",
       "        (cond_0, ther_3)  (cond_0, ther_4)  (cond_0, ther_5)  \\\n",
       "pat_14               0.0                 0                 0   \n",
       "\n",
       "        (cond_0, ther_6)  (cond_0, ther_7)  (cond_0, ther_8)  \\\n",
       "pat_14                 0                 0                 0   \n",
       "\n",
       "        (cond_0, ther_9)  ...  (cond_308, ther_57)  (cond_308, ther_58)  \\\n",
       "pat_14               0.0  ...                    0                  0.0   \n",
       "\n",
       "        (cond_308, ther_59)  (cond_308, ther_60)  (cond_308, ther_61)  \\\n",
       "pat_14                    0                    0                  0.0   \n",
       "\n",
       "        (cond_308, ther_62)  (cond_308, ther_63)  (cond_308, ther_64)  \\\n",
       "pat_14                  0.0                  0.0                  0.0   \n",
       "\n",
       "        (cond_308, ther_65)  (cond_308, ther_66)  \n",
       "pat_14                    0                  0.0  \n",
       "\n",
       "[1 rows x 20703 columns]"
      ]
     },
     "execution_count": 161,
     "metadata": {},
     "output_type": "execute_result"
    }
   ],
   "source": [
    "pi # 25607 "
   ]
  },
  {
   "cell_type": "code",
   "execution_count": 162,
   "metadata": {},
   "outputs": [
    {
     "data": {
      "text/plain": [
       "0.0"
      ]
     },
     "execution_count": 162,
     "metadata": {},
     "output_type": "execute_result"
    }
   ],
   "source": [
    "import numpy as np\n",
    "import scipy.spatial.distance as distance\n",
    "c = 1 - distance.cosine(vect_0, vect)\n",
    "c"
   ]
  },
  {
   "cell_type": "markdown",
   "metadata": {},
   "source": [
    "---"
   ]
  },
  {
   "cell_type": "code",
   "execution_count": 25,
   "metadata": {},
   "outputs": [],
   "source": [
    "\n",
    "def my_program2(data, patient_id, condition):\n",
    "    reccomended_ther = pd.DataFrame(columns = ['id', 'name', 'type', 'details'])\n",
    "\n",
    "    # open dataset\n",
    "    # with open(dataset_path, 'r') as file:\n",
    "    #     data = json.load(file)\n",
    "    patients_df = pd.DataFrame(data['Patients'])\n",
    "    conditions_df = pd.DataFrame(data['Conditions'])\n",
    "    therapies_df = pd.DataFrame(data['Therapies'])\n",
    "    # check if patients and condition exists\n",
    "    if patient_id not in patients_df.id.values:\n",
    "        print(\"Patient ID is not in the data\")\n",
    "    else:\n",
    "        if condition not in conditions_df.name.values:\n",
    "            print(\"Condition is not in the data\")\n",
    "        else:\n",
    "            # check if condition was already succesfully cured by a therapy (for the given patient)\n",
    "            cond_id = conditions_df[conditions_df.name==condition].id.values[0]\n",
    "            if any(d['kind'] == cond_id and d['cured'] != None for d in patients_df[patients_df.id == patient_id].conditions.values[0]):\n",
    "                \n",
    "                succ_cond_id = list(filter(lambda d: d['kind'] == cond_id, patients_df[patients_df.id == patient_id].conditions.values[0]))[0]['id'] \n",
    "                ther_id = list(filter(lambda d: d['condition'] == succ_cond_id and d['successful']>90, patients_df[patients_df.id == patient_id].trials.values[0]))[0]['therapy']\n",
    "\n",
    "                ther_row = therapies_df[therapies_df.id == ther_id]\n",
    "                ther_row['details'] = f\"cured with success on itself\" \n",
    "                reccomended_ther = reccomended_ther.append(ther_row, ignore_index = True)\n",
    "                #return reccomended_ther\n",
    "            # else:\n",
    "            # find cured patients subset\n",
    "            pat_cured = []\n",
    "            for i in patients_df.id.values:\n",
    "                if any(d['kind'] == cond_id and d['cured'] != None for d in patients_df[patients_df.id == i].conditions.values[0]):\n",
    "                    #print(i)\n",
    "                    \n",
    "                    pat_cured.append(i)\n",
    "            # build patient utility matrix\n",
    "            patient_id_u_mat = utility_matrix_single_p(patient_id).to_numpy()\n",
    "            # build cured patient utility matrix and calculate cosine similarity with patient id matrix\n",
    "            cosine_sim = []\n",
    "\n",
    "            for i in tqdm(pat_cured, desc=\"Caclulating cosine distances\"):\n",
    "                cured_u_mat = utility_matrix_single_p(i).to_numpy()\n",
    "                cosine_sim_pat = 1 - distance.cosine(patient_id_u_mat, cured_u_mat)\n",
    "                cosine_sim.append(cosine_sim_pat)\n",
    "            \n",
    "            cos_sim_df = pd.DataFrame({\"pat_cured\" : pat_cured, \n",
    "                \"cosine_similarity\": cosine_sim})\n",
    "            cos_sim_df_sort = cos_sim_df.sort_values(\"cosine_similarity\", ascending=False)\n",
    "            \n",
    "            # extract therapies that cured the most similar patients\n",
    "            for pat in cos_sim_df_sort.pat_cured.values:\n",
    "                if len(reccomended_ther) < 5:\n",
    "                    succ_cond_id = list(filter(lambda d: d['kind'] == cond_id, patients_df[patients_df.id == pat].conditions.values[0]))[0]['id'] \n",
    "                    ther_id = list(filter(lambda d: d['condition'] == succ_cond_id and d['successful']>90, patients_df[patients_df.id == pat].trials.values[0]))[0]['therapy']\n",
    "                    \n",
    "                    similarity = cos_sim_df_sort[cos_sim_df_sort.pat_cured == pat]['cosine_similarity'].values[0]\n",
    "                    ther_row = therapies_df[therapies_df.id == ther_id]\n",
    "                    ther_row['details'] = f\"cured with success on {pat} ({similarity} cosine similarity with {patient_id})\" \n",
    "                    # add only therapies that are not in the reccomandation yet\n",
    "                    if ther_id not in reccomended_ther.id.values:\n",
    "                        reccomended_ther = reccomended_ther.append(ther_row, ignore_index = True)\n",
    "\n",
    "    return reccomended_ther\n",
    "                "
   ]
  },
  {
   "cell_type": "code",
   "execution_count": 7,
   "metadata": {},
   "outputs": [],
   "source": [
    "# open dataset\n",
    "with open('../../data/full_data.json', 'r') as file:\n",
    "    data = json.load(file)"
   ]
  },
  {
   "cell_type": "code",
   "execution_count": 8,
   "metadata": {},
   "outputs": [],
   "source": [
    "conditions_df = pd.DataFrame(data['Conditions'])\n",
    "therapies_df = pd.DataFrame(data['Therapies'])\n",
    "patients_df = pd.DataFrame(data['Patients'])"
   ]
  },
  {
   "cell_type": "code",
   "execution_count": 16,
   "metadata": {},
   "outputs": [],
   "source": [
    "mat_0 = utility_matrix_single_p(\"pat_0\")\n",
    "vect_0 = mat_0.to_numpy()"
   ]
  },
  {
   "cell_type": "code",
   "execution_count": 26,
   "metadata": {},
   "outputs": [
    {
     "name": "stderr",
     "output_type": "stream",
     "text": [
      "Caclulating cosine distances: 100%|██████████| 135/135 [02:39<00:00,  1.18s/it]\n",
      "C:\\Users\\elypa\\AppData\\Local\\Temp\\ipykernel_18176\\1438644944.py:58: SettingWithCopyWarning: \n",
      "A value is trying to be set on a copy of a slice from a DataFrame.\n",
      "Try using .loc[row_indexer,col_indexer] = value instead\n",
      "\n",
      "See the caveats in the documentation: https://pandas.pydata.org/pandas-docs/stable/user_guide/indexing.html#returning-a-view-versus-a-copy\n",
      "  ther_row['details'] = f\"cured with success on {pat} ({similarity} cosine similarity with {patient_id})\"\n",
      "C:\\Users\\elypa\\AppData\\Local\\Temp\\ipykernel_18176\\1438644944.py:61: FutureWarning: The frame.append method is deprecated and will be removed from pandas in a future version. Use pandas.concat instead.\n",
      "  reccomended_ther = reccomended_ther.append(ther_row, ignore_index = True)\n",
      "C:\\Users\\elypa\\AppData\\Local\\Temp\\ipykernel_18176\\1438644944.py:58: SettingWithCopyWarning: \n",
      "A value is trying to be set on a copy of a slice from a DataFrame.\n",
      "Try using .loc[row_indexer,col_indexer] = value instead\n",
      "\n",
      "See the caveats in the documentation: https://pandas.pydata.org/pandas-docs/stable/user_guide/indexing.html#returning-a-view-versus-a-copy\n",
      "  ther_row['details'] = f\"cured with success on {pat} ({similarity} cosine similarity with {patient_id})\"\n",
      "C:\\Users\\elypa\\AppData\\Local\\Temp\\ipykernel_18176\\1438644944.py:61: FutureWarning: The frame.append method is deprecated and will be removed from pandas in a future version. Use pandas.concat instead.\n",
      "  reccomended_ther = reccomended_ther.append(ther_row, ignore_index = True)\n",
      "C:\\Users\\elypa\\AppData\\Local\\Temp\\ipykernel_18176\\1438644944.py:58: SettingWithCopyWarning: \n",
      "A value is trying to be set on a copy of a slice from a DataFrame.\n",
      "Try using .loc[row_indexer,col_indexer] = value instead\n",
      "\n",
      "See the caveats in the documentation: https://pandas.pydata.org/pandas-docs/stable/user_guide/indexing.html#returning-a-view-versus-a-copy\n",
      "  ther_row['details'] = f\"cured with success on {pat} ({similarity} cosine similarity with {patient_id})\"\n",
      "C:\\Users\\elypa\\AppData\\Local\\Temp\\ipykernel_18176\\1438644944.py:61: FutureWarning: The frame.append method is deprecated and will be removed from pandas in a future version. Use pandas.concat instead.\n",
      "  reccomended_ther = reccomended_ther.append(ther_row, ignore_index = True)\n",
      "C:\\Users\\elypa\\AppData\\Local\\Temp\\ipykernel_18176\\1438644944.py:58: SettingWithCopyWarning: \n",
      "A value is trying to be set on a copy of a slice from a DataFrame.\n",
      "Try using .loc[row_indexer,col_indexer] = value instead\n",
      "\n",
      "See the caveats in the documentation: https://pandas.pydata.org/pandas-docs/stable/user_guide/indexing.html#returning-a-view-versus-a-copy\n",
      "  ther_row['details'] = f\"cured with success on {pat} ({similarity} cosine similarity with {patient_id})\"\n",
      "C:\\Users\\elypa\\AppData\\Local\\Temp\\ipykernel_18176\\1438644944.py:58: SettingWithCopyWarning: \n",
      "A value is trying to be set on a copy of a slice from a DataFrame.\n",
      "Try using .loc[row_indexer,col_indexer] = value instead\n",
      "\n",
      "See the caveats in the documentation: https://pandas.pydata.org/pandas-docs/stable/user_guide/indexing.html#returning-a-view-versus-a-copy\n",
      "  ther_row['details'] = f\"cured with success on {pat} ({similarity} cosine similarity with {patient_id})\"\n",
      "C:\\Users\\elypa\\AppData\\Local\\Temp\\ipykernel_18176\\1438644944.py:61: FutureWarning: The frame.append method is deprecated and will be removed from pandas in a future version. Use pandas.concat instead.\n",
      "  reccomended_ther = reccomended_ther.append(ther_row, ignore_index = True)\n",
      "C:\\Users\\elypa\\AppData\\Local\\Temp\\ipykernel_18176\\1438644944.py:58: SettingWithCopyWarning: \n",
      "A value is trying to be set on a copy of a slice from a DataFrame.\n",
      "Try using .loc[row_indexer,col_indexer] = value instead\n",
      "\n",
      "See the caveats in the documentation: https://pandas.pydata.org/pandas-docs/stable/user_guide/indexing.html#returning-a-view-versus-a-copy\n",
      "  ther_row['details'] = f\"cured with success on {pat} ({similarity} cosine similarity with {patient_id})\"\n",
      "C:\\Users\\elypa\\AppData\\Local\\Temp\\ipykernel_18176\\1438644944.py:61: FutureWarning: The frame.append method is deprecated and will be removed from pandas in a future version. Use pandas.concat instead.\n",
      "  reccomended_ther = reccomended_ther.append(ther_row, ignore_index = True)\n"
     ]
    }
   ],
   "source": [
    "i = my_program2(data, \"pat_6\", \"Acute cholecystitis\")"
   ]
  },
  {
   "cell_type": "code",
   "execution_count": 24,
   "metadata": {},
   "outputs": [
    {
     "data": {
      "text/html": [
       "<div>\n",
       "<style scoped>\n",
       "    .dataframe tbody tr th:only-of-type {\n",
       "        vertical-align: middle;\n",
       "    }\n",
       "\n",
       "    .dataframe tbody tr th {\n",
       "        vertical-align: top;\n",
       "    }\n",
       "\n",
       "    .dataframe thead th {\n",
       "        text-align: right;\n",
       "    }\n",
       "</style>\n",
       "<table border=\"1\" class=\"dataframe\">\n",
       "  <thead>\n",
       "    <tr style=\"text-align: right;\">\n",
       "      <th></th>\n",
       "      <th>id</th>\n",
       "      <th>name</th>\n",
       "      <th>type</th>\n",
       "      <th>details</th>\n",
       "    </tr>\n",
       "  </thead>\n",
       "  <tbody>\n",
       "    <tr>\n",
       "      <th>0</th>\n",
       "      <td>ther_60</td>\n",
       "      <td>Statins</td>\n",
       "      <td>Medicines and medical aids</td>\n",
       "      <td>cured with success on pat_5698 (0.052977777389...</td>\n",
       "    </tr>\n",
       "    <tr>\n",
       "      <th>1</th>\n",
       "      <td>ther_6</td>\n",
       "      <td>Antiplatelets, clopidogrel</td>\n",
       "      <td>Medicines and medical aids</td>\n",
       "      <td>cured with success on pat_5460 (0.041568813352...</td>\n",
       "    </tr>\n",
       "    <tr>\n",
       "      <th>2</th>\n",
       "      <td>ther_10</td>\n",
       "      <td>Beta-blockers</td>\n",
       "      <td>Medicines and medical aids</td>\n",
       "      <td>cured with success on pat_4655 (0.038140845814...</td>\n",
       "    </tr>\n",
       "    <tr>\n",
       "      <th>3</th>\n",
       "      <td>ther_21</td>\n",
       "      <td>Coronary artery bypass graft</td>\n",
       "      <td>Surgical procedures</td>\n",
       "      <td>cured with success on pat_5695 (0.017236971078...</td>\n",
       "    </tr>\n",
       "    <tr>\n",
       "      <th>4</th>\n",
       "      <td>ther_45</td>\n",
       "      <td>Liver transplant</td>\n",
       "      <td>Surgical procedures</td>\n",
       "      <td>cured with success on pat_7468 (0.013686589419...</td>\n",
       "    </tr>\n",
       "  </tbody>\n",
       "</table>\n",
       "</div>"
      ],
      "text/plain": [
       "        id                          name                        type  \\\n",
       "0  ther_60                       Statins  Medicines and medical aids   \n",
       "1   ther_6    Antiplatelets, clopidogrel  Medicines and medical aids   \n",
       "2  ther_10                 Beta-blockers  Medicines and medical aids   \n",
       "3  ther_21  Coronary artery bypass graft         Surgical procedures   \n",
       "4  ther_45              Liver transplant         Surgical procedures   \n",
       "\n",
       "                                             details  \n",
       "0  cured with success on pat_5698 (0.052977777389...  \n",
       "1  cured with success on pat_5460 (0.041568813352...  \n",
       "2  cured with success on pat_4655 (0.038140845814...  \n",
       "3  cured with success on pat_5695 (0.017236971078...  \n",
       "4  cured with success on pat_7468 (0.013686589419...  "
      ]
     },
     "execution_count": 24,
     "metadata": {},
     "output_type": "execute_result"
    }
   ],
   "source": [
    "i"
   ]
  }
 ],
 "metadata": {
  "kernelspec": {
   "display_name": "Python 3.9.12 ('DATA_MINING')",
   "language": "python",
   "name": "python3"
  },
  "language_info": {
   "codemirror_mode": {
    "name": "ipython",
    "version": 3
   },
   "file_extension": ".py",
   "mimetype": "text/x-python",
   "name": "python",
   "nbconvert_exporter": "python",
   "pygments_lexer": "ipython3",
   "version": "3.9.12"
  },
  "orig_nbformat": 4,
  "vscode": {
   "interpreter": {
    "hash": "9478262fb3c52ab4ffeada6175b6b0d234b7147cd16c4fdbc145fe9c59d9ba51"
   }
  }
 },
 "nbformat": 4,
 "nbformat_minor": 2
}
