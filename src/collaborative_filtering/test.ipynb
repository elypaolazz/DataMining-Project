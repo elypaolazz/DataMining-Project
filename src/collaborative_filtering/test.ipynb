{
 "cells": [
  {
   "cell_type": "markdown",
   "metadata": {},
   "source": [
    "# **Collaborative filtering**"
   ]
  },
  {
   "cell_type": "markdown",
   "metadata": {},
   "source": [
    "#### **Libraries**"
   ]
  },
  {
   "cell_type": "code",
   "execution_count": 59,
   "metadata": {},
   "outputs": [
    {
     "name": "stdout",
     "output_type": "stream",
     "text": [
      "> Libraries Imported\n"
     ]
    }
   ],
   "source": [
    "import pandas as pd\n",
    "import requests\n",
    "import json\n",
    "from bs4 import BeautifulSoup\n",
    "from tqdm import tqdm\n",
    "import random\n",
    "\n",
    "import pandas_profiling\n",
    "import numpy as np\n",
    "\n",
    "print(\"> Libraries Imported\")"
   ]
  },
  {
   "cell_type": "code",
   "execution_count": 22,
   "metadata": {},
   "outputs": [],
   "source": [
    "# import conditions and therapies data\n",
    "with open('../../data/full_data.json', 'r') as file:\n",
    "    all_data = json.load(file)"
   ]
  },
  {
   "cell_type": "code",
   "execution_count": 23,
   "metadata": {},
   "outputs": [],
   "source": [
    "patients = all_data['Patients']\n",
    "conditions = all_data['Conditions']\n",
    "therapies = all_data['Therapies']"
   ]
  },
  {
   "cell_type": "code",
   "execution_count": 25,
   "metadata": {},
   "outputs": [],
   "source": [
    "def from_dict_to_df(dict):\n",
    "    new_dict = {}\n",
    "    for item in dict:\n",
    "        id = item.pop('id')\n",
    "        new_dict[id] = item\n",
    "    df = pd.DataFrame.from_dict(new_dict, orient=\"index\")\n",
    "    return df\n",
    "   \n",
    "   \n",
    "conditions_df = from_dict_to_df(conditions)"
   ]
  },
  {
   "cell_type": "code",
   "execution_count": 40,
   "metadata": {},
   "outputs": [
    {
     "data": {
      "text/html": [
       "<div>\n",
       "<style scoped>\n",
       "    .dataframe tbody tr th:only-of-type {\n",
       "        vertical-align: middle;\n",
       "    }\n",
       "\n",
       "    .dataframe tbody tr th {\n",
       "        vertical-align: top;\n",
       "    }\n",
       "\n",
       "    .dataframe thead th {\n",
       "        text-align: right;\n",
       "    }\n",
       "</style>\n",
       "<table border=\"1\" class=\"dataframe\">\n",
       "  <thead>\n",
       "    <tr style=\"text-align: right;\">\n",
       "      <th></th>\n",
       "      <th>name</th>\n",
       "      <th>type</th>\n",
       "    </tr>\n",
       "  </thead>\n",
       "  <tbody>\n",
       "    <tr>\n",
       "      <th>cond_0</th>\n",
       "      <td>Abdominal aortic aneurysm</td>\n",
       "      <td>Heart and blood vessels</td>\n",
       "    </tr>\n",
       "    <tr>\n",
       "      <th>cond_1</th>\n",
       "      <td>Acne</td>\n",
       "      <td>Skin, hair and nails</td>\n",
       "    </tr>\n",
       "    <tr>\n",
       "      <th>cond_2</th>\n",
       "      <td>Acute cholecystitis</td>\n",
       "      <td>Stomach, liver and gastrointestinal tract</td>\n",
       "    </tr>\n",
       "    <tr>\n",
       "      <th>cond_3</th>\n",
       "      <td>Acute lymphoblastic leukaemia</td>\n",
       "      <td>Cancer</td>\n",
       "    </tr>\n",
       "    <tr>\n",
       "      <th>cond_4</th>\n",
       "      <td>Acute lymphoblastic leukaemia: Children</td>\n",
       "      <td>Cancer</td>\n",
       "    </tr>\n",
       "    <tr>\n",
       "      <th>...</th>\n",
       "      <td>...</td>\n",
       "      <td>...</td>\n",
       "    </tr>\n",
       "    <tr>\n",
       "      <th>cond_304</th>\n",
       "      <td>Warts and verrucas</td>\n",
       "      <td>Skin, hair and nails</td>\n",
       "    </tr>\n",
       "    <tr>\n",
       "      <th>cond_305</th>\n",
       "      <td>Whooping cough</td>\n",
       "      <td>Infections and poisoning</td>\n",
       "    </tr>\n",
       "    <tr>\n",
       "      <th>cond_306</th>\n",
       "      <td>Wilms’ tumour</td>\n",
       "      <td>Cancer</td>\n",
       "    </tr>\n",
       "    <tr>\n",
       "      <th>cond_307</th>\n",
       "      <td>Womb (uterus) cancer</td>\n",
       "      <td>Cancer</td>\n",
       "    </tr>\n",
       "    <tr>\n",
       "      <th>cond_308</th>\n",
       "      <td>Yellow fever</td>\n",
       "      <td>Infections and poisoning</td>\n",
       "    </tr>\n",
       "  </tbody>\n",
       "</table>\n",
       "<p>309 rows × 2 columns</p>\n",
       "</div>"
      ],
      "text/plain": [
       "                                             name  \\\n",
       "cond_0                  Abdominal aortic aneurysm   \n",
       "cond_1                                       Acne   \n",
       "cond_2                        Acute cholecystitis   \n",
       "cond_3              Acute lymphoblastic leukaemia   \n",
       "cond_4    Acute lymphoblastic leukaemia: Children   \n",
       "...                                           ...   \n",
       "cond_304                       Warts and verrucas   \n",
       "cond_305                           Whooping cough   \n",
       "cond_306                            Wilms’ tumour   \n",
       "cond_307                     Womb (uterus) cancer   \n",
       "cond_308                             Yellow fever   \n",
       "\n",
       "                                               type  \n",
       "cond_0                      Heart and blood vessels  \n",
       "cond_1                         Skin, hair and nails  \n",
       "cond_2    Stomach, liver and gastrointestinal tract  \n",
       "cond_3                                       Cancer  \n",
       "cond_4                                       Cancer  \n",
       "...                                             ...  \n",
       "cond_304                       Skin, hair and nails  \n",
       "cond_305                   Infections and poisoning  \n",
       "cond_306                                     Cancer  \n",
       "cond_307                                     Cancer  \n",
       "cond_308                   Infections and poisoning  \n",
       "\n",
       "[309 rows x 2 columns]"
      ]
     },
     "execution_count": 40,
     "metadata": {},
     "output_type": "execute_result"
    }
   ],
   "source": [
    "conditions_df"
   ]
  },
  {
   "cell_type": "code",
   "execution_count": 68,
   "metadata": {},
   "outputs": [],
   "source": []
  },
  {
   "cell_type": "code",
   "execution_count": 36,
   "metadata": {},
   "outputs": [],
   "source": [
    "# convert df column type to dummy\n",
    "df_dc = pd.get_dummies(conditions_df, columns=['type'])"
   ]
  },
  {
   "cell_type": "code",
   "execution_count": 45,
   "metadata": {},
   "outputs": [
    {
     "name": "stderr",
     "output_type": "stream",
     "text": [
      "C:\\Users\\elypa\\AppData\\Local\\Temp\\ipykernel_11352\\4209874486.py:1: FutureWarning: In a future version of pandas all arguments of DataFrame.drop except for the argument 'labels' will be keyword-only.\n",
      "  df_dc = df_dc.drop('name', 1)\n"
     ]
    },
    {
     "ename": "KeyError",
     "evalue": "\"['name'] not found in axis\"",
     "output_type": "error",
     "traceback": [
      "\u001b[1;31m---------------------------------------------------------------------------\u001b[0m",
      "\u001b[1;31mKeyError\u001b[0m                                  Traceback (most recent call last)",
      "\u001b[1;32mc:\\Users\\elypa\\OneDrive\\Desktop\\Data Mining\\DataMining-Project\\src\\collaborative_filtering\\test.ipynb Cell 9'\u001b[0m in \u001b[0;36m<cell line: 1>\u001b[1;34m()\u001b[0m\n\u001b[1;32m----> <a href='vscode-notebook-cell:/c%3A/Users/elypa/OneDrive/Desktop/Data%20Mining/DataMining-Project/src/collaborative_filtering/test.ipynb#ch0000018?line=0'>1</a>\u001b[0m df_dc \u001b[39m=\u001b[39m df_dc\u001b[39m.\u001b[39;49mdrop(\u001b[39m'\u001b[39;49m\u001b[39mname\u001b[39;49m\u001b[39m'\u001b[39;49m, \u001b[39m1\u001b[39;49m)\n\u001b[0;32m      <a href='vscode-notebook-cell:/c%3A/Users/elypa/OneDrive/Desktop/Data%20Mining/DataMining-Project/src/collaborative_filtering/test.ipynb#ch0000018?line=1'>2</a>\u001b[0m df_dc\n",
      "File \u001b[1;32mc:\\Users\\elypa\\anaconda3\\envs\\DATA_MINING\\lib\\site-packages\\pandas\\util\\_decorators.py:311\u001b[0m, in \u001b[0;36mdeprecate_nonkeyword_arguments.<locals>.decorate.<locals>.wrapper\u001b[1;34m(*args, **kwargs)\u001b[0m\n\u001b[0;32m    305\u001b[0m \u001b[39mif\u001b[39;00m \u001b[39mlen\u001b[39m(args) \u001b[39m>\u001b[39m num_allow_args:\n\u001b[0;32m    306\u001b[0m     warnings\u001b[39m.\u001b[39mwarn(\n\u001b[0;32m    307\u001b[0m         msg\u001b[39m.\u001b[39mformat(arguments\u001b[39m=\u001b[39marguments),\n\u001b[0;32m    308\u001b[0m         \u001b[39mFutureWarning\u001b[39;00m,\n\u001b[0;32m    309\u001b[0m         stacklevel\u001b[39m=\u001b[39mstacklevel,\n\u001b[0;32m    310\u001b[0m     )\n\u001b[1;32m--> 311\u001b[0m \u001b[39mreturn\u001b[39;00m func(\u001b[39m*\u001b[39margs, \u001b[39m*\u001b[39m\u001b[39m*\u001b[39mkwargs)\n",
      "File \u001b[1;32mc:\\Users\\elypa\\anaconda3\\envs\\DATA_MINING\\lib\\site-packages\\pandas\\core\\frame.py:4954\u001b[0m, in \u001b[0;36mDataFrame.drop\u001b[1;34m(self, labels, axis, index, columns, level, inplace, errors)\u001b[0m\n\u001b[0;32m   4806\u001b[0m \u001b[39m@deprecate_nonkeyword_arguments\u001b[39m(version\u001b[39m=\u001b[39m\u001b[39mNone\u001b[39;00m, allowed_args\u001b[39m=\u001b[39m[\u001b[39m\"\u001b[39m\u001b[39mself\u001b[39m\u001b[39m\"\u001b[39m, \u001b[39m\"\u001b[39m\u001b[39mlabels\u001b[39m\u001b[39m\"\u001b[39m])\n\u001b[0;32m   4807\u001b[0m \u001b[39mdef\u001b[39;00m \u001b[39mdrop\u001b[39m(\n\u001b[0;32m   4808\u001b[0m     \u001b[39mself\u001b[39m,\n\u001b[1;32m   (...)\u001b[0m\n\u001b[0;32m   4815\u001b[0m     errors: \u001b[39mstr\u001b[39m \u001b[39m=\u001b[39m \u001b[39m\"\u001b[39m\u001b[39mraise\u001b[39m\u001b[39m\"\u001b[39m,\n\u001b[0;32m   4816\u001b[0m ):\n\u001b[0;32m   4817\u001b[0m     \u001b[39m\"\"\"\u001b[39;00m\n\u001b[0;32m   4818\u001b[0m \u001b[39m    Drop specified labels from rows or columns.\u001b[39;00m\n\u001b[0;32m   4819\u001b[0m \n\u001b[1;32m   (...)\u001b[0m\n\u001b[0;32m   4952\u001b[0m \u001b[39m            weight  1.0     0.8\u001b[39;00m\n\u001b[0;32m   4953\u001b[0m \u001b[39m    \"\"\"\u001b[39;00m\n\u001b[1;32m-> 4954\u001b[0m     \u001b[39mreturn\u001b[39;00m \u001b[39msuper\u001b[39;49m()\u001b[39m.\u001b[39;49mdrop(\n\u001b[0;32m   4955\u001b[0m         labels\u001b[39m=\u001b[39;49mlabels,\n\u001b[0;32m   4956\u001b[0m         axis\u001b[39m=\u001b[39;49maxis,\n\u001b[0;32m   4957\u001b[0m         index\u001b[39m=\u001b[39;49mindex,\n\u001b[0;32m   4958\u001b[0m         columns\u001b[39m=\u001b[39;49mcolumns,\n\u001b[0;32m   4959\u001b[0m         level\u001b[39m=\u001b[39;49mlevel,\n\u001b[0;32m   4960\u001b[0m         inplace\u001b[39m=\u001b[39;49minplace,\n\u001b[0;32m   4961\u001b[0m         errors\u001b[39m=\u001b[39;49merrors,\n\u001b[0;32m   4962\u001b[0m     )\n",
      "File \u001b[1;32mc:\\Users\\elypa\\anaconda3\\envs\\DATA_MINING\\lib\\site-packages\\pandas\\core\\generic.py:4267\u001b[0m, in \u001b[0;36mNDFrame.drop\u001b[1;34m(self, labels, axis, index, columns, level, inplace, errors)\u001b[0m\n\u001b[0;32m   4265\u001b[0m \u001b[39mfor\u001b[39;00m axis, labels \u001b[39min\u001b[39;00m axes\u001b[39m.\u001b[39mitems():\n\u001b[0;32m   4266\u001b[0m     \u001b[39mif\u001b[39;00m labels \u001b[39mis\u001b[39;00m \u001b[39mnot\u001b[39;00m \u001b[39mNone\u001b[39;00m:\n\u001b[1;32m-> 4267\u001b[0m         obj \u001b[39m=\u001b[39m obj\u001b[39m.\u001b[39;49m_drop_axis(labels, axis, level\u001b[39m=\u001b[39;49mlevel, errors\u001b[39m=\u001b[39;49merrors)\n\u001b[0;32m   4269\u001b[0m \u001b[39mif\u001b[39;00m inplace:\n\u001b[0;32m   4270\u001b[0m     \u001b[39mself\u001b[39m\u001b[39m.\u001b[39m_update_inplace(obj)\n",
      "File \u001b[1;32mc:\\Users\\elypa\\anaconda3\\envs\\DATA_MINING\\lib\\site-packages\\pandas\\core\\generic.py:4311\u001b[0m, in \u001b[0;36mNDFrame._drop_axis\u001b[1;34m(self, labels, axis, level, errors, consolidate, only_slice)\u001b[0m\n\u001b[0;32m   4309\u001b[0m         new_axis \u001b[39m=\u001b[39m axis\u001b[39m.\u001b[39mdrop(labels, level\u001b[39m=\u001b[39mlevel, errors\u001b[39m=\u001b[39merrors)\n\u001b[0;32m   4310\u001b[0m     \u001b[39melse\u001b[39;00m:\n\u001b[1;32m-> 4311\u001b[0m         new_axis \u001b[39m=\u001b[39m axis\u001b[39m.\u001b[39;49mdrop(labels, errors\u001b[39m=\u001b[39;49merrors)\n\u001b[0;32m   4312\u001b[0m     indexer \u001b[39m=\u001b[39m axis\u001b[39m.\u001b[39mget_indexer(new_axis)\n\u001b[0;32m   4314\u001b[0m \u001b[39m# Case for non-unique axis\u001b[39;00m\n\u001b[0;32m   4315\u001b[0m \u001b[39melse\u001b[39;00m:\n",
      "File \u001b[1;32mc:\\Users\\elypa\\anaconda3\\envs\\DATA_MINING\\lib\\site-packages\\pandas\\core\\indexes\\base.py:6644\u001b[0m, in \u001b[0;36mIndex.drop\u001b[1;34m(self, labels, errors)\u001b[0m\n\u001b[0;32m   6642\u001b[0m \u001b[39mif\u001b[39;00m mask\u001b[39m.\u001b[39many():\n\u001b[0;32m   6643\u001b[0m     \u001b[39mif\u001b[39;00m errors \u001b[39m!=\u001b[39m \u001b[39m\"\u001b[39m\u001b[39mignore\u001b[39m\u001b[39m\"\u001b[39m:\n\u001b[1;32m-> 6644\u001b[0m         \u001b[39mraise\u001b[39;00m \u001b[39mKeyError\u001b[39;00m(\u001b[39mf\u001b[39m\u001b[39m\"\u001b[39m\u001b[39m{\u001b[39;00m\u001b[39mlist\u001b[39m(labels[mask])\u001b[39m}\u001b[39;00m\u001b[39m not found in axis\u001b[39m\u001b[39m\"\u001b[39m)\n\u001b[0;32m   6645\u001b[0m     indexer \u001b[39m=\u001b[39m indexer[\u001b[39m~\u001b[39mmask]\n\u001b[0;32m   6646\u001b[0m \u001b[39mreturn\u001b[39;00m \u001b[39mself\u001b[39m\u001b[39m.\u001b[39mdelete(indexer)\n",
      "\u001b[1;31mKeyError\u001b[0m: \"['name'] not found in axis\""
     ]
    }
   ],
   "source": [
    "df_dc = df_dc.drop('name', 1)"
   ]
  },
  {
   "cell_type": "code",
   "execution_count": null,
   "metadata": {},
   "outputs": [],
   "source": [
    "severity = random.choices(range(1, 100), k=309)\n",
    "df_dc['severity'] = severity"
   ]
  },
  {
   "cell_type": "code",
   "execution_count": 77,
   "metadata": {},
   "outputs": [
    {
     "data": {
      "text/plain": [
       "0.9996517097075466"
      ]
     },
     "execution_count": 77,
     "metadata": {},
     "output_type": "execute_result"
    }
   ],
   "source": [
    "x = df_dc.iloc[0].values\n",
    "y = df_dc.iloc[2].values\n",
    "\n",
    "z=1-spatial.distance.cosine(x,y)\n",
    "z"
   ]
  },
  {
   "cell_type": "code",
   "execution_count": 54,
   "metadata": {},
   "outputs": [
    {
     "data": {
      "text/plain": [
       "0.9644068036349517"
      ]
     },
     "execution_count": 54,
     "metadata": {},
     "output_type": "execute_result"
    }
   ],
   "source": [
    "# eg of cosine\n",
    "from scipy import spatial\n",
    "\n",
    "x=[1,2,3]\n",
    "y=[6,5,9] \n",
    "z=1-spatial.distance.cosine(x,y)\n",
    "z"
   ]
  },
  {
   "cell_type": "code",
   "execution_count": 10,
   "metadata": {},
   "outputs": [
    {
     "data": {
      "text/plain": [
       "2.38"
      ]
     },
     "execution_count": 10,
     "metadata": {},
     "output_type": "execute_result"
    }
   ],
   "source": [
    "-0.5*-2+0.6*0.3+0.5*2.4"
   ]
  },
  {
   "cell_type": "code",
   "execution_count": 80,
   "metadata": {},
   "outputs": [],
   "source": [
    "new_dict = {}\n",
    "for item in therapies:\n",
    "   id = item.pop('id')\n",
    "   new_dict[id] = item\n",
    "   \n"
   ]
  },
  {
   "cell_type": "code",
   "execution_count": 83,
   "metadata": {},
   "outputs": [
    {
     "data": {
      "text/html": [
       "<div>\n",
       "<style scoped>\n",
       "    .dataframe tbody tr th:only-of-type {\n",
       "        vertical-align: middle;\n",
       "    }\n",
       "\n",
       "    .dataframe tbody tr th {\n",
       "        vertical-align: top;\n",
       "    }\n",
       "\n",
       "    .dataframe thead th {\n",
       "        text-align: right;\n",
       "    }\n",
       "</style>\n",
       "<table border=\"1\" class=\"dataframe\">\n",
       "  <thead>\n",
       "    <tr style=\"text-align: right;\">\n",
       "      <th></th>\n",
       "      <th>name</th>\n",
       "      <th>type</th>\n",
       "    </tr>\n",
       "  </thead>\n",
       "  <tbody>\n",
       "    <tr>\n",
       "      <th>ther_0</th>\n",
       "      <td>Abortion</td>\n",
       "      <td>Surgical procedures</td>\n",
       "    </tr>\n",
       "    <tr>\n",
       "      <th>ther_1</th>\n",
       "      <td>Amniocentesis</td>\n",
       "      <td>Biopsies</td>\n",
       "    </tr>\n",
       "    <tr>\n",
       "      <th>ther_2</th>\n",
       "      <td>Amputation</td>\n",
       "      <td>Surgical procedures</td>\n",
       "    </tr>\n",
       "    <tr>\n",
       "      <th>ther_3</th>\n",
       "      <td>Anaesthesia</td>\n",
       "      <td>Medicines and medical aids</td>\n",
       "    </tr>\n",
       "    <tr>\n",
       "      <th>ther_4</th>\n",
       "      <td>Antibiotics</td>\n",
       "      <td>Medicines and medical aids</td>\n",
       "    </tr>\n",
       "    <tr>\n",
       "      <th>...</th>\n",
       "      <td>...</td>\n",
       "      <td>...</td>\n",
       "    </tr>\n",
       "    <tr>\n",
       "      <th>ther_62</th>\n",
       "      <td>Ultrasound scan</td>\n",
       "      <td>Scans and X-rays</td>\n",
       "    </tr>\n",
       "    <tr>\n",
       "      <th>ther_63</th>\n",
       "      <td>Urinary catheterisation</td>\n",
       "      <td>Medicines and medical aids</td>\n",
       "    </tr>\n",
       "    <tr>\n",
       "      <th>ther_64</th>\n",
       "      <td>Warfarin</td>\n",
       "      <td>Medicines and medical aids</td>\n",
       "    </tr>\n",
       "    <tr>\n",
       "      <th>ther_65</th>\n",
       "      <td>Wisdom tooth removal</td>\n",
       "      <td>Dental treatments</td>\n",
       "    </tr>\n",
       "    <tr>\n",
       "      <th>ther_66</th>\n",
       "      <td>X-ray</td>\n",
       "      <td>Scans and X-rays</td>\n",
       "    </tr>\n",
       "  </tbody>\n",
       "</table>\n",
       "<p>67 rows × 2 columns</p>\n",
       "</div>"
      ],
      "text/plain": [
       "                            name                        type\n",
       "ther_0                  Abortion         Surgical procedures\n",
       "ther_1             Amniocentesis                    Biopsies\n",
       "ther_2                Amputation         Surgical procedures\n",
       "ther_3               Anaesthesia  Medicines and medical aids\n",
       "ther_4               Antibiotics  Medicines and medical aids\n",
       "...                          ...                         ...\n",
       "ther_62          Ultrasound scan            Scans and X-rays\n",
       "ther_63  Urinary catheterisation  Medicines and medical aids\n",
       "ther_64                 Warfarin  Medicines and medical aids\n",
       "ther_65     Wisdom tooth removal           Dental treatments\n",
       "ther_66                    X-ray            Scans and X-rays\n",
       "\n",
       "[67 rows x 2 columns]"
      ]
     },
     "execution_count": 83,
     "metadata": {},
     "output_type": "execute_result"
    }
   ],
   "source": [
    "new_dict\n",
    "\n",
    "df = pd.DataFrame.from_dict(new_dict, orient=\"index\")\n",
    "df"
   ]
  },
  {
   "cell_type": "code",
   "execution_count": null,
   "metadata": {},
   "outputs": [],
   "source": [
    "\n",
    "df = pd.DataFrame.from_dict(new_dict, orient=\"index\")"
   ]
  },
  {
   "cell_type": "code",
   "execution_count": 72,
   "metadata": {},
   "outputs": [
    {
     "ename": "KeyError",
     "evalue": "'id'",
     "output_type": "error",
     "traceback": [
      "\u001b[1;31m---------------------------------------------------------------------------\u001b[0m",
      "\u001b[1;31mKeyError\u001b[0m                                  Traceback (most recent call last)",
      "\u001b[1;32mc:\\Users\\elypa\\OneDrive\\Desktop\\Data Mining\\DataMining-Project\\src\\collaborative_filtering\\test.ipynb Cell 7'\u001b[0m in \u001b[0;36m<cell line: 10>\u001b[1;34m()\u001b[0m\n\u001b[0;32m      <a href='vscode-notebook-cell:/c%3A/Users/elypa/OneDrive/Desktop/Data%20Mining/DataMining-Project/src/collaborative_filtering/test.ipynb#ch0000020?line=5'>6</a>\u001b[0m    df \u001b[39m=\u001b[39m pd\u001b[39m.\u001b[39mDataFrame\u001b[39m.\u001b[39mfrom_dict(new_dict, orient\u001b[39m=\u001b[39m\u001b[39m\"\u001b[39m\u001b[39mindex\u001b[39m\u001b[39m\"\u001b[39m)\n\u001b[0;32m      <a href='vscode-notebook-cell:/c%3A/Users/elypa/OneDrive/Desktop/Data%20Mining/DataMining-Project/src/collaborative_filtering/test.ipynb#ch0000020?line=6'>7</a>\u001b[0m    \u001b[39mreturn\u001b[39;00m df\n\u001b[1;32m---> <a href='vscode-notebook-cell:/c%3A/Users/elypa/OneDrive/Desktop/Data%20Mining/DataMining-Project/src/collaborative_filtering/test.ipynb#ch0000020?line=9'>10</a>\u001b[0m from_dict_to_df(conditions, \u001b[39m'\u001b[39;49m\u001b[39mid\u001b[39;49m\u001b[39m'\u001b[39;49m)\n",
      "\u001b[1;32mc:\\Users\\elypa\\OneDrive\\Desktop\\Data Mining\\DataMining-Project\\src\\collaborative_filtering\\test.ipynb Cell 7'\u001b[0m in \u001b[0;36mfrom_dict_to_df\u001b[1;34m(dict, id_field)\u001b[0m\n\u001b[0;32m      <a href='vscode-notebook-cell:/c%3A/Users/elypa/OneDrive/Desktop/Data%20Mining/DataMining-Project/src/collaborative_filtering/test.ipynb#ch0000020?line=1'>2</a>\u001b[0m new_dict \u001b[39m=\u001b[39m {}\n\u001b[0;32m      <a href='vscode-notebook-cell:/c%3A/Users/elypa/OneDrive/Desktop/Data%20Mining/DataMining-Project/src/collaborative_filtering/test.ipynb#ch0000020?line=2'>3</a>\u001b[0m \u001b[39mfor\u001b[39;00m item \u001b[39min\u001b[39;00m \u001b[39mdict\u001b[39m:\n\u001b[1;32m----> <a href='vscode-notebook-cell:/c%3A/Users/elypa/OneDrive/Desktop/Data%20Mining/DataMining-Project/src/collaborative_filtering/test.ipynb#ch0000020?line=3'>4</a>\u001b[0m    \u001b[39mid\u001b[39m \u001b[39m=\u001b[39m item\u001b[39m.\u001b[39;49mpop(id_field)\n\u001b[0;32m      <a href='vscode-notebook-cell:/c%3A/Users/elypa/OneDrive/Desktop/Data%20Mining/DataMining-Project/src/collaborative_filtering/test.ipynb#ch0000020?line=4'>5</a>\u001b[0m    new_dict[\u001b[39mid\u001b[39m] \u001b[39m=\u001b[39m item\n\u001b[0;32m      <a href='vscode-notebook-cell:/c%3A/Users/elypa/OneDrive/Desktop/Data%20Mining/DataMining-Project/src/collaborative_filtering/test.ipynb#ch0000020?line=5'>6</a>\u001b[0m df \u001b[39m=\u001b[39m pd\u001b[39m.\u001b[39mDataFrame\u001b[39m.\u001b[39mfrom_dict(new_dict, orient\u001b[39m=\u001b[39m\u001b[39m\"\u001b[39m\u001b[39mindex\u001b[39m\u001b[39m\"\u001b[39m)\n",
      "\u001b[1;31mKeyError\u001b[0m: 'id'"
     ]
    }
   ],
   "source": [
    "def from_dict_to_df(dict):\n",
    "   new_dict = {}\n",
    "   for item in dict:\n",
    "      id = item.pop('id')\n",
    "      new_dict[id] = item\n",
    "   df = pd.DataFrame.from_dict(new_dict, orient=\"index\")\n",
    "   return df\n",
    "   \n",
    "   \n",
    "from_dict_to_df(conditions, 'id')"
   ]
  },
  {
   "cell_type": "code",
   "execution_count": 23,
   "metadata": {},
   "outputs": [
    {
     "data": {
      "text/html": [
       "<div>\n",
       "<style scoped>\n",
       "    .dataframe tbody tr th:only-of-type {\n",
       "        vertical-align: middle;\n",
       "    }\n",
       "\n",
       "    .dataframe tbody tr th {\n",
       "        vertical-align: top;\n",
       "    }\n",
       "\n",
       "    .dataframe thead th {\n",
       "        text-align: right;\n",
       "    }\n",
       "</style>\n",
       "<table border=\"1\" class=\"dataframe\">\n",
       "  <thead>\n",
       "    <tr style=\"text-align: right;\">\n",
       "      <th></th>\n",
       "      <th>name</th>\n",
       "      <th>gender</th>\n",
       "      <th>conditions</th>\n",
       "      <th>trials</th>\n",
       "    </tr>\n",
       "  </thead>\n",
       "  <tbody>\n",
       "    <tr>\n",
       "      <th>pat_0</th>\n",
       "      <td>Aamir</td>\n",
       "      <td>Male</td>\n",
       "      <td>[{'id': 'c1', 'diagnosed': '2008-11-16', 'cure...</td>\n",
       "      <td>[{'id': 'c1_t1', 'start': '2014-08-16', 'end':...</td>\n",
       "    </tr>\n",
       "    <tr>\n",
       "      <th>pat_1</th>\n",
       "      <td>Aba</td>\n",
       "      <td>Male</td>\n",
       "      <td>[{'id': 'c1', 'diagnosed': '2003-03-26', 'cure...</td>\n",
       "      <td>[{'id': 'c1_t1', 'start': '2006-03-03', 'end':...</td>\n",
       "    </tr>\n",
       "    <tr>\n",
       "      <th>pat_2</th>\n",
       "      <td>Ababacar</td>\n",
       "      <td>Male</td>\n",
       "      <td>[{'id': 'c1', 'diagnosed': '2006-04-24', 'cure...</td>\n",
       "      <td>[{'id': 'c1_t1', 'start': '2019-01-13', 'end':...</td>\n",
       "    </tr>\n",
       "    <tr>\n",
       "      <th>pat_3</th>\n",
       "      <td>Ababei</td>\n",
       "      <td>Male</td>\n",
       "      <td>[{'id': 'c1', 'diagnosed': '2007-10-16', 'cure...</td>\n",
       "      <td>[{'id': 'c1_t1', 'start': '2018-01-25', 'end':...</td>\n",
       "    </tr>\n",
       "    <tr>\n",
       "      <th>pat_4</th>\n",
       "      <td>Abanob</td>\n",
       "      <td>Male</td>\n",
       "      <td>[{'id': 'c1', 'diagnosed': '2004-02-12', 'cure...</td>\n",
       "      <td>[{'id': 'c1_t1', 'start': '2013-12-24', 'end':...</td>\n",
       "    </tr>\n",
       "    <tr>\n",
       "      <th>...</th>\n",
       "      <td>...</td>\n",
       "      <td>...</td>\n",
       "      <td>...</td>\n",
       "      <td>...</td>\n",
       "    </tr>\n",
       "    <tr>\n",
       "      <th>pat_16917</th>\n",
       "      <td>玲玲</td>\n",
       "      <td>Female</td>\n",
       "      <td>[{'id': 'c1', 'diagnosed': '2001-07-10', 'cure...</td>\n",
       "      <td>[{'id': 'c1_t1', 'start': '2010-03-28', 'end':...</td>\n",
       "    </tr>\n",
       "    <tr>\n",
       "      <th>pat_16918</th>\n",
       "      <td>珊珊</td>\n",
       "      <td>Female</td>\n",
       "      <td>[{'id': 'c1', 'diagnosed': '2000-01-18', 'cure...</td>\n",
       "      <td>[{'id': 'c1_t1', 'start': '2014-08-23', 'end':...</td>\n",
       "    </tr>\n",
       "    <tr>\n",
       "      <th>pat_16919</th>\n",
       "      <td>盈盈</td>\n",
       "      <td>Female</td>\n",
       "      <td>[{'id': 'c1', 'diagnosed': '2008-07-30', 'cure...</td>\n",
       "      <td>[{'id': 'c1_t1', 'start': '2015-12-31', 'end':...</td>\n",
       "    </tr>\n",
       "    <tr>\n",
       "      <th>pat_16920</th>\n",
       "      <td>芳芳</td>\n",
       "      <td>Female</td>\n",
       "      <td>[{'id': 'c1', 'diagnosed': '2007-05-12', 'cure...</td>\n",
       "      <td>[{'id': 'c1_t1', 'start': '2013-06-30', 'end':...</td>\n",
       "    </tr>\n",
       "    <tr>\n",
       "      <th>pat_16921</th>\n",
       "      <td>青青</td>\n",
       "      <td>Female</td>\n",
       "      <td>[{'id': 'c1', 'diagnosed': '2007-03-24', 'cure...</td>\n",
       "      <td>[{'id': 'c1_t1', 'start': '2007-12-24', 'end':...</td>\n",
       "    </tr>\n",
       "  </tbody>\n",
       "</table>\n",
       "<p>16922 rows × 4 columns</p>\n",
       "</div>"
      ],
      "text/plain": [
       "               name  gender  \\\n",
       "pat_0         Aamir    Male   \n",
       "pat_1           Aba    Male   \n",
       "pat_2      Ababacar    Male   \n",
       "pat_3        Ababei    Male   \n",
       "pat_4        Abanob    Male   \n",
       "...             ...     ...   \n",
       "pat_16917        玲玲  Female   \n",
       "pat_16918        珊珊  Female   \n",
       "pat_16919        盈盈  Female   \n",
       "pat_16920        芳芳  Female   \n",
       "pat_16921        青青  Female   \n",
       "\n",
       "                                                  conditions  \\\n",
       "pat_0      [{'id': 'c1', 'diagnosed': '2008-11-16', 'cure...   \n",
       "pat_1      [{'id': 'c1', 'diagnosed': '2003-03-26', 'cure...   \n",
       "pat_2      [{'id': 'c1', 'diagnosed': '2006-04-24', 'cure...   \n",
       "pat_3      [{'id': 'c1', 'diagnosed': '2007-10-16', 'cure...   \n",
       "pat_4      [{'id': 'c1', 'diagnosed': '2004-02-12', 'cure...   \n",
       "...                                                      ...   \n",
       "pat_16917  [{'id': 'c1', 'diagnosed': '2001-07-10', 'cure...   \n",
       "pat_16918  [{'id': 'c1', 'diagnosed': '2000-01-18', 'cure...   \n",
       "pat_16919  [{'id': 'c1', 'diagnosed': '2008-07-30', 'cure...   \n",
       "pat_16920  [{'id': 'c1', 'diagnosed': '2007-05-12', 'cure...   \n",
       "pat_16921  [{'id': 'c1', 'diagnosed': '2007-03-24', 'cure...   \n",
       "\n",
       "                                                      trials  \n",
       "pat_0      [{'id': 'c1_t1', 'start': '2014-08-16', 'end':...  \n",
       "pat_1      [{'id': 'c1_t1', 'start': '2006-03-03', 'end':...  \n",
       "pat_2      [{'id': 'c1_t1', 'start': '2019-01-13', 'end':...  \n",
       "pat_3      [{'id': 'c1_t1', 'start': '2018-01-25', 'end':...  \n",
       "pat_4      [{'id': 'c1_t1', 'start': '2013-12-24', 'end':...  \n",
       "...                                                      ...  \n",
       "pat_16917  [{'id': 'c1_t1', 'start': '2010-03-28', 'end':...  \n",
       "pat_16918  [{'id': 'c1_t1', 'start': '2014-08-23', 'end':...  \n",
       "pat_16919  [{'id': 'c1_t1', 'start': '2015-12-31', 'end':...  \n",
       "pat_16920  [{'id': 'c1_t1', 'start': '2013-06-30', 'end':...  \n",
       "pat_16921  [{'id': 'c1_t1', 'start': '2007-12-24', 'end':...  \n",
       "\n",
       "[16922 rows x 4 columns]"
      ]
     },
     "execution_count": 23,
     "metadata": {},
     "output_type": "execute_result"
    }
   ],
   "source": [
    "patients_df = pd.DataFrame.from_dict(new_dict, orient=\"index\")\n",
    "patients_df"
   ]
  },
  {
   "cell_type": "code",
   "execution_count": 56,
   "metadata": {},
   "outputs": [
    {
     "name": "stderr",
     "output_type": "stream",
     "text": [
      "c:\\Users\\elypa\\anaconda3\\envs\\DATA_MINING\\lib\\site-packages\\scipy\\spatial\\distance.py:299: VisibleDeprecationWarning: Creating an ndarray from ragged nested sequences (which is a list-or-tuple of lists-or-tuples-or ndarrays with different lengths or shapes) is deprecated. If you meant to do this, you must specify 'dtype=object' when creating the ndarray.\n",
      "  u = np.asarray(u, dtype=dtype, order='c')\n"
     ]
    },
    {
     "ename": "TypeError",
     "evalue": "can't multiply sequence by non-int of type 'str'",
     "output_type": "error",
     "traceback": [
      "\u001b[1;31m---------------------------------------------------------------------------\u001b[0m",
      "\u001b[1;31mTypeError\u001b[0m                                 Traceback (most recent call last)",
      "\u001b[1;32mc:\\Users\\elypa\\OneDrive\\Desktop\\Data Mining\\DataMining-Project\\src\\collaborative_filtering\\test.ipynb Cell 8'\u001b[0m in \u001b[0;36m<cell line: 5>\u001b[1;34m()\u001b[0m\n\u001b[0;32m      <a href='vscode-notebook-cell:/c%3A/Users/elypa/OneDrive/Desktop/Data%20Mining/DataMining-Project/src/collaborative_filtering/test.ipynb#ch0000005?line=2'>3</a>\u001b[0m a \u001b[39m=\u001b[39m patients_df\u001b[39m.\u001b[39miloc[\u001b[39m1\u001b[39m]\u001b[39m.\u001b[39mtolist()\n\u001b[0;32m      <a href='vscode-notebook-cell:/c%3A/Users/elypa/OneDrive/Desktop/Data%20Mining/DataMining-Project/src/collaborative_filtering/test.ipynb#ch0000005?line=3'>4</a>\u001b[0m c \u001b[39m=\u001b[39m patients_df\u001b[39m.\u001b[39miloc[\u001b[39m2\u001b[39m]\u001b[39m.\u001b[39mtolist()\n\u001b[1;32m----> <a href='vscode-notebook-cell:/c%3A/Users/elypa/OneDrive/Desktop/Data%20Mining/DataMining-Project/src/collaborative_filtering/test.ipynb#ch0000005?line=4'>5</a>\u001b[0m spatial\u001b[39m.\u001b[39;49mdistance\u001b[39m.\u001b[39;49mcosine(c,a)\n",
      "File \u001b[1;32mc:\\Users\\elypa\\anaconda3\\envs\\DATA_MINING\\lib\\site-packages\\scipy\\spatial\\distance.py:678\u001b[0m, in \u001b[0;36mcosine\u001b[1;34m(u, v, w)\u001b[0m\n\u001b[0;32m    636\u001b[0m \u001b[39m\"\"\"\u001b[39;00m\n\u001b[0;32m    637\u001b[0m \u001b[39mCompute the Cosine distance between 1-D arrays.\u001b[39;00m\n\u001b[0;32m    638\u001b[0m \n\u001b[1;32m   (...)\u001b[0m\n\u001b[0;32m    673\u001b[0m \n\u001b[0;32m    674\u001b[0m \u001b[39m\"\"\"\u001b[39;00m\n\u001b[0;32m    675\u001b[0m \u001b[39m# cosine distance is also referred to as 'uncentered correlation',\u001b[39;00m\n\u001b[0;32m    676\u001b[0m \u001b[39m#   or 'reflective correlation'\u001b[39;00m\n\u001b[0;32m    677\u001b[0m \u001b[39m# clamp the result to 0-2\u001b[39;00m\n\u001b[1;32m--> 678\u001b[0m \u001b[39mreturn\u001b[39;00m \u001b[39mmax\u001b[39m(\u001b[39m0\u001b[39m, \u001b[39mmin\u001b[39m(correlation(u, v, w\u001b[39m=\u001b[39;49mw, centered\u001b[39m=\u001b[39;49m\u001b[39mFalse\u001b[39;49;00m), \u001b[39m2.0\u001b[39m))\n",
      "File \u001b[1;32mc:\\Users\\elypa\\anaconda3\\envs\\DATA_MINING\\lib\\site-packages\\scipy\\spatial\\distance.py:627\u001b[0m, in \u001b[0;36mcorrelation\u001b[1;34m(u, v, w, centered)\u001b[0m\n\u001b[0;32m    625\u001b[0m     u \u001b[39m=\u001b[39m u \u001b[39m-\u001b[39m umu\n\u001b[0;32m    626\u001b[0m     v \u001b[39m=\u001b[39m v \u001b[39m-\u001b[39m vmu\n\u001b[1;32m--> 627\u001b[0m uv \u001b[39m=\u001b[39m np\u001b[39m.\u001b[39maverage(u \u001b[39m*\u001b[39;49m v, weights\u001b[39m=\u001b[39mw)\n\u001b[0;32m    628\u001b[0m uu \u001b[39m=\u001b[39m np\u001b[39m.\u001b[39maverage(np\u001b[39m.\u001b[39msquare(u), weights\u001b[39m=\u001b[39mw)\n\u001b[0;32m    629\u001b[0m vv \u001b[39m=\u001b[39m np\u001b[39m.\u001b[39maverage(np\u001b[39m.\u001b[39msquare(v), weights\u001b[39m=\u001b[39mw)\n",
      "\u001b[1;31mTypeError\u001b[0m: can't multiply sequence by non-int of type 'str'"
     ]
    }
   ],
   "source": []
  }
 ],
 "metadata": {
  "kernelspec": {
   "display_name": "Python 3.9.12 ('DATA_MINING')",
   "language": "python",
   "name": "python3"
  },
  "language_info": {
   "codemirror_mode": {
    "name": "ipython",
    "version": 3
   },
   "file_extension": ".py",
   "mimetype": "text/x-python",
   "name": "python",
   "nbconvert_exporter": "python",
   "pygments_lexer": "ipython3",
   "version": "3.9.12"
  },
  "orig_nbformat": 4,
  "vscode": {
   "interpreter": {
    "hash": "9478262fb3c52ab4ffeada6175b6b0d234b7147cd16c4fdbc145fe9c59d9ba51"
   }
  }
 },
 "nbformat": 4,
 "nbformat_minor": 2
}
