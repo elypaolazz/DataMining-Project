{
 "cells": [
  {
   "cell_type": "markdown",
   "metadata": {},
   "source": [
    "# **Collaborative filtering**"
   ]
  },
  {
   "cell_type": "markdown",
   "metadata": {},
   "source": [
    "#### **Libraries**"
   ]
  },
  {
   "cell_type": "code",
   "execution_count": 7,
   "metadata": {},
   "outputs": [
    {
     "name": "stderr",
     "output_type": "stream",
     "text": [
      "c:\\Users\\elypa\\anaconda3\\envs\\DATA_MINING\\lib\\site-packages\\tqdm\\auto.py:22: TqdmWarning: IProgress not found. Please update jupyter and ipywidgets. See https://ipywidgets.readthedocs.io/en/stable/user_install.html\n",
      "  from .autonotebook import tqdm as notebook_tqdm\n"
     ]
    },
    {
     "name": "stdout",
     "output_type": "stream",
     "text": [
      "> Libraries Imported\n"
     ]
    }
   ],
   "source": [
    "import pandas as pd\n",
    "import requests\n",
    "import json\n",
    "from bs4 import BeautifulSoup\n",
    "from tqdm import tqdm\n",
    "\n",
    "import pandas_profiling\n",
    "import numpy as np\n",
    "\n",
    "print(\"> Libraries Imported\")"
   ]
  },
  {
   "cell_type": "code",
   "execution_count": 76,
   "metadata": {},
   "outputs": [
    {
     "ename": "JSONDecodeError",
     "evalue": "Expecting ',' delimiter: line 19800017 column 42 (char 675558199)",
     "output_type": "error",
     "traceback": [
      "\u001b[1;31m---------------------------------------------------------------------------\u001b[0m",
      "\u001b[1;31mJSONDecodeError\u001b[0m                           Traceback (most recent call last)",
      "\u001b[1;32mc:\\Users\\elypa\\OneDrive\\Desktop\\Data Mining\\DataMining-Project\\src\\collaborative_filtering\\test.ipynb Cell 4'\u001b[0m in \u001b[0;36m<cell line: 2>\u001b[1;34m()\u001b[0m\n\u001b[0;32m      <a href='vscode-notebook-cell:/c%3A/Users/elypa/OneDrive/Desktop/Data%20Mining/DataMining-Project/src/collaborative_filtering/test.ipynb#ch0000002?line=0'>1</a>\u001b[0m \u001b[39m# import conditions and therapies data\u001b[39;00m\n\u001b[0;32m      <a href='vscode-notebook-cell:/c%3A/Users/elypa/OneDrive/Desktop/Data%20Mining/DataMining-Project/src/collaborative_filtering/test.ipynb#ch0000002?line=1'>2</a>\u001b[0m \u001b[39mwith\u001b[39;00m \u001b[39mopen\u001b[39m(\u001b[39m'\u001b[39m\u001b[39m../../data/full_data.json\u001b[39m\u001b[39m'\u001b[39m, \u001b[39m'\u001b[39m\u001b[39mr\u001b[39m\u001b[39m'\u001b[39m) \u001b[39mas\u001b[39;00m file:\n\u001b[1;32m----> <a href='vscode-notebook-cell:/c%3A/Users/elypa/OneDrive/Desktop/Data%20Mining/DataMining-Project/src/collaborative_filtering/test.ipynb#ch0000002?line=2'>3</a>\u001b[0m     all_data \u001b[39m=\u001b[39m json\u001b[39m.\u001b[39;49mload(file)\n",
      "File \u001b[1;32mc:\\Users\\elypa\\anaconda3\\envs\\DATA_MINING\\lib\\json\\__init__.py:293\u001b[0m, in \u001b[0;36mload\u001b[1;34m(fp, cls, object_hook, parse_float, parse_int, parse_constant, object_pairs_hook, **kw)\u001b[0m\n\u001b[0;32m    274\u001b[0m \u001b[39mdef\u001b[39;00m \u001b[39mload\u001b[39m(fp, \u001b[39m*\u001b[39m, \u001b[39mcls\u001b[39m\u001b[39m=\u001b[39m\u001b[39mNone\u001b[39;00m, object_hook\u001b[39m=\u001b[39m\u001b[39mNone\u001b[39;00m, parse_float\u001b[39m=\u001b[39m\u001b[39mNone\u001b[39;00m,\n\u001b[0;32m    275\u001b[0m         parse_int\u001b[39m=\u001b[39m\u001b[39mNone\u001b[39;00m, parse_constant\u001b[39m=\u001b[39m\u001b[39mNone\u001b[39;00m, object_pairs_hook\u001b[39m=\u001b[39m\u001b[39mNone\u001b[39;00m, \u001b[39m*\u001b[39m\u001b[39m*\u001b[39mkw):\n\u001b[0;32m    276\u001b[0m     \u001b[39m\"\"\"Deserialize ``fp`` (a ``.read()``-supporting file-like object containing\u001b[39;00m\n\u001b[0;32m    277\u001b[0m \u001b[39m    a JSON document) to a Python object.\u001b[39;00m\n\u001b[0;32m    278\u001b[0m \n\u001b[1;32m   (...)\u001b[0m\n\u001b[0;32m    291\u001b[0m \u001b[39m    kwarg; otherwise ``JSONDecoder`` is used.\u001b[39;00m\n\u001b[0;32m    292\u001b[0m \u001b[39m    \"\"\"\u001b[39;00m\n\u001b[1;32m--> 293\u001b[0m     \u001b[39mreturn\u001b[39;00m loads(fp\u001b[39m.\u001b[39mread(),\n\u001b[0;32m    294\u001b[0m         \u001b[39mcls\u001b[39m\u001b[39m=\u001b[39m\u001b[39mcls\u001b[39m, object_hook\u001b[39m=\u001b[39mobject_hook,\n\u001b[0;32m    295\u001b[0m         parse_float\u001b[39m=\u001b[39mparse_float, parse_int\u001b[39m=\u001b[39mparse_int,\n\u001b[0;32m    296\u001b[0m         parse_constant\u001b[39m=\u001b[39mparse_constant, object_pairs_hook\u001b[39m=\u001b[39mobject_pairs_hook, \u001b[39m*\u001b[39m\u001b[39m*\u001b[39mkw)\n",
      "File \u001b[1;32mc:\\Users\\elypa\\anaconda3\\envs\\DATA_MINING\\lib\\json\\__init__.py:346\u001b[0m, in \u001b[0;36mloads\u001b[1;34m(s, cls, object_hook, parse_float, parse_int, parse_constant, object_pairs_hook, **kw)\u001b[0m\n\u001b[0;32m    341\u001b[0m     s \u001b[39m=\u001b[39m s\u001b[39m.\u001b[39mdecode(detect_encoding(s), \u001b[39m'\u001b[39m\u001b[39msurrogatepass\u001b[39m\u001b[39m'\u001b[39m)\n\u001b[0;32m    343\u001b[0m \u001b[39mif\u001b[39;00m (\u001b[39mcls\u001b[39m \u001b[39mis\u001b[39;00m \u001b[39mNone\u001b[39;00m \u001b[39mand\u001b[39;00m object_hook \u001b[39mis\u001b[39;00m \u001b[39mNone\u001b[39;00m \u001b[39mand\u001b[39;00m\n\u001b[0;32m    344\u001b[0m         parse_int \u001b[39mis\u001b[39;00m \u001b[39mNone\u001b[39;00m \u001b[39mand\u001b[39;00m parse_float \u001b[39mis\u001b[39;00m \u001b[39mNone\u001b[39;00m \u001b[39mand\u001b[39;00m\n\u001b[0;32m    345\u001b[0m         parse_constant \u001b[39mis\u001b[39;00m \u001b[39mNone\u001b[39;00m \u001b[39mand\u001b[39;00m object_pairs_hook \u001b[39mis\u001b[39;00m \u001b[39mNone\u001b[39;00m \u001b[39mand\u001b[39;00m \u001b[39mnot\u001b[39;00m kw):\n\u001b[1;32m--> 346\u001b[0m     \u001b[39mreturn\u001b[39;00m _default_decoder\u001b[39m.\u001b[39;49mdecode(s)\n\u001b[0;32m    347\u001b[0m \u001b[39mif\u001b[39;00m \u001b[39mcls\u001b[39m \u001b[39mis\u001b[39;00m \u001b[39mNone\u001b[39;00m:\n\u001b[0;32m    348\u001b[0m     \u001b[39mcls\u001b[39m \u001b[39m=\u001b[39m JSONDecoder\n",
      "File \u001b[1;32mc:\\Users\\elypa\\anaconda3\\envs\\DATA_MINING\\lib\\json\\decoder.py:337\u001b[0m, in \u001b[0;36mJSONDecoder.decode\u001b[1;34m(self, s, _w)\u001b[0m\n\u001b[0;32m    332\u001b[0m \u001b[39mdef\u001b[39;00m \u001b[39mdecode\u001b[39m(\u001b[39mself\u001b[39m, s, _w\u001b[39m=\u001b[39mWHITESPACE\u001b[39m.\u001b[39mmatch):\n\u001b[0;32m    333\u001b[0m     \u001b[39m\"\"\"Return the Python representation of ``s`` (a ``str`` instance\u001b[39;00m\n\u001b[0;32m    334\u001b[0m \u001b[39m    containing a JSON document).\u001b[39;00m\n\u001b[0;32m    335\u001b[0m \n\u001b[0;32m    336\u001b[0m \u001b[39m    \"\"\"\u001b[39;00m\n\u001b[1;32m--> 337\u001b[0m     obj, end \u001b[39m=\u001b[39m \u001b[39mself\u001b[39;49m\u001b[39m.\u001b[39;49mraw_decode(s, idx\u001b[39m=\u001b[39;49m_w(s, \u001b[39m0\u001b[39;49m)\u001b[39m.\u001b[39;49mend())\n\u001b[0;32m    338\u001b[0m     end \u001b[39m=\u001b[39m _w(s, end)\u001b[39m.\u001b[39mend()\n\u001b[0;32m    339\u001b[0m     \u001b[39mif\u001b[39;00m end \u001b[39m!=\u001b[39m \u001b[39mlen\u001b[39m(s):\n",
      "File \u001b[1;32mc:\\Users\\elypa\\anaconda3\\envs\\DATA_MINING\\lib\\json\\decoder.py:353\u001b[0m, in \u001b[0;36mJSONDecoder.raw_decode\u001b[1;34m(self, s, idx)\u001b[0m\n\u001b[0;32m    344\u001b[0m \u001b[39m\"\"\"Decode a JSON document from ``s`` (a ``str`` beginning with\u001b[39;00m\n\u001b[0;32m    345\u001b[0m \u001b[39ma JSON document) and return a 2-tuple of the Python\u001b[39;00m\n\u001b[0;32m    346\u001b[0m \u001b[39mrepresentation and the index in ``s`` where the document ended.\u001b[39;00m\n\u001b[1;32m   (...)\u001b[0m\n\u001b[0;32m    350\u001b[0m \n\u001b[0;32m    351\u001b[0m \u001b[39m\"\"\"\u001b[39;00m\n\u001b[0;32m    352\u001b[0m \u001b[39mtry\u001b[39;00m:\n\u001b[1;32m--> 353\u001b[0m     obj, end \u001b[39m=\u001b[39m \u001b[39mself\u001b[39;49m\u001b[39m.\u001b[39;49mscan_once(s, idx)\n\u001b[0;32m    354\u001b[0m \u001b[39mexcept\u001b[39;00m \u001b[39mStopIteration\u001b[39;00m \u001b[39mas\u001b[39;00m err:\n\u001b[0;32m    355\u001b[0m     \u001b[39mraise\u001b[39;00m JSONDecodeError(\u001b[39m\"\u001b[39m\u001b[39mExpecting value\u001b[39m\u001b[39m\"\u001b[39m, s, err\u001b[39m.\u001b[39mvalue) \u001b[39mfrom\u001b[39;00m \u001b[39mNone\u001b[39m\n",
      "\u001b[1;31mJSONDecodeError\u001b[0m: Expecting ',' delimiter: line 19800017 column 42 (char 675558199)"
     ]
    }
   ],
   "source": [
    "# import conditions and therapies data\n",
    "with open('../../data/full_data.json', 'r') as file:\n",
    "    all_data = json.load(file)"
   ]
  },
  {
   "cell_type": "code",
   "execution_count": 68,
   "metadata": {},
   "outputs": [],
   "source": [
    "patients = all_data['Patients']\n",
    "conditions = all_data['Conditions']\n",
    "therapies = all_data['Therapies']"
   ]
  },
  {
   "cell_type": "code",
   "execution_count": 80,
   "metadata": {},
   "outputs": [],
   "source": [
    "new_dict = {}\n",
    "for item in therapies:\n",
    "   id = item.pop('id')\n",
    "   new_dict[id] = item\n",
    "   \n"
   ]
  },
  {
   "cell_type": "code",
   "execution_count": 83,
   "metadata": {},
   "outputs": [
    {
     "data": {
      "text/html": [
       "<div>\n",
       "<style scoped>\n",
       "    .dataframe tbody tr th:only-of-type {\n",
       "        vertical-align: middle;\n",
       "    }\n",
       "\n",
       "    .dataframe tbody tr th {\n",
       "        vertical-align: top;\n",
       "    }\n",
       "\n",
       "    .dataframe thead th {\n",
       "        text-align: right;\n",
       "    }\n",
       "</style>\n",
       "<table border=\"1\" class=\"dataframe\">\n",
       "  <thead>\n",
       "    <tr style=\"text-align: right;\">\n",
       "      <th></th>\n",
       "      <th>name</th>\n",
       "      <th>type</th>\n",
       "    </tr>\n",
       "  </thead>\n",
       "  <tbody>\n",
       "    <tr>\n",
       "      <th>ther_0</th>\n",
       "      <td>Abortion</td>\n",
       "      <td>Surgical procedures</td>\n",
       "    </tr>\n",
       "    <tr>\n",
       "      <th>ther_1</th>\n",
       "      <td>Amniocentesis</td>\n",
       "      <td>Biopsies</td>\n",
       "    </tr>\n",
       "    <tr>\n",
       "      <th>ther_2</th>\n",
       "      <td>Amputation</td>\n",
       "      <td>Surgical procedures</td>\n",
       "    </tr>\n",
       "    <tr>\n",
       "      <th>ther_3</th>\n",
       "      <td>Anaesthesia</td>\n",
       "      <td>Medicines and medical aids</td>\n",
       "    </tr>\n",
       "    <tr>\n",
       "      <th>ther_4</th>\n",
       "      <td>Antibiotics</td>\n",
       "      <td>Medicines and medical aids</td>\n",
       "    </tr>\n",
       "    <tr>\n",
       "      <th>...</th>\n",
       "      <td>...</td>\n",
       "      <td>...</td>\n",
       "    </tr>\n",
       "    <tr>\n",
       "      <th>ther_62</th>\n",
       "      <td>Ultrasound scan</td>\n",
       "      <td>Scans and X-rays</td>\n",
       "    </tr>\n",
       "    <tr>\n",
       "      <th>ther_63</th>\n",
       "      <td>Urinary catheterisation</td>\n",
       "      <td>Medicines and medical aids</td>\n",
       "    </tr>\n",
       "    <tr>\n",
       "      <th>ther_64</th>\n",
       "      <td>Warfarin</td>\n",
       "      <td>Medicines and medical aids</td>\n",
       "    </tr>\n",
       "    <tr>\n",
       "      <th>ther_65</th>\n",
       "      <td>Wisdom tooth removal</td>\n",
       "      <td>Dental treatments</td>\n",
       "    </tr>\n",
       "    <tr>\n",
       "      <th>ther_66</th>\n",
       "      <td>X-ray</td>\n",
       "      <td>Scans and X-rays</td>\n",
       "    </tr>\n",
       "  </tbody>\n",
       "</table>\n",
       "<p>67 rows × 2 columns</p>\n",
       "</div>"
      ],
      "text/plain": [
       "                            name                        type\n",
       "ther_0                  Abortion         Surgical procedures\n",
       "ther_1             Amniocentesis                    Biopsies\n",
       "ther_2                Amputation         Surgical procedures\n",
       "ther_3               Anaesthesia  Medicines and medical aids\n",
       "ther_4               Antibiotics  Medicines and medical aids\n",
       "...                          ...                         ...\n",
       "ther_62          Ultrasound scan            Scans and X-rays\n",
       "ther_63  Urinary catheterisation  Medicines and medical aids\n",
       "ther_64                 Warfarin  Medicines and medical aids\n",
       "ther_65     Wisdom tooth removal           Dental treatments\n",
       "ther_66                    X-ray            Scans and X-rays\n",
       "\n",
       "[67 rows x 2 columns]"
      ]
     },
     "execution_count": 83,
     "metadata": {},
     "output_type": "execute_result"
    }
   ],
   "source": [
    "new_dict\n",
    "\n",
    "df = pd.DataFrame.from_dict(new_dict, orient=\"index\")\n",
    "df"
   ]
  },
  {
   "cell_type": "code",
   "execution_count": null,
   "metadata": {},
   "outputs": [],
   "source": [
    "\n",
    "df = pd.DataFrame.from_dict(new_dict, orient=\"index\")"
   ]
  },
  {
   "cell_type": "code",
   "execution_count": 72,
   "metadata": {},
   "outputs": [
    {
     "ename": "KeyError",
     "evalue": "'id'",
     "output_type": "error",
     "traceback": [
      "\u001b[1;31m---------------------------------------------------------------------------\u001b[0m",
      "\u001b[1;31mKeyError\u001b[0m                                  Traceback (most recent call last)",
      "\u001b[1;32mc:\\Users\\elypa\\OneDrive\\Desktop\\Data Mining\\DataMining-Project\\src\\collaborative_filtering\\test.ipynb Cell 7'\u001b[0m in \u001b[0;36m<cell line: 10>\u001b[1;34m()\u001b[0m\n\u001b[0;32m      <a href='vscode-notebook-cell:/c%3A/Users/elypa/OneDrive/Desktop/Data%20Mining/DataMining-Project/src/collaborative_filtering/test.ipynb#ch0000020?line=5'>6</a>\u001b[0m    df \u001b[39m=\u001b[39m pd\u001b[39m.\u001b[39mDataFrame\u001b[39m.\u001b[39mfrom_dict(new_dict, orient\u001b[39m=\u001b[39m\u001b[39m\"\u001b[39m\u001b[39mindex\u001b[39m\u001b[39m\"\u001b[39m)\n\u001b[0;32m      <a href='vscode-notebook-cell:/c%3A/Users/elypa/OneDrive/Desktop/Data%20Mining/DataMining-Project/src/collaborative_filtering/test.ipynb#ch0000020?line=6'>7</a>\u001b[0m    \u001b[39mreturn\u001b[39;00m df\n\u001b[1;32m---> <a href='vscode-notebook-cell:/c%3A/Users/elypa/OneDrive/Desktop/Data%20Mining/DataMining-Project/src/collaborative_filtering/test.ipynb#ch0000020?line=9'>10</a>\u001b[0m from_dict_to_df(conditions, \u001b[39m'\u001b[39;49m\u001b[39mid\u001b[39;49m\u001b[39m'\u001b[39;49m)\n",
      "\u001b[1;32mc:\\Users\\elypa\\OneDrive\\Desktop\\Data Mining\\DataMining-Project\\src\\collaborative_filtering\\test.ipynb Cell 7'\u001b[0m in \u001b[0;36mfrom_dict_to_df\u001b[1;34m(dict, id_field)\u001b[0m\n\u001b[0;32m      <a href='vscode-notebook-cell:/c%3A/Users/elypa/OneDrive/Desktop/Data%20Mining/DataMining-Project/src/collaborative_filtering/test.ipynb#ch0000020?line=1'>2</a>\u001b[0m new_dict \u001b[39m=\u001b[39m {}\n\u001b[0;32m      <a href='vscode-notebook-cell:/c%3A/Users/elypa/OneDrive/Desktop/Data%20Mining/DataMining-Project/src/collaborative_filtering/test.ipynb#ch0000020?line=2'>3</a>\u001b[0m \u001b[39mfor\u001b[39;00m item \u001b[39min\u001b[39;00m \u001b[39mdict\u001b[39m:\n\u001b[1;32m----> <a href='vscode-notebook-cell:/c%3A/Users/elypa/OneDrive/Desktop/Data%20Mining/DataMining-Project/src/collaborative_filtering/test.ipynb#ch0000020?line=3'>4</a>\u001b[0m    \u001b[39mid\u001b[39m \u001b[39m=\u001b[39m item\u001b[39m.\u001b[39;49mpop(id_field)\n\u001b[0;32m      <a href='vscode-notebook-cell:/c%3A/Users/elypa/OneDrive/Desktop/Data%20Mining/DataMining-Project/src/collaborative_filtering/test.ipynb#ch0000020?line=4'>5</a>\u001b[0m    new_dict[\u001b[39mid\u001b[39m] \u001b[39m=\u001b[39m item\n\u001b[0;32m      <a href='vscode-notebook-cell:/c%3A/Users/elypa/OneDrive/Desktop/Data%20Mining/DataMining-Project/src/collaborative_filtering/test.ipynb#ch0000020?line=5'>6</a>\u001b[0m df \u001b[39m=\u001b[39m pd\u001b[39m.\u001b[39mDataFrame\u001b[39m.\u001b[39mfrom_dict(new_dict, orient\u001b[39m=\u001b[39m\u001b[39m\"\u001b[39m\u001b[39mindex\u001b[39m\u001b[39m\"\u001b[39m)\n",
      "\u001b[1;31mKeyError\u001b[0m: 'id'"
     ]
    }
   ],
   "source": [
    "def from_dict_to_df(dict):\n",
    "   new_dict = {}\n",
    "   for item in dict:\n",
    "      id = item.pop('id')\n",
    "      new_dict[id] = item\n",
    "   df = pd.DataFrame.from_dict(new_dict, orient=\"index\")\n",
    "   return df\n",
    "   \n",
    "   \n",
    "from_dict_to_df(conditions, 'id')"
   ]
  },
  {
   "cell_type": "code",
   "execution_count": 23,
   "metadata": {},
   "outputs": [
    {
     "data": {
      "text/html": [
       "<div>\n",
       "<style scoped>\n",
       "    .dataframe tbody tr th:only-of-type {\n",
       "        vertical-align: middle;\n",
       "    }\n",
       "\n",
       "    .dataframe tbody tr th {\n",
       "        vertical-align: top;\n",
       "    }\n",
       "\n",
       "    .dataframe thead th {\n",
       "        text-align: right;\n",
       "    }\n",
       "</style>\n",
       "<table border=\"1\" class=\"dataframe\">\n",
       "  <thead>\n",
       "    <tr style=\"text-align: right;\">\n",
       "      <th></th>\n",
       "      <th>name</th>\n",
       "      <th>gender</th>\n",
       "      <th>conditions</th>\n",
       "      <th>trials</th>\n",
       "    </tr>\n",
       "  </thead>\n",
       "  <tbody>\n",
       "    <tr>\n",
       "      <th>pat_0</th>\n",
       "      <td>Aamir</td>\n",
       "      <td>Male</td>\n",
       "      <td>[{'id': 'c1', 'diagnosed': '2008-11-16', 'cure...</td>\n",
       "      <td>[{'id': 'c1_t1', 'start': '2014-08-16', 'end':...</td>\n",
       "    </tr>\n",
       "    <tr>\n",
       "      <th>pat_1</th>\n",
       "      <td>Aba</td>\n",
       "      <td>Male</td>\n",
       "      <td>[{'id': 'c1', 'diagnosed': '2003-03-26', 'cure...</td>\n",
       "      <td>[{'id': 'c1_t1', 'start': '2006-03-03', 'end':...</td>\n",
       "    </tr>\n",
       "    <tr>\n",
       "      <th>pat_2</th>\n",
       "      <td>Ababacar</td>\n",
       "      <td>Male</td>\n",
       "      <td>[{'id': 'c1', 'diagnosed': '2006-04-24', 'cure...</td>\n",
       "      <td>[{'id': 'c1_t1', 'start': '2019-01-13', 'end':...</td>\n",
       "    </tr>\n",
       "    <tr>\n",
       "      <th>pat_3</th>\n",
       "      <td>Ababei</td>\n",
       "      <td>Male</td>\n",
       "      <td>[{'id': 'c1', 'diagnosed': '2007-10-16', 'cure...</td>\n",
       "      <td>[{'id': 'c1_t1', 'start': '2018-01-25', 'end':...</td>\n",
       "    </tr>\n",
       "    <tr>\n",
       "      <th>pat_4</th>\n",
       "      <td>Abanob</td>\n",
       "      <td>Male</td>\n",
       "      <td>[{'id': 'c1', 'diagnosed': '2004-02-12', 'cure...</td>\n",
       "      <td>[{'id': 'c1_t1', 'start': '2013-12-24', 'end':...</td>\n",
       "    </tr>\n",
       "    <tr>\n",
       "      <th>...</th>\n",
       "      <td>...</td>\n",
       "      <td>...</td>\n",
       "      <td>...</td>\n",
       "      <td>...</td>\n",
       "    </tr>\n",
       "    <tr>\n",
       "      <th>pat_16917</th>\n",
       "      <td>玲玲</td>\n",
       "      <td>Female</td>\n",
       "      <td>[{'id': 'c1', 'diagnosed': '2001-07-10', 'cure...</td>\n",
       "      <td>[{'id': 'c1_t1', 'start': '2010-03-28', 'end':...</td>\n",
       "    </tr>\n",
       "    <tr>\n",
       "      <th>pat_16918</th>\n",
       "      <td>珊珊</td>\n",
       "      <td>Female</td>\n",
       "      <td>[{'id': 'c1', 'diagnosed': '2000-01-18', 'cure...</td>\n",
       "      <td>[{'id': 'c1_t1', 'start': '2014-08-23', 'end':...</td>\n",
       "    </tr>\n",
       "    <tr>\n",
       "      <th>pat_16919</th>\n",
       "      <td>盈盈</td>\n",
       "      <td>Female</td>\n",
       "      <td>[{'id': 'c1', 'diagnosed': '2008-07-30', 'cure...</td>\n",
       "      <td>[{'id': 'c1_t1', 'start': '2015-12-31', 'end':...</td>\n",
       "    </tr>\n",
       "    <tr>\n",
       "      <th>pat_16920</th>\n",
       "      <td>芳芳</td>\n",
       "      <td>Female</td>\n",
       "      <td>[{'id': 'c1', 'diagnosed': '2007-05-12', 'cure...</td>\n",
       "      <td>[{'id': 'c1_t1', 'start': '2013-06-30', 'end':...</td>\n",
       "    </tr>\n",
       "    <tr>\n",
       "      <th>pat_16921</th>\n",
       "      <td>青青</td>\n",
       "      <td>Female</td>\n",
       "      <td>[{'id': 'c1', 'diagnosed': '2007-03-24', 'cure...</td>\n",
       "      <td>[{'id': 'c1_t1', 'start': '2007-12-24', 'end':...</td>\n",
       "    </tr>\n",
       "  </tbody>\n",
       "</table>\n",
       "<p>16922 rows × 4 columns</p>\n",
       "</div>"
      ],
      "text/plain": [
       "               name  gender  \\\n",
       "pat_0         Aamir    Male   \n",
       "pat_1           Aba    Male   \n",
       "pat_2      Ababacar    Male   \n",
       "pat_3        Ababei    Male   \n",
       "pat_4        Abanob    Male   \n",
       "...             ...     ...   \n",
       "pat_16917        玲玲  Female   \n",
       "pat_16918        珊珊  Female   \n",
       "pat_16919        盈盈  Female   \n",
       "pat_16920        芳芳  Female   \n",
       "pat_16921        青青  Female   \n",
       "\n",
       "                                                  conditions  \\\n",
       "pat_0      [{'id': 'c1', 'diagnosed': '2008-11-16', 'cure...   \n",
       "pat_1      [{'id': 'c1', 'diagnosed': '2003-03-26', 'cure...   \n",
       "pat_2      [{'id': 'c1', 'diagnosed': '2006-04-24', 'cure...   \n",
       "pat_3      [{'id': 'c1', 'diagnosed': '2007-10-16', 'cure...   \n",
       "pat_4      [{'id': 'c1', 'diagnosed': '2004-02-12', 'cure...   \n",
       "...                                                      ...   \n",
       "pat_16917  [{'id': 'c1', 'diagnosed': '2001-07-10', 'cure...   \n",
       "pat_16918  [{'id': 'c1', 'diagnosed': '2000-01-18', 'cure...   \n",
       "pat_16919  [{'id': 'c1', 'diagnosed': '2008-07-30', 'cure...   \n",
       "pat_16920  [{'id': 'c1', 'diagnosed': '2007-05-12', 'cure...   \n",
       "pat_16921  [{'id': 'c1', 'diagnosed': '2007-03-24', 'cure...   \n",
       "\n",
       "                                                      trials  \n",
       "pat_0      [{'id': 'c1_t1', 'start': '2014-08-16', 'end':...  \n",
       "pat_1      [{'id': 'c1_t1', 'start': '2006-03-03', 'end':...  \n",
       "pat_2      [{'id': 'c1_t1', 'start': '2019-01-13', 'end':...  \n",
       "pat_3      [{'id': 'c1_t1', 'start': '2018-01-25', 'end':...  \n",
       "pat_4      [{'id': 'c1_t1', 'start': '2013-12-24', 'end':...  \n",
       "...                                                      ...  \n",
       "pat_16917  [{'id': 'c1_t1', 'start': '2010-03-28', 'end':...  \n",
       "pat_16918  [{'id': 'c1_t1', 'start': '2014-08-23', 'end':...  \n",
       "pat_16919  [{'id': 'c1_t1', 'start': '2015-12-31', 'end':...  \n",
       "pat_16920  [{'id': 'c1_t1', 'start': '2013-06-30', 'end':...  \n",
       "pat_16921  [{'id': 'c1_t1', 'start': '2007-12-24', 'end':...  \n",
       "\n",
       "[16922 rows x 4 columns]"
      ]
     },
     "execution_count": 23,
     "metadata": {},
     "output_type": "execute_result"
    }
   ],
   "source": [
    "patients_df = pd.DataFrame.from_dict(new_dict, orient=\"index\")\n",
    "patients_df"
   ]
  },
  {
   "cell_type": "code",
   "execution_count": 56,
   "metadata": {},
   "outputs": [
    {
     "name": "stderr",
     "output_type": "stream",
     "text": [
      "c:\\Users\\elypa\\anaconda3\\envs\\DATA_MINING\\lib\\site-packages\\scipy\\spatial\\distance.py:299: VisibleDeprecationWarning: Creating an ndarray from ragged nested sequences (which is a list-or-tuple of lists-or-tuples-or ndarrays with different lengths or shapes) is deprecated. If you meant to do this, you must specify 'dtype=object' when creating the ndarray.\n",
      "  u = np.asarray(u, dtype=dtype, order='c')\n"
     ]
    },
    {
     "ename": "TypeError",
     "evalue": "can't multiply sequence by non-int of type 'str'",
     "output_type": "error",
     "traceback": [
      "\u001b[1;31m---------------------------------------------------------------------------\u001b[0m",
      "\u001b[1;31mTypeError\u001b[0m                                 Traceback (most recent call last)",
      "\u001b[1;32mc:\\Users\\elypa\\OneDrive\\Desktop\\Data Mining\\DataMining-Project\\src\\collaborative_filtering\\test.ipynb Cell 8'\u001b[0m in \u001b[0;36m<cell line: 5>\u001b[1;34m()\u001b[0m\n\u001b[0;32m      <a href='vscode-notebook-cell:/c%3A/Users/elypa/OneDrive/Desktop/Data%20Mining/DataMining-Project/src/collaborative_filtering/test.ipynb#ch0000005?line=2'>3</a>\u001b[0m a \u001b[39m=\u001b[39m patients_df\u001b[39m.\u001b[39miloc[\u001b[39m1\u001b[39m]\u001b[39m.\u001b[39mtolist()\n\u001b[0;32m      <a href='vscode-notebook-cell:/c%3A/Users/elypa/OneDrive/Desktop/Data%20Mining/DataMining-Project/src/collaborative_filtering/test.ipynb#ch0000005?line=3'>4</a>\u001b[0m c \u001b[39m=\u001b[39m patients_df\u001b[39m.\u001b[39miloc[\u001b[39m2\u001b[39m]\u001b[39m.\u001b[39mtolist()\n\u001b[1;32m----> <a href='vscode-notebook-cell:/c%3A/Users/elypa/OneDrive/Desktop/Data%20Mining/DataMining-Project/src/collaborative_filtering/test.ipynb#ch0000005?line=4'>5</a>\u001b[0m spatial\u001b[39m.\u001b[39;49mdistance\u001b[39m.\u001b[39;49mcosine(c,a)\n",
      "File \u001b[1;32mc:\\Users\\elypa\\anaconda3\\envs\\DATA_MINING\\lib\\site-packages\\scipy\\spatial\\distance.py:678\u001b[0m, in \u001b[0;36mcosine\u001b[1;34m(u, v, w)\u001b[0m\n\u001b[0;32m    636\u001b[0m \u001b[39m\"\"\"\u001b[39;00m\n\u001b[0;32m    637\u001b[0m \u001b[39mCompute the Cosine distance between 1-D arrays.\u001b[39;00m\n\u001b[0;32m    638\u001b[0m \n\u001b[1;32m   (...)\u001b[0m\n\u001b[0;32m    673\u001b[0m \n\u001b[0;32m    674\u001b[0m \u001b[39m\"\"\"\u001b[39;00m\n\u001b[0;32m    675\u001b[0m \u001b[39m# cosine distance is also referred to as 'uncentered correlation',\u001b[39;00m\n\u001b[0;32m    676\u001b[0m \u001b[39m#   or 'reflective correlation'\u001b[39;00m\n\u001b[0;32m    677\u001b[0m \u001b[39m# clamp the result to 0-2\u001b[39;00m\n\u001b[1;32m--> 678\u001b[0m \u001b[39mreturn\u001b[39;00m \u001b[39mmax\u001b[39m(\u001b[39m0\u001b[39m, \u001b[39mmin\u001b[39m(correlation(u, v, w\u001b[39m=\u001b[39;49mw, centered\u001b[39m=\u001b[39;49m\u001b[39mFalse\u001b[39;49;00m), \u001b[39m2.0\u001b[39m))\n",
      "File \u001b[1;32mc:\\Users\\elypa\\anaconda3\\envs\\DATA_MINING\\lib\\site-packages\\scipy\\spatial\\distance.py:627\u001b[0m, in \u001b[0;36mcorrelation\u001b[1;34m(u, v, w, centered)\u001b[0m\n\u001b[0;32m    625\u001b[0m     u \u001b[39m=\u001b[39m u \u001b[39m-\u001b[39m umu\n\u001b[0;32m    626\u001b[0m     v \u001b[39m=\u001b[39m v \u001b[39m-\u001b[39m vmu\n\u001b[1;32m--> 627\u001b[0m uv \u001b[39m=\u001b[39m np\u001b[39m.\u001b[39maverage(u \u001b[39m*\u001b[39;49m v, weights\u001b[39m=\u001b[39mw)\n\u001b[0;32m    628\u001b[0m uu \u001b[39m=\u001b[39m np\u001b[39m.\u001b[39maverage(np\u001b[39m.\u001b[39msquare(u), weights\u001b[39m=\u001b[39mw)\n\u001b[0;32m    629\u001b[0m vv \u001b[39m=\u001b[39m np\u001b[39m.\u001b[39maverage(np\u001b[39m.\u001b[39msquare(v), weights\u001b[39m=\u001b[39mw)\n",
      "\u001b[1;31mTypeError\u001b[0m: can't multiply sequence by non-int of type 'str'"
     ]
    }
   ],
   "source": []
  }
 ],
 "metadata": {
  "kernelspec": {
   "display_name": "Python 3.9.12 ('DATA_MINING')",
   "language": "python",
   "name": "python3"
  },
  "language_info": {
   "codemirror_mode": {
    "name": "ipython",
    "version": 3
   },
   "file_extension": ".py",
   "mimetype": "text/x-python",
   "name": "python",
   "nbconvert_exporter": "python",
   "pygments_lexer": "ipython3",
   "version": "3.9.12"
  },
  "orig_nbformat": 4,
  "vscode": {
   "interpreter": {
    "hash": "9478262fb3c52ab4ffeada6175b6b0d234b7147cd16c4fdbc145fe9c59d9ba51"
   }
  }
 },
 "nbformat": 4,
 "nbformat_minor": 2
}
