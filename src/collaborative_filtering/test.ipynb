{
 "cells": [
  {
   "cell_type": "markdown",
   "metadata": {},
   "source": [
    "# **Collaborative filtering**"
   ]
  },
  {
   "cell_type": "markdown",
   "metadata": {},
   "source": [
    "#### **Libraries**"
   ]
  },
  {
   "cell_type": "code",
   "execution_count": 2,
   "metadata": {},
   "outputs": [
    {
     "name": "stdout",
     "output_type": "stream",
     "text": [
      "> Libraries Imported\n"
     ]
    }
   ],
   "source": [
    "import pandas as pd\n",
    "import requests\n",
    "import json\n",
    "from bs4 import BeautifulSoup\n",
    "from tqdm import tqdm\n",
    "import random\n",
    "\n",
    "#import pandas_profiling\n",
    "import numpy as np\n",
    "\n",
    "print(\"> Libraries Imported\")"
   ]
  },
  {
   "cell_type": "code",
   "execution_count": 3,
   "metadata": {},
   "outputs": [],
   "source": [
    "# import conditions and therapies data\n",
    "with open('../../data/full_data.json', 'r') as file:\n",
    "    all_data = json.load(file)"
   ]
  },
  {
   "cell_type": "code",
   "execution_count": 4,
   "metadata": {},
   "outputs": [],
   "source": [
    "patients = all_data['Patients']\n",
    "conditions = all_data['Conditions']\n",
    "therapies = all_data['Therapies']"
   ]
  },
  {
   "cell_type": "code",
   "execution_count": 5,
   "metadata": {},
   "outputs": [],
   "source": [
    "def from_dict_to_df(dict):\n",
    "    new_dict = {}\n",
    "    for item in dict:\n",
    "        id = item.pop('id')\n",
    "        new_dict[id] = item\n",
    "    df = pd.DataFrame.from_dict(new_dict, orient=\"index\")\n",
    "    return df\n",
    "   \n",
    "   \n",
    "conditions_df = from_dict_to_df(conditions)"
   ]
  },
  {
   "cell_type": "code",
   "execution_count": 6,
   "metadata": {},
   "outputs": [
    {
     "data": {
      "text/html": [
       "<div>\n",
       "<style scoped>\n",
       "    .dataframe tbody tr th:only-of-type {\n",
       "        vertical-align: middle;\n",
       "    }\n",
       "\n",
       "    .dataframe tbody tr th {\n",
       "        vertical-align: top;\n",
       "    }\n",
       "\n",
       "    .dataframe thead th {\n",
       "        text-align: right;\n",
       "    }\n",
       "</style>\n",
       "<table border=\"1\" class=\"dataframe\">\n",
       "  <thead>\n",
       "    <tr style=\"text-align: right;\">\n",
       "      <th></th>\n",
       "      <th>name</th>\n",
       "      <th>type</th>\n",
       "    </tr>\n",
       "  </thead>\n",
       "  <tbody>\n",
       "    <tr>\n",
       "      <th>cond_0</th>\n",
       "      <td>Abdominal aortic aneurysm</td>\n",
       "      <td>Heart and blood vessels</td>\n",
       "    </tr>\n",
       "    <tr>\n",
       "      <th>cond_1</th>\n",
       "      <td>Acne</td>\n",
       "      <td>Skin, hair and nails</td>\n",
       "    </tr>\n",
       "    <tr>\n",
       "      <th>cond_2</th>\n",
       "      <td>Acute cholecystitis</td>\n",
       "      <td>Stomach, liver and gastrointestinal tract</td>\n",
       "    </tr>\n",
       "    <tr>\n",
       "      <th>cond_3</th>\n",
       "      <td>Acute lymphoblastic leukaemia</td>\n",
       "      <td>Cancer</td>\n",
       "    </tr>\n",
       "    <tr>\n",
       "      <th>cond_4</th>\n",
       "      <td>Acute lymphoblastic leukaemia: Children</td>\n",
       "      <td>Cancer</td>\n",
       "    </tr>\n",
       "    <tr>\n",
       "      <th>...</th>\n",
       "      <td>...</td>\n",
       "      <td>...</td>\n",
       "    </tr>\n",
       "    <tr>\n",
       "      <th>cond_304</th>\n",
       "      <td>Warts and verrucas</td>\n",
       "      <td>Skin, hair and nails</td>\n",
       "    </tr>\n",
       "    <tr>\n",
       "      <th>cond_305</th>\n",
       "      <td>Whooping cough</td>\n",
       "      <td>Infections and poisoning</td>\n",
       "    </tr>\n",
       "    <tr>\n",
       "      <th>cond_306</th>\n",
       "      <td>Wilms’ tumour</td>\n",
       "      <td>Cancer</td>\n",
       "    </tr>\n",
       "    <tr>\n",
       "      <th>cond_307</th>\n",
       "      <td>Womb (uterus) cancer</td>\n",
       "      <td>Cancer</td>\n",
       "    </tr>\n",
       "    <tr>\n",
       "      <th>cond_308</th>\n",
       "      <td>Yellow fever</td>\n",
       "      <td>Infections and poisoning</td>\n",
       "    </tr>\n",
       "  </tbody>\n",
       "</table>\n",
       "<p>309 rows × 2 columns</p>\n",
       "</div>"
      ],
      "text/plain": [
       "                                             name  \\\n",
       "cond_0                  Abdominal aortic aneurysm   \n",
       "cond_1                                       Acne   \n",
       "cond_2                        Acute cholecystitis   \n",
       "cond_3              Acute lymphoblastic leukaemia   \n",
       "cond_4    Acute lymphoblastic leukaemia: Children   \n",
       "...                                           ...   \n",
       "cond_304                       Warts and verrucas   \n",
       "cond_305                           Whooping cough   \n",
       "cond_306                            Wilms’ tumour   \n",
       "cond_307                     Womb (uterus) cancer   \n",
       "cond_308                             Yellow fever   \n",
       "\n",
       "                                               type  \n",
       "cond_0                      Heart and blood vessels  \n",
       "cond_1                         Skin, hair and nails  \n",
       "cond_2    Stomach, liver and gastrointestinal tract  \n",
       "cond_3                                       Cancer  \n",
       "cond_4                                       Cancer  \n",
       "...                                             ...  \n",
       "cond_304                       Skin, hair and nails  \n",
       "cond_305                   Infections and poisoning  \n",
       "cond_306                                     Cancer  \n",
       "cond_307                                     Cancer  \n",
       "cond_308                   Infections and poisoning  \n",
       "\n",
       "[309 rows x 2 columns]"
      ]
     },
     "execution_count": 6,
     "metadata": {},
     "output_type": "execute_result"
    }
   ],
   "source": [
    "conditions_df"
   ]
  },
  {
   "cell_type": "code",
   "execution_count": 7,
   "metadata": {},
   "outputs": [],
   "source": [
    "# convert df column type to dummy\n",
    "df_dc = pd.get_dummies(conditions_df, columns=['type'])"
   ]
  },
  {
   "cell_type": "code",
   "execution_count": 8,
   "metadata": {},
   "outputs": [
    {
     "data": {
      "text/html": [
       "<div>\n",
       "<style scoped>\n",
       "    .dataframe tbody tr th:only-of-type {\n",
       "        vertical-align: middle;\n",
       "    }\n",
       "\n",
       "    .dataframe tbody tr th {\n",
       "        vertical-align: top;\n",
       "    }\n",
       "\n",
       "    .dataframe thead th {\n",
       "        text-align: right;\n",
       "    }\n",
       "</style>\n",
       "<table border=\"1\" class=\"dataframe\">\n",
       "  <thead>\n",
       "    <tr style=\"text-align: right;\">\n",
       "      <th></th>\n",
       "      <th>name</th>\n",
       "      <th>type_Blood and lymph</th>\n",
       "      <th>type_Brain, nerves and spinal cord</th>\n",
       "      <th>type_Cancer</th>\n",
       "      <th>type_Diabetes</th>\n",
       "      <th>type_Down's syndrome</th>\n",
       "      <th>type_Early parenthood</th>\n",
       "      <th>type_Ears, nose and throat</th>\n",
       "      <th>type_Eyes</th>\n",
       "      <th>type_Glands</th>\n",
       "      <th>...</th>\n",
       "      <th>type_Mental health</th>\n",
       "      <th>type_Mouth</th>\n",
       "      <th>type_Muscle, bone and joints</th>\n",
       "      <th>type_Nutritional</th>\n",
       "      <th>type_Pregnancy</th>\n",
       "      <th>type_Pregnancy and childbirth</th>\n",
       "      <th>type_Sexual and reproductive</th>\n",
       "      <th>type_Skin, hair and nails</th>\n",
       "      <th>type_Stomach, liver and gastrointestinal tract</th>\n",
       "      <th>type_Women's health</th>\n",
       "    </tr>\n",
       "  </thead>\n",
       "  <tbody>\n",
       "    <tr>\n",
       "      <th>cond_0</th>\n",
       "      <td>Abdominal aortic aneurysm</td>\n",
       "      <td>0</td>\n",
       "      <td>0</td>\n",
       "      <td>0</td>\n",
       "      <td>0</td>\n",
       "      <td>0</td>\n",
       "      <td>0</td>\n",
       "      <td>0</td>\n",
       "      <td>0</td>\n",
       "      <td>0</td>\n",
       "      <td>...</td>\n",
       "      <td>0</td>\n",
       "      <td>0</td>\n",
       "      <td>0</td>\n",
       "      <td>0</td>\n",
       "      <td>0</td>\n",
       "      <td>0</td>\n",
       "      <td>0</td>\n",
       "      <td>0</td>\n",
       "      <td>0</td>\n",
       "      <td>0</td>\n",
       "    </tr>\n",
       "    <tr>\n",
       "      <th>cond_1</th>\n",
       "      <td>Acne</td>\n",
       "      <td>0</td>\n",
       "      <td>0</td>\n",
       "      <td>0</td>\n",
       "      <td>0</td>\n",
       "      <td>0</td>\n",
       "      <td>0</td>\n",
       "      <td>0</td>\n",
       "      <td>0</td>\n",
       "      <td>0</td>\n",
       "      <td>...</td>\n",
       "      <td>0</td>\n",
       "      <td>0</td>\n",
       "      <td>0</td>\n",
       "      <td>0</td>\n",
       "      <td>0</td>\n",
       "      <td>0</td>\n",
       "      <td>0</td>\n",
       "      <td>1</td>\n",
       "      <td>0</td>\n",
       "      <td>0</td>\n",
       "    </tr>\n",
       "    <tr>\n",
       "      <th>cond_2</th>\n",
       "      <td>Acute cholecystitis</td>\n",
       "      <td>0</td>\n",
       "      <td>0</td>\n",
       "      <td>0</td>\n",
       "      <td>0</td>\n",
       "      <td>0</td>\n",
       "      <td>0</td>\n",
       "      <td>0</td>\n",
       "      <td>0</td>\n",
       "      <td>0</td>\n",
       "      <td>...</td>\n",
       "      <td>0</td>\n",
       "      <td>0</td>\n",
       "      <td>0</td>\n",
       "      <td>0</td>\n",
       "      <td>0</td>\n",
       "      <td>0</td>\n",
       "      <td>0</td>\n",
       "      <td>0</td>\n",
       "      <td>1</td>\n",
       "      <td>0</td>\n",
       "    </tr>\n",
       "    <tr>\n",
       "      <th>cond_3</th>\n",
       "      <td>Acute lymphoblastic leukaemia</td>\n",
       "      <td>0</td>\n",
       "      <td>0</td>\n",
       "      <td>1</td>\n",
       "      <td>0</td>\n",
       "      <td>0</td>\n",
       "      <td>0</td>\n",
       "      <td>0</td>\n",
       "      <td>0</td>\n",
       "      <td>0</td>\n",
       "      <td>...</td>\n",
       "      <td>0</td>\n",
       "      <td>0</td>\n",
       "      <td>0</td>\n",
       "      <td>0</td>\n",
       "      <td>0</td>\n",
       "      <td>0</td>\n",
       "      <td>0</td>\n",
       "      <td>0</td>\n",
       "      <td>0</td>\n",
       "      <td>0</td>\n",
       "    </tr>\n",
       "    <tr>\n",
       "      <th>cond_4</th>\n",
       "      <td>Acute lymphoblastic leukaemia: Children</td>\n",
       "      <td>0</td>\n",
       "      <td>0</td>\n",
       "      <td>1</td>\n",
       "      <td>0</td>\n",
       "      <td>0</td>\n",
       "      <td>0</td>\n",
       "      <td>0</td>\n",
       "      <td>0</td>\n",
       "      <td>0</td>\n",
       "      <td>...</td>\n",
       "      <td>0</td>\n",
       "      <td>0</td>\n",
       "      <td>0</td>\n",
       "      <td>0</td>\n",
       "      <td>0</td>\n",
       "      <td>0</td>\n",
       "      <td>0</td>\n",
       "      <td>0</td>\n",
       "      <td>0</td>\n",
       "      <td>0</td>\n",
       "    </tr>\n",
       "    <tr>\n",
       "      <th>...</th>\n",
       "      <td>...</td>\n",
       "      <td>...</td>\n",
       "      <td>...</td>\n",
       "      <td>...</td>\n",
       "      <td>...</td>\n",
       "      <td>...</td>\n",
       "      <td>...</td>\n",
       "      <td>...</td>\n",
       "      <td>...</td>\n",
       "      <td>...</td>\n",
       "      <td>...</td>\n",
       "      <td>...</td>\n",
       "      <td>...</td>\n",
       "      <td>...</td>\n",
       "      <td>...</td>\n",
       "      <td>...</td>\n",
       "      <td>...</td>\n",
       "      <td>...</td>\n",
       "      <td>...</td>\n",
       "      <td>...</td>\n",
       "      <td>...</td>\n",
       "    </tr>\n",
       "    <tr>\n",
       "      <th>cond_304</th>\n",
       "      <td>Warts and verrucas</td>\n",
       "      <td>0</td>\n",
       "      <td>0</td>\n",
       "      <td>0</td>\n",
       "      <td>0</td>\n",
       "      <td>0</td>\n",
       "      <td>0</td>\n",
       "      <td>0</td>\n",
       "      <td>0</td>\n",
       "      <td>0</td>\n",
       "      <td>...</td>\n",
       "      <td>0</td>\n",
       "      <td>0</td>\n",
       "      <td>0</td>\n",
       "      <td>0</td>\n",
       "      <td>0</td>\n",
       "      <td>0</td>\n",
       "      <td>0</td>\n",
       "      <td>1</td>\n",
       "      <td>0</td>\n",
       "      <td>0</td>\n",
       "    </tr>\n",
       "    <tr>\n",
       "      <th>cond_305</th>\n",
       "      <td>Whooping cough</td>\n",
       "      <td>0</td>\n",
       "      <td>0</td>\n",
       "      <td>0</td>\n",
       "      <td>0</td>\n",
       "      <td>0</td>\n",
       "      <td>0</td>\n",
       "      <td>0</td>\n",
       "      <td>0</td>\n",
       "      <td>0</td>\n",
       "      <td>...</td>\n",
       "      <td>0</td>\n",
       "      <td>0</td>\n",
       "      <td>0</td>\n",
       "      <td>0</td>\n",
       "      <td>0</td>\n",
       "      <td>0</td>\n",
       "      <td>0</td>\n",
       "      <td>0</td>\n",
       "      <td>0</td>\n",
       "      <td>0</td>\n",
       "    </tr>\n",
       "    <tr>\n",
       "      <th>cond_306</th>\n",
       "      <td>Wilms’ tumour</td>\n",
       "      <td>0</td>\n",
       "      <td>0</td>\n",
       "      <td>1</td>\n",
       "      <td>0</td>\n",
       "      <td>0</td>\n",
       "      <td>0</td>\n",
       "      <td>0</td>\n",
       "      <td>0</td>\n",
       "      <td>0</td>\n",
       "      <td>...</td>\n",
       "      <td>0</td>\n",
       "      <td>0</td>\n",
       "      <td>0</td>\n",
       "      <td>0</td>\n",
       "      <td>0</td>\n",
       "      <td>0</td>\n",
       "      <td>0</td>\n",
       "      <td>0</td>\n",
       "      <td>0</td>\n",
       "      <td>0</td>\n",
       "    </tr>\n",
       "    <tr>\n",
       "      <th>cond_307</th>\n",
       "      <td>Womb (uterus) cancer</td>\n",
       "      <td>0</td>\n",
       "      <td>0</td>\n",
       "      <td>1</td>\n",
       "      <td>0</td>\n",
       "      <td>0</td>\n",
       "      <td>0</td>\n",
       "      <td>0</td>\n",
       "      <td>0</td>\n",
       "      <td>0</td>\n",
       "      <td>...</td>\n",
       "      <td>0</td>\n",
       "      <td>0</td>\n",
       "      <td>0</td>\n",
       "      <td>0</td>\n",
       "      <td>0</td>\n",
       "      <td>0</td>\n",
       "      <td>0</td>\n",
       "      <td>0</td>\n",
       "      <td>0</td>\n",
       "      <td>0</td>\n",
       "    </tr>\n",
       "    <tr>\n",
       "      <th>cond_308</th>\n",
       "      <td>Yellow fever</td>\n",
       "      <td>0</td>\n",
       "      <td>0</td>\n",
       "      <td>0</td>\n",
       "      <td>0</td>\n",
       "      <td>0</td>\n",
       "      <td>0</td>\n",
       "      <td>0</td>\n",
       "      <td>0</td>\n",
       "      <td>0</td>\n",
       "      <td>...</td>\n",
       "      <td>0</td>\n",
       "      <td>0</td>\n",
       "      <td>0</td>\n",
       "      <td>0</td>\n",
       "      <td>0</td>\n",
       "      <td>0</td>\n",
       "      <td>0</td>\n",
       "      <td>0</td>\n",
       "      <td>0</td>\n",
       "      <td>0</td>\n",
       "    </tr>\n",
       "  </tbody>\n",
       "</table>\n",
       "<p>309 rows × 26 columns</p>\n",
       "</div>"
      ],
      "text/plain": [
       "                                             name  type_Blood and lymph  \\\n",
       "cond_0                  Abdominal aortic aneurysm                     0   \n",
       "cond_1                                       Acne                     0   \n",
       "cond_2                        Acute cholecystitis                     0   \n",
       "cond_3              Acute lymphoblastic leukaemia                     0   \n",
       "cond_4    Acute lymphoblastic leukaemia: Children                     0   \n",
       "...                                           ...                   ...   \n",
       "cond_304                       Warts and verrucas                     0   \n",
       "cond_305                           Whooping cough                     0   \n",
       "cond_306                            Wilms’ tumour                     0   \n",
       "cond_307                     Womb (uterus) cancer                     0   \n",
       "cond_308                             Yellow fever                     0   \n",
       "\n",
       "          type_Brain, nerves and spinal cord  type_Cancer  type_Diabetes  \\\n",
       "cond_0                                     0            0              0   \n",
       "cond_1                                     0            0              0   \n",
       "cond_2                                     0            0              0   \n",
       "cond_3                                     0            1              0   \n",
       "cond_4                                     0            1              0   \n",
       "...                                      ...          ...            ...   \n",
       "cond_304                                   0            0              0   \n",
       "cond_305                                   0            0              0   \n",
       "cond_306                                   0            1              0   \n",
       "cond_307                                   0            1              0   \n",
       "cond_308                                   0            0              0   \n",
       "\n",
       "          type_Down's syndrome  type_Early parenthood  \\\n",
       "cond_0                       0                      0   \n",
       "cond_1                       0                      0   \n",
       "cond_2                       0                      0   \n",
       "cond_3                       0                      0   \n",
       "cond_4                       0                      0   \n",
       "...                        ...                    ...   \n",
       "cond_304                     0                      0   \n",
       "cond_305                     0                      0   \n",
       "cond_306                     0                      0   \n",
       "cond_307                     0                      0   \n",
       "cond_308                     0                      0   \n",
       "\n",
       "          type_Ears, nose and throat  type_Eyes  type_Glands  ...  \\\n",
       "cond_0                             0          0            0  ...   \n",
       "cond_1                             0          0            0  ...   \n",
       "cond_2                             0          0            0  ...   \n",
       "cond_3                             0          0            0  ...   \n",
       "cond_4                             0          0            0  ...   \n",
       "...                              ...        ...          ...  ...   \n",
       "cond_304                           0          0            0  ...   \n",
       "cond_305                           0          0            0  ...   \n",
       "cond_306                           0          0            0  ...   \n",
       "cond_307                           0          0            0  ...   \n",
       "cond_308                           0          0            0  ...   \n",
       "\n",
       "          type_Mental health  type_Mouth  type_Muscle, bone and joints  \\\n",
       "cond_0                     0           0                             0   \n",
       "cond_1                     0           0                             0   \n",
       "cond_2                     0           0                             0   \n",
       "cond_3                     0           0                             0   \n",
       "cond_4                     0           0                             0   \n",
       "...                      ...         ...                           ...   \n",
       "cond_304                   0           0                             0   \n",
       "cond_305                   0           0                             0   \n",
       "cond_306                   0           0                             0   \n",
       "cond_307                   0           0                             0   \n",
       "cond_308                   0           0                             0   \n",
       "\n",
       "          type_Nutritional  type_Pregnancy  type_Pregnancy and childbirth  \\\n",
       "cond_0                   0               0                              0   \n",
       "cond_1                   0               0                              0   \n",
       "cond_2                   0               0                              0   \n",
       "cond_3                   0               0                              0   \n",
       "cond_4                   0               0                              0   \n",
       "...                    ...             ...                            ...   \n",
       "cond_304                 0               0                              0   \n",
       "cond_305                 0               0                              0   \n",
       "cond_306                 0               0                              0   \n",
       "cond_307                 0               0                              0   \n",
       "cond_308                 0               0                              0   \n",
       "\n",
       "          type_Sexual and reproductive  type_Skin, hair and nails  \\\n",
       "cond_0                               0                          0   \n",
       "cond_1                               0                          1   \n",
       "cond_2                               0                          0   \n",
       "cond_3                               0                          0   \n",
       "cond_4                               0                          0   \n",
       "...                                ...                        ...   \n",
       "cond_304                             0                          1   \n",
       "cond_305                             0                          0   \n",
       "cond_306                             0                          0   \n",
       "cond_307                             0                          0   \n",
       "cond_308                             0                          0   \n",
       "\n",
       "          type_Stomach, liver and gastrointestinal tract  type_Women's health  \n",
       "cond_0                                                 0                    0  \n",
       "cond_1                                                 0                    0  \n",
       "cond_2                                                 1                    0  \n",
       "cond_3                                                 0                    0  \n",
       "cond_4                                                 0                    0  \n",
       "...                                                  ...                  ...  \n",
       "cond_304                                               0                    0  \n",
       "cond_305                                               0                    0  \n",
       "cond_306                                               0                    0  \n",
       "cond_307                                               0                    0  \n",
       "cond_308                                               0                    0  \n",
       "\n",
       "[309 rows x 26 columns]"
      ]
     },
     "execution_count": 8,
     "metadata": {},
     "output_type": "execute_result"
    }
   ],
   "source": [
    "df_dc"
   ]
  },
  {
   "cell_type": "code",
   "execution_count": 9,
   "metadata": {},
   "outputs": [
    {
     "name": "stderr",
     "output_type": "stream",
     "text": [
      "C:\\Users\\Daniele\\AppData\\Local\\Temp\\ipykernel_12224\\3203202666.py:1: FutureWarning: In a future version of pandas all arguments of DataFrame.drop except for the argument 'labels' will be keyword-only.\n",
      "  df_dc = df_dc.drop('name', 1)\n"
     ]
    }
   ],
   "source": [
    "df_dc = df_dc.drop('name', 1)"
   ]
  },
  {
   "cell_type": "code",
   "execution_count": null,
   "metadata": {},
   "outputs": [],
   "source": [
    "severity = random.choices(range(1, 100), k=309)\n",
    "df_dc['severity'] = severity"
   ]
  },
  {
   "cell_type": "code",
   "execution_count": 10,
   "metadata": {},
   "outputs": [
    {
     "ename": "NameError",
     "evalue": "name 'spatial' is not defined",
     "output_type": "error",
     "traceback": [
      "\u001b[1;31m---------------------------------------------------------------------------\u001b[0m",
      "\u001b[1;31mNameError\u001b[0m                                 Traceback (most recent call last)",
      "\u001b[1;32mf:\\Data Mining\\DataMining-Project\\src\\collaborative_filtering\\test.ipynb Cell 12'\u001b[0m in \u001b[0;36m<cell line: 4>\u001b[1;34m()\u001b[0m\n\u001b[0;32m      <a href='vscode-notebook-cell:/f%3A/Data%20Mining/DataMining-Project/src/collaborative_filtering/test.ipynb#ch0000011?line=0'>1</a>\u001b[0m x \u001b[39m=\u001b[39m df_dc\u001b[39m.\u001b[39miloc[\u001b[39m0\u001b[39m]\u001b[39m.\u001b[39mvalues\n\u001b[0;32m      <a href='vscode-notebook-cell:/f%3A/Data%20Mining/DataMining-Project/src/collaborative_filtering/test.ipynb#ch0000011?line=1'>2</a>\u001b[0m y \u001b[39m=\u001b[39m df_dc\u001b[39m.\u001b[39miloc[\u001b[39m2\u001b[39m]\u001b[39m.\u001b[39mvalues\n\u001b[1;32m----> <a href='vscode-notebook-cell:/f%3A/Data%20Mining/DataMining-Project/src/collaborative_filtering/test.ipynb#ch0000011?line=3'>4</a>\u001b[0m z\u001b[39m=\u001b[39m\u001b[39m1\u001b[39m\u001b[39m-\u001b[39mspatial\u001b[39m.\u001b[39mdistance\u001b[39m.\u001b[39mcosine(x,y)\n\u001b[0;32m      <a href='vscode-notebook-cell:/f%3A/Data%20Mining/DataMining-Project/src/collaborative_filtering/test.ipynb#ch0000011?line=4'>5</a>\u001b[0m z\n",
      "\u001b[1;31mNameError\u001b[0m: name 'spatial' is not defined"
     ]
    }
   ],
   "source": [
    "x = df_dc.iloc[0].values\n",
    "y = df_dc.iloc[2].values\n",
    "\n",
    "z=1-spatial.distance.cosine(x,y)\n",
    "z"
   ]
  },
  {
   "cell_type": "code",
   "execution_count": 11,
   "metadata": {},
   "outputs": [
    {
     "ename": "ModuleNotFoundError",
     "evalue": "No module named 'scipy'",
     "output_type": "error",
     "traceback": [
      "\u001b[1;31m---------------------------------------------------------------------------\u001b[0m",
      "\u001b[1;31mModuleNotFoundError\u001b[0m                       Traceback (most recent call last)",
      "\u001b[1;32mf:\\Data Mining\\DataMining-Project\\src\\collaborative_filtering\\test.ipynb Cell 13'\u001b[0m in \u001b[0;36m<cell line: 2>\u001b[1;34m()\u001b[0m\n\u001b[0;32m      <a href='vscode-notebook-cell:/f%3A/Data%20Mining/DataMining-Project/src/collaborative_filtering/test.ipynb#ch0000012?line=0'>1</a>\u001b[0m \u001b[39m# eg of cosine\u001b[39;00m\n\u001b[1;32m----> <a href='vscode-notebook-cell:/f%3A/Data%20Mining/DataMining-Project/src/collaborative_filtering/test.ipynb#ch0000012?line=1'>2</a>\u001b[0m \u001b[39mfrom\u001b[39;00m \u001b[39mscipy\u001b[39;00m \u001b[39mimport\u001b[39;00m spatial\n\u001b[0;32m      <a href='vscode-notebook-cell:/f%3A/Data%20Mining/DataMining-Project/src/collaborative_filtering/test.ipynb#ch0000012?line=3'>4</a>\u001b[0m x\u001b[39m=\u001b[39m[\u001b[39m1\u001b[39m,\u001b[39m2\u001b[39m,\u001b[39m3\u001b[39m]\n\u001b[0;32m      <a href='vscode-notebook-cell:/f%3A/Data%20Mining/DataMining-Project/src/collaborative_filtering/test.ipynb#ch0000012?line=4'>5</a>\u001b[0m y\u001b[39m=\u001b[39m[\u001b[39m6\u001b[39m,\u001b[39m5\u001b[39m,\u001b[39m9\u001b[39m] \n",
      "\u001b[1;31mModuleNotFoundError\u001b[0m: No module named 'scipy'"
     ]
    }
   ],
   "source": [
    "# eg of cosine\n",
    "from scipy import spatial\n",
    "\n",
    "x=[1,2,3]\n",
    "y=[6,5,9] \n",
    "z=1-spatial.distance.cosine(x,y)\n",
    "z"
   ]
  },
  {
   "cell_type": "code",
   "execution_count": null,
   "metadata": {},
   "outputs": [],
   "source": [
    "-0.5*-2+0.6*0.3+0.5*2.4"
   ]
  },
  {
   "cell_type": "code",
   "execution_count": null,
   "metadata": {},
   "outputs": [],
   "source": [
    "new_dict = {}\n",
    "for item in therapies:\n",
    "   id = item.pop('id')\n",
    "   new_dict[id] = item\n",
    "   \n"
   ]
  },
  {
   "cell_type": "code",
   "execution_count": null,
   "metadata": {},
   "outputs": [],
   "source": [
    "new_dict\n",
    "\n",
    "df = pd.DataFrame.from_dict(new_dict, orient=\"index\")\n",
    "df"
   ]
  },
  {
   "cell_type": "code",
   "execution_count": null,
   "metadata": {},
   "outputs": [],
   "source": [
    "\n",
    "df = pd.DataFrame.from_dict(new_dict, orient=\"index\")"
   ]
  },
  {
   "cell_type": "code",
   "execution_count": null,
   "metadata": {},
   "outputs": [],
   "source": [
    "def from_dict_to_df(dict):\n",
    "   new_dict = {}\n",
    "   for item in dict:\n",
    "      id = item.pop('id')\n",
    "      new_dict[id] = item\n",
    "   df = pd.DataFrame.from_dict(new_dict, orient=\"index\")\n",
    "   return df\n",
    "   \n",
    "   \n",
    "from_dict_to_df(conditions, 'id')"
   ]
  },
  {
   "cell_type": "code",
   "execution_count": null,
   "metadata": {},
   "outputs": [],
   "source": [
    "patients_df = pd.DataFrame.from_dict(new_dict, orient=\"index\")\n",
    "patients_df"
   ]
  },
  {
   "cell_type": "markdown",
   "metadata": {},
   "source": [
    "### **Test Cosine Similarity**"
   ]
  },
  {
   "cell_type": "code",
   "execution_count": 13,
   "metadata": {},
   "outputs": [
    {
     "name": "stdout",
     "output_type": "stream",
     "text": [
      "  Daniele-Daniele: 1\n",
      "    Daniele-Elisa: 0.999133073092352\n",
      "Daniele-Francesca: 0.999133073092352\n",
      "  Elisa-Francesca: 1\n"
     ]
    }
   ],
   "source": [
    "from scipy import spatial\n",
    "\n",
    "daniele = [1, 24]\n",
    "elisa = [0, 24]\n",
    "francesca = [0, 14]\n",
    "\n",
    "print(f\"  Daniele-Daniele: {1-spatial.distance.cosine(daniele,daniele)}\")\n",
    "print(f\"    Daniele-Elisa: {1-spatial.distance.cosine(daniele,elisa)}\")\n",
    "print(f\"Daniele-Francesca: {1-spatial.distance.cosine(daniele,francesca)}\")\n",
    "print(f\"  Elisa-Francesca: {1-spatial.distance.cosine(elisa,francesca)}\")"
   ]
  },
  {
   "cell_type": "code",
   "execution_count": 16,
   "metadata": {},
   "outputs": [
    {
     "name": "stdout",
     "output_type": "stream",
     "text": [
      "  Daniele-Daniele: 1\n",
      "    Daniele-Elisa: 0.7071067811865475\n",
      "Daniele-Francesca: 1\n",
      "  Elisa-Francesca: 0.7071067811865475\n"
     ]
    }
   ],
   "source": [
    "daniele = [1, 1]\n",
    "elisa = [0, 1]\n",
    "francesca = [1000, 1000]\n",
    "\n",
    "print(f\"  Daniele-Daniele: {1-spatial.distance.cosine(daniele,daniele)}\")\n",
    "print(f\"    Daniele-Elisa: {1-spatial.distance.cosine(daniele,elisa)}\")\n",
    "print(f\"Daniele-Francesca: {1-spatial.distance.cosine(daniele,francesca)}\")\n",
    "print(f\"  Elisa-Francesca: {1-spatial.distance.cosine(elisa,francesca)}\")"
   ]
  },
  {
   "cell_type": "code",
   "execution_count": 21,
   "metadata": {},
   "outputs": [
    {
     "data": {
      "text/plain": [
       "1"
      ]
     },
     "execution_count": 21,
     "metadata": {},
     "output_type": "execute_result"
    }
   ],
   "source": [
    "x = [1,1,1,1,1,1,1,1,1,1,1]\n",
    "y = [5,5,5,5,5,5,5,5,5,5,5]\n",
    "\n",
    "1-spatial.distance.cosine(x,y)"
   ]
  },
  {
   "cell_type": "markdown",
   "metadata": {},
   "source": [
    "## Normalizzare"
   ]
  },
  {
   "cell_type": "code",
   "execution_count": 27,
   "metadata": {},
   "outputs": [
    {
     "name": "stdout",
     "output_type": "stream",
     "text": [
      "55.0\n"
     ]
    }
   ],
   "source": [
    "import numpy as np\n",
    "\n",
    "point1 = np.array((1, 67))\n",
    "point2 = np.array((1, 12))\n",
    "\n",
    "dist = np.linalg.norm(point1 - point2)\n",
    "print(dist)"
   ]
  },
  {
   "cell_type": "code",
   "execution_count": 28,
   "metadata": {},
   "outputs": [
    {
     "name": "stdout",
     "output_type": "stream",
     "text": [
      "55.0\n"
     ]
    }
   ],
   "source": [
    "import numpy as np\n",
    "\n",
    "point1 = np.array((0, 67))\n",
    "point2 = np.array((0, 12))\n",
    "\n",
    "dist = np.linalg.norm(point1 - point2)\n",
    "print(dist)"
   ]
  },
  {
   "cell_type": "code",
   "execution_count": 30,
   "metadata": {},
   "outputs": [
    {
     "name": "stdout",
     "output_type": "stream",
     "text": [
      "55.00909015790027\n"
     ]
    }
   ],
   "source": [
    "import numpy as np\n",
    "\n",
    "point1 = np.array((1, 67))\n",
    "point2 = np.array((0, 12))\n",
    "\n",
    "dist = np.linalg.norm(point1 - point2)\n",
    "print(dist)"
   ]
  },
  {
   "cell_type": "markdown",
   "metadata": {},
   "source": [
    "Non va bene che la differenza tra uomo e donna sia solo 0.009\n",
    "\n",
    "Dobbiamo normalizzare l'età!"
   ]
  },
  {
   "cell_type": "code",
   "execution_count": 31,
   "metadata": {},
   "outputs": [
    {
     "name": "stdout",
     "output_type": "stream",
     "text": [
      "0.55\n"
     ]
    }
   ],
   "source": [
    "import numpy as np\n",
    "\n",
    "point1 = np.array((1, 0.67))\n",
    "point2 = np.array((1, 0.12))\n",
    "\n",
    "dist = np.linalg.norm(point1 - point2)\n",
    "print(dist)"
   ]
  },
  {
   "cell_type": "code",
   "execution_count": 32,
   "metadata": {},
   "outputs": [
    {
     "name": "stdout",
     "output_type": "stream",
     "text": [
      "0.55\n"
     ]
    }
   ],
   "source": [
    "import numpy as np\n",
    "\n",
    "point1 = np.array((0, 0.67))\n",
    "point2 = np.array((0, 0.12))\n",
    "\n",
    "dist = np.linalg.norm(point1 - point2)\n",
    "print(dist)"
   ]
  },
  {
   "cell_type": "code",
   "execution_count": 33,
   "metadata": {},
   "outputs": [
    {
     "name": "stdout",
     "output_type": "stream",
     "text": [
      "1.1412712210513327\n"
     ]
    }
   ],
   "source": [
    "import numpy as np\n",
    "\n",
    "point1 = np.array((1, 0.67))\n",
    "point2 = np.array((0, 0.12))\n",
    "\n",
    "dist = np.linalg.norm(point1 - point2)\n",
    "print(dist)"
   ]
  }
 ],
 "metadata": {
  "kernelspec": {
   "display_name": "Python 3.9.13 ('ELI')",
   "language": "python",
   "name": "python3"
  },
  "language_info": {
   "codemirror_mode": {
    "name": "ipython",
    "version": 3
   },
   "file_extension": ".py",
   "mimetype": "text/x-python",
   "name": "python",
   "nbconvert_exporter": "python",
   "pygments_lexer": "ipython3",
   "version": "3.9.13"
  },
  "orig_nbformat": 4,
  "vscode": {
   "interpreter": {
    "hash": "dd830488558349b5e029a406d60ae5d147f5e94db98f83c465bb4515c0e2675f"
   }
  }
 },
 "nbformat": 4,
 "nbformat_minor": 2
}
