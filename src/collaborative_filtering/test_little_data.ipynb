{
 "cells": [
  {
   "cell_type": "markdown",
   "metadata": {},
   "source": [
    "# **TEST**"
   ]
  },
  {
   "cell_type": "code",
   "execution_count": 2,
   "metadata": {},
   "outputs": [],
   "source": [
    "import json\n",
    "sys.path.append('../')\n",
    "from utilities import utility_matrix\n",
    "import pandas as pd\n",
    "import itertools\n",
    "from tqdm import tqdm\n",
    "import numpy as np\n",
    "import scipy.spatial.distance as distance"
   ]
  },
  {
   "cell_type": "code",
   "execution_count": 3,
   "metadata": {},
   "outputs": [],
   "source": [
    "# open dataset\n",
    "with open('../../data/full_data2.json', 'r') as file:\n",
    "    data = json.load(file)"
   ]
  },
  {
   "cell_type": "code",
   "execution_count": 94,
   "metadata": {},
   "outputs": [],
   "source": [
    "conditions_df = pd.DataFrame(data['Conditions'])[:20]\n",
    "therapies_df = pd.DataFrame(data['Therapies'])[:10]\n",
    "patients_df = pd.DataFrame(data['Patients'])"
   ]
  },
  {
   "cell_type": "code",
   "execution_count": 5,
   "metadata": {},
   "outputs": [
    {
     "data": {
      "text/html": [
       "<div>\n",
       "<style scoped>\n",
       "    .dataframe tbody tr th:only-of-type {\n",
       "        vertical-align: middle;\n",
       "    }\n",
       "\n",
       "    .dataframe tbody tr th {\n",
       "        vertical-align: top;\n",
       "    }\n",
       "\n",
       "    .dataframe thead th {\n",
       "        text-align: right;\n",
       "    }\n",
       "</style>\n",
       "<table border=\"1\" class=\"dataframe\">\n",
       "  <thead>\n",
       "    <tr style=\"text-align: right;\">\n",
       "      <th></th>\n",
       "      <th>ther_0</th>\n",
       "      <th>ther_1</th>\n",
       "      <th>ther_2</th>\n",
       "      <th>ther_3</th>\n",
       "      <th>ther_4</th>\n",
       "      <th>ther_5</th>\n",
       "      <th>ther_6</th>\n",
       "      <th>ther_7</th>\n",
       "      <th>ther_8</th>\n",
       "      <th>ther_9</th>\n",
       "    </tr>\n",
       "  </thead>\n",
       "  <tbody>\n",
       "    <tr>\n",
       "      <th>cond_0</th>\n",
       "      <td>0</td>\n",
       "      <td>0</td>\n",
       "      <td>0</td>\n",
       "      <td>0</td>\n",
       "      <td>0</td>\n",
       "      <td>0</td>\n",
       "      <td>0</td>\n",
       "      <td>0</td>\n",
       "      <td>0</td>\n",
       "      <td>0</td>\n",
       "    </tr>\n",
       "    <tr>\n",
       "      <th>cond_1</th>\n",
       "      <td>0</td>\n",
       "      <td>0</td>\n",
       "      <td>0</td>\n",
       "      <td>59</td>\n",
       "      <td>7</td>\n",
       "      <td>0</td>\n",
       "      <td>0</td>\n",
       "      <td>37</td>\n",
       "      <td>4</td>\n",
       "      <td>0</td>\n",
       "    </tr>\n",
       "    <tr>\n",
       "      <th>cond_2</th>\n",
       "      <td>0</td>\n",
       "      <td>0</td>\n",
       "      <td>0</td>\n",
       "      <td>0</td>\n",
       "      <td>0</td>\n",
       "      <td>75</td>\n",
       "      <td>0</td>\n",
       "      <td>96</td>\n",
       "      <td>0</td>\n",
       "      <td>89</td>\n",
       "    </tr>\n",
       "    <tr>\n",
       "      <th>cond_3</th>\n",
       "      <td>0</td>\n",
       "      <td>0</td>\n",
       "      <td>82</td>\n",
       "      <td>0</td>\n",
       "      <td>0</td>\n",
       "      <td>0</td>\n",
       "      <td>0</td>\n",
       "      <td>45</td>\n",
       "      <td>2</td>\n",
       "      <td>0</td>\n",
       "    </tr>\n",
       "    <tr>\n",
       "      <th>cond_4</th>\n",
       "      <td>0</td>\n",
       "      <td>0</td>\n",
       "      <td>0</td>\n",
       "      <td>0</td>\n",
       "      <td>62</td>\n",
       "      <td>68</td>\n",
       "      <td>63</td>\n",
       "      <td>0</td>\n",
       "      <td>0</td>\n",
       "      <td>0</td>\n",
       "    </tr>\n",
       "    <tr>\n",
       "      <th>cond_5</th>\n",
       "      <td>0</td>\n",
       "      <td>0</td>\n",
       "      <td>0</td>\n",
       "      <td>98</td>\n",
       "      <td>0</td>\n",
       "      <td>0</td>\n",
       "      <td>0</td>\n",
       "      <td>0</td>\n",
       "      <td>0</td>\n",
       "      <td>0</td>\n",
       "    </tr>\n",
       "    <tr>\n",
       "      <th>cond_6</th>\n",
       "      <td>0</td>\n",
       "      <td>0</td>\n",
       "      <td>0</td>\n",
       "      <td>0</td>\n",
       "      <td>0</td>\n",
       "      <td>0</td>\n",
       "      <td>0</td>\n",
       "      <td>0</td>\n",
       "      <td>0</td>\n",
       "      <td>0</td>\n",
       "    </tr>\n",
       "    <tr>\n",
       "      <th>cond_7</th>\n",
       "      <td>0</td>\n",
       "      <td>0</td>\n",
       "      <td>0</td>\n",
       "      <td>0</td>\n",
       "      <td>0</td>\n",
       "      <td>0</td>\n",
       "      <td>0</td>\n",
       "      <td>0</td>\n",
       "      <td>0</td>\n",
       "      <td>0</td>\n",
       "    </tr>\n",
       "    <tr>\n",
       "      <th>cond_8</th>\n",
       "      <td>0</td>\n",
       "      <td>0</td>\n",
       "      <td>0</td>\n",
       "      <td>0</td>\n",
       "      <td>0</td>\n",
       "      <td>0</td>\n",
       "      <td>0</td>\n",
       "      <td>0</td>\n",
       "      <td>0</td>\n",
       "      <td>0</td>\n",
       "    </tr>\n",
       "    <tr>\n",
       "      <th>cond_9</th>\n",
       "      <td>0</td>\n",
       "      <td>0</td>\n",
       "      <td>0</td>\n",
       "      <td>0</td>\n",
       "      <td>0</td>\n",
       "      <td>0</td>\n",
       "      <td>0</td>\n",
       "      <td>0</td>\n",
       "      <td>0</td>\n",
       "      <td>0</td>\n",
       "    </tr>\n",
       "    <tr>\n",
       "      <th>cond_10</th>\n",
       "      <td>89</td>\n",
       "      <td>0</td>\n",
       "      <td>0</td>\n",
       "      <td>0</td>\n",
       "      <td>0</td>\n",
       "      <td>0</td>\n",
       "      <td>0</td>\n",
       "      <td>0</td>\n",
       "      <td>0</td>\n",
       "      <td>33</td>\n",
       "    </tr>\n",
       "    <tr>\n",
       "      <th>cond_11</th>\n",
       "      <td>0</td>\n",
       "      <td>0</td>\n",
       "      <td>0</td>\n",
       "      <td>0</td>\n",
       "      <td>0</td>\n",
       "      <td>0</td>\n",
       "      <td>96</td>\n",
       "      <td>0</td>\n",
       "      <td>0</td>\n",
       "      <td>0</td>\n",
       "    </tr>\n",
       "    <tr>\n",
       "      <th>cond_12</th>\n",
       "      <td>81</td>\n",
       "      <td>0</td>\n",
       "      <td>0</td>\n",
       "      <td>0</td>\n",
       "      <td>0</td>\n",
       "      <td>0</td>\n",
       "      <td>0</td>\n",
       "      <td>0</td>\n",
       "      <td>0</td>\n",
       "      <td>0</td>\n",
       "    </tr>\n",
       "    <tr>\n",
       "      <th>cond_13</th>\n",
       "      <td>0</td>\n",
       "      <td>0</td>\n",
       "      <td>0</td>\n",
       "      <td>0</td>\n",
       "      <td>0</td>\n",
       "      <td>0</td>\n",
       "      <td>0</td>\n",
       "      <td>0</td>\n",
       "      <td>0</td>\n",
       "      <td>0</td>\n",
       "    </tr>\n",
       "    <tr>\n",
       "      <th>cond_14</th>\n",
       "      <td>0</td>\n",
       "      <td>0</td>\n",
       "      <td>0</td>\n",
       "      <td>0</td>\n",
       "      <td>0</td>\n",
       "      <td>0</td>\n",
       "      <td>0</td>\n",
       "      <td>0</td>\n",
       "      <td>0</td>\n",
       "      <td>0</td>\n",
       "    </tr>\n",
       "    <tr>\n",
       "      <th>cond_15</th>\n",
       "      <td>0</td>\n",
       "      <td>37</td>\n",
       "      <td>0</td>\n",
       "      <td>82</td>\n",
       "      <td>0</td>\n",
       "      <td>26</td>\n",
       "      <td>0</td>\n",
       "      <td>0</td>\n",
       "      <td>0</td>\n",
       "      <td>0</td>\n",
       "    </tr>\n",
       "    <tr>\n",
       "      <th>cond_16</th>\n",
       "      <td>0</td>\n",
       "      <td>0</td>\n",
       "      <td>0</td>\n",
       "      <td>0</td>\n",
       "      <td>0</td>\n",
       "      <td>0</td>\n",
       "      <td>0</td>\n",
       "      <td>0</td>\n",
       "      <td>0</td>\n",
       "      <td>0</td>\n",
       "    </tr>\n",
       "    <tr>\n",
       "      <th>cond_17</th>\n",
       "      <td>67</td>\n",
       "      <td>0</td>\n",
       "      <td>0</td>\n",
       "      <td>0</td>\n",
       "      <td>0</td>\n",
       "      <td>0</td>\n",
       "      <td>91</td>\n",
       "      <td>0</td>\n",
       "      <td>0</td>\n",
       "      <td>0</td>\n",
       "    </tr>\n",
       "    <tr>\n",
       "      <th>cond_18</th>\n",
       "      <td>0</td>\n",
       "      <td>0</td>\n",
       "      <td>0</td>\n",
       "      <td>0</td>\n",
       "      <td>0</td>\n",
       "      <td>0</td>\n",
       "      <td>0</td>\n",
       "      <td>0</td>\n",
       "      <td>0</td>\n",
       "      <td>0</td>\n",
       "    </tr>\n",
       "    <tr>\n",
       "      <th>cond_19</th>\n",
       "      <td>0</td>\n",
       "      <td>0</td>\n",
       "      <td>0</td>\n",
       "      <td>0</td>\n",
       "      <td>14</td>\n",
       "      <td>0</td>\n",
       "      <td>30</td>\n",
       "      <td>0</td>\n",
       "      <td>88</td>\n",
       "      <td>24</td>\n",
       "    </tr>\n",
       "  </tbody>\n",
       "</table>\n",
       "</div>"
      ],
      "text/plain": [
       "         ther_0  ther_1  ther_2  ther_3  ther_4  ther_5  ther_6  ther_7  \\\n",
       "cond_0        0       0       0       0       0       0       0       0   \n",
       "cond_1        0       0       0      59       7       0       0      37   \n",
       "cond_2        0       0       0       0       0      75       0      96   \n",
       "cond_3        0       0      82       0       0       0       0      45   \n",
       "cond_4        0       0       0       0      62      68      63       0   \n",
       "cond_5        0       0       0      98       0       0       0       0   \n",
       "cond_6        0       0       0       0       0       0       0       0   \n",
       "cond_7        0       0       0       0       0       0       0       0   \n",
       "cond_8        0       0       0       0       0       0       0       0   \n",
       "cond_9        0       0       0       0       0       0       0       0   \n",
       "cond_10      89       0       0       0       0       0       0       0   \n",
       "cond_11       0       0       0       0       0       0      96       0   \n",
       "cond_12      81       0       0       0       0       0       0       0   \n",
       "cond_13       0       0       0       0       0       0       0       0   \n",
       "cond_14       0       0       0       0       0       0       0       0   \n",
       "cond_15       0      37       0      82       0      26       0       0   \n",
       "cond_16       0       0       0       0       0       0       0       0   \n",
       "cond_17      67       0       0       0       0       0      91       0   \n",
       "cond_18       0       0       0       0       0       0       0       0   \n",
       "cond_19       0       0       0       0      14       0      30       0   \n",
       "\n",
       "         ther_8  ther_9  \n",
       "cond_0        0       0  \n",
       "cond_1        4       0  \n",
       "cond_2        0      89  \n",
       "cond_3        2       0  \n",
       "cond_4        0       0  \n",
       "cond_5        0       0  \n",
       "cond_6        0       0  \n",
       "cond_7        0       0  \n",
       "cond_8        0       0  \n",
       "cond_9        0       0  \n",
       "cond_10       0      33  \n",
       "cond_11       0       0  \n",
       "cond_12       0       0  \n",
       "cond_13       0       0  \n",
       "cond_14       0       0  \n",
       "cond_15       0       0  \n",
       "cond_16       0       0  \n",
       "cond_17       0       0  \n",
       "cond_18       0       0  \n",
       "cond_19      88      24  "
      ]
     },
     "execution_count": 5,
     "metadata": {},
     "output_type": "execute_result"
    }
   ],
   "source": [
    "pat_0_mat = utility_matrix(\"pat_0\")\n",
    "pat_0_mat"
   ]
  },
  {
   "cell_type": "code",
   "execution_count": 6,
   "metadata": {},
   "outputs": [],
   "source": [
    "pat_cured = []\n",
    "for i in patients_df.id.values:\n",
    "    if any(d['kind'] == 'cond_2' and d['cured'] != None for d in patients_df[patients_df.id == i].conditions.values[0]):\n",
    "        #print(i)\n",
    "        \n",
    "        pat_cured.append(i)"
   ]
  },
  {
   "cell_type": "code",
   "execution_count": 7,
   "metadata": {},
   "outputs": [
    {
     "data": {
      "text/plain": [
       "['pat_0', 'pat_4', 'pat_6']"
      ]
     },
     "execution_count": 7,
     "metadata": {},
     "output_type": "execute_result"
    }
   ],
   "source": [
    "pat_cured"
   ]
  },
  {
   "cell_type": "code",
   "execution_count": 8,
   "metadata": {},
   "outputs": [],
   "source": [
    "u_mat = utility_matrix(\"pat_1\")\n",
    "vect_1 = u_mat.to_numpy()"
   ]
  },
  {
   "cell_type": "code",
   "execution_count": 9,
   "metadata": {},
   "outputs": [
    {
     "data": {
      "text/plain": [
       "array([[ 0,  0,  0,  0,  0,  0,  0,  0,  0,  0],\n",
       "       [ 0,  0,  0, 59,  7,  0,  0, 37,  4,  0],\n",
       "       [ 0,  0,  0,  0,  0, 75,  0, 96,  0, 89],\n",
       "       [ 0,  0, 82,  0,  0,  0,  0, 45,  2,  0],\n",
       "       [ 0,  0,  0,  0, 62, 68, 63,  0,  0,  0],\n",
       "       [ 0,  0,  0, 98,  0,  0,  0,  0,  0,  0],\n",
       "       [ 0,  0,  0,  0,  0,  0,  0,  0,  0,  0],\n",
       "       [ 0,  0,  0,  0,  0,  0,  0,  0,  0,  0],\n",
       "       [ 0,  0,  0,  0,  0,  0,  0,  0,  0,  0],\n",
       "       [ 0,  0,  0,  0,  0,  0,  0,  0,  0,  0],\n",
       "       [89,  0,  0,  0,  0,  0,  0,  0,  0, 33],\n",
       "       [ 0,  0,  0,  0,  0,  0, 96,  0,  0,  0],\n",
       "       [81,  0,  0,  0,  0,  0,  0,  0,  0,  0],\n",
       "       [ 0,  0,  0,  0,  0,  0,  0,  0,  0,  0],\n",
       "       [ 0,  0,  0,  0,  0,  0,  0,  0,  0,  0],\n",
       "       [ 0, 37,  0, 82,  0, 26,  0,  0,  0,  0],\n",
       "       [ 0,  0,  0,  0,  0,  0,  0,  0,  0,  0],\n",
       "       [67,  0,  0,  0,  0,  0, 91,  0,  0,  0],\n",
       "       [ 0,  0,  0,  0,  0,  0,  0,  0,  0,  0],\n",
       "       [ 0,  0,  0,  0, 14,  0, 30,  0, 88, 24]], dtype=int64)"
      ]
     },
     "execution_count": 9,
     "metadata": {},
     "output_type": "execute_result"
    }
   ],
   "source": [
    "utility_matrix(\"pat_0\").to_numpy()"
   ]
  },
  {
   "cell_type": "code",
   "execution_count": 10,
   "metadata": {},
   "outputs": [
    {
     "name": "stderr",
     "output_type": "stream",
     "text": [
      "Caclulating cosine distances: 100%|██████████| 3/3 [00:00<00:00, 30.95it/s]\n"
     ]
    }
   ],
   "source": [
    "cosine_sim = []\n",
    "\n",
    "for i in tqdm(pat_cured, desc=\"Caclulating cosine distances\"):\n",
    "    pat = utility_matrix(i)\n",
    "    mat = pat.to_numpy()\n",
    "    cosine_sim_pat_0 = 1 - distance.cosine(vect_1.flatten(), mat.flatten())\n",
    "    cosine_sim.append(cosine_sim_pat_0)\n",
    "    "
   ]
  },
  {
   "cell_type": "code",
   "execution_count": 11,
   "metadata": {},
   "outputs": [
    {
     "data": {
      "text/html": [
       "<div>\n",
       "<style scoped>\n",
       "    .dataframe tbody tr th:only-of-type {\n",
       "        vertical-align: middle;\n",
       "    }\n",
       "\n",
       "    .dataframe tbody tr th {\n",
       "        vertical-align: top;\n",
       "    }\n",
       "\n",
       "    .dataframe thead th {\n",
       "        text-align: right;\n",
       "    }\n",
       "</style>\n",
       "<table border=\"1\" class=\"dataframe\">\n",
       "  <thead>\n",
       "    <tr style=\"text-align: right;\">\n",
       "      <th></th>\n",
       "      <th>pat_cured</th>\n",
       "      <th>cosine_similarity</th>\n",
       "    </tr>\n",
       "  </thead>\n",
       "  <tbody>\n",
       "    <tr>\n",
       "      <th>1</th>\n",
       "      <td>pat_4</td>\n",
       "      <td>0.156972</td>\n",
       "    </tr>\n",
       "    <tr>\n",
       "      <th>0</th>\n",
       "      <td>pat_0</td>\n",
       "      <td>0.108105</td>\n",
       "    </tr>\n",
       "    <tr>\n",
       "      <th>2</th>\n",
       "      <td>pat_6</td>\n",
       "      <td>0.066371</td>\n",
       "    </tr>\n",
       "  </tbody>\n",
       "</table>\n",
       "</div>"
      ],
      "text/plain": [
       "  pat_cured  cosine_similarity\n",
       "1     pat_4           0.156972\n",
       "0     pat_0           0.108105\n",
       "2     pat_6           0.066371"
      ]
     },
     "execution_count": 11,
     "metadata": {},
     "output_type": "execute_result"
    }
   ],
   "source": [
    "dff = pd.DataFrame({\"pat_cured\" : pat_cured, \n",
    "                    \"cosine_similarity\": cosine_sim})\n",
    "dff.sort_values(\"cosine_similarity\", ascending=False)"
   ]
  },
  {
   "cell_type": "code",
   "execution_count": 12,
   "metadata": {},
   "outputs": [
    {
     "name": "stderr",
     "output_type": "stream",
     "text": [
      "C:\\Users\\elypa\\AppData\\Local\\Temp\\ipykernel_18264\\1383727915.py:4: FutureWarning: The frame.append method is deprecated and will be removed from pandas in a future version. Use pandas.concat instead.\n",
      "  reccomended_ther = reccomended_ther.append(therapies_df[therapies_df.id == ther_id], ignore_index = True)\n"
     ]
    },
    {
     "data": {
      "text/html": [
       "<div>\n",
       "<style scoped>\n",
       "    .dataframe tbody tr th:only-of-type {\n",
       "        vertical-align: middle;\n",
       "    }\n",
       "\n",
       "    .dataframe tbody tr th {\n",
       "        vertical-align: top;\n",
       "    }\n",
       "\n",
       "    .dataframe thead th {\n",
       "        text-align: right;\n",
       "    }\n",
       "</style>\n",
       "<table border=\"1\" class=\"dataframe\">\n",
       "  <thead>\n",
       "    <tr style=\"text-align: right;\">\n",
       "      <th></th>\n",
       "      <th>id</th>\n",
       "      <th>name</th>\n",
       "      <th>type</th>\n",
       "    </tr>\n",
       "  </thead>\n",
       "  <tbody>\n",
       "    <tr>\n",
       "      <th>0</th>\n",
       "      <td>ther_7</td>\n",
       "      <td>Arthroscopy</td>\n",
       "      <td>Surgical procedures</td>\n",
       "    </tr>\n",
       "  </tbody>\n",
       "</table>\n",
       "</div>"
      ],
      "text/plain": [
       "       id         name                 type\n",
       "0  ther_7  Arthroscopy  Surgical procedures"
      ]
     },
     "execution_count": 12,
     "metadata": {},
     "output_type": "execute_result"
    }
   ],
   "source": [
    "reccomended_ther = pd.DataFrame(columns = ['id', 'name', 'type'])\n",
    "succ_cond_id = list(filter(lambda d: d['kind'] == \"cond_2\", patients_df[patients_df.id == \"pat_0\"].conditions.values[0]))[0]['id'] \n",
    "ther_id = list(filter(lambda d: d['condition'] == succ_cond_id and d['successful']>90, patients_df[patients_df.id == \"pat_0\"].trials.values[0]))[0]['therapy']\n",
    "reccomended_ther = reccomended_ther.append(therapies_df[therapies_df.id == ther_id], ignore_index = True)\n",
    "reccomended_ther"
   ]
  },
  {
   "cell_type": "markdown",
   "metadata": {},
   "source": [
    "---\n",
    "## Complete algorithm"
   ]
  },
  {
   "cell_type": "code",
   "execution_count": 36,
   "metadata": {},
   "outputs": [
    {
     "ename": "ModuleNotFoundError",
     "evalue": "No module named 'md5'",
     "output_type": "error",
     "traceback": [
      "\u001b[1;31m---------------------------------------------------------------------------\u001b[0m",
      "\u001b[1;31mModuleNotFoundError\u001b[0m                       Traceback (most recent call last)",
      "\u001b[1;32mc:\\Users\\elypa\\OneDrive\\Desktop\\DM updated\\updates\\Data Mining\\DataMining-Project\\src\\collaborative_filtering\\test_little_data.ipynb Cell 14'\u001b[0m in \u001b[0;36m<cell line: 3>\u001b[1;34m()\u001b[0m\n\u001b[0;32m      <a href='vscode-notebook-cell:/c%3A/Users/elypa/OneDrive/Desktop/DM%20updated/updates/Data%20Mining/DataMining-Project/src/collaborative_filtering/test_little_data.ipynb#ch0000013?line=2'>3</a>\u001b[0m \u001b[39mwith\u001b[39;00m warnings\u001b[39m.\u001b[39mcatch_warnings():\n\u001b[0;32m      <a href='vscode-notebook-cell:/c%3A/Users/elypa/OneDrive/Desktop/DM%20updated/updates/Data%20Mining/DataMining-Project/src/collaborative_filtering/test_little_data.ipynb#ch0000013?line=3'>4</a>\u001b[0m     warnings\u001b[39m.\u001b[39mfilterwarnings(\u001b[39m\"\u001b[39m\u001b[39mignore\u001b[39m\u001b[39m\"\u001b[39m, category\u001b[39m=\u001b[39m\u001b[39mDeprecationWarning\u001b[39;00m)\n\u001b[1;32m----> <a href='vscode-notebook-cell:/c%3A/Users/elypa/OneDrive/Desktop/DM%20updated/updates/Data%20Mining/DataMining-Project/src/collaborative_filtering/test_little_data.ipynb#ch0000013?line=4'>5</a>\u001b[0m     \u001b[39mimport\u001b[39;00m \u001b[39mmd5\u001b[39;00m\u001b[39m,\u001b[39m \u001b[39msha\u001b[39;00m\n\u001b[0;32m      <a href='vscode-notebook-cell:/c%3A/Users/elypa/OneDrive/Desktop/DM%20updated/updates/Data%20Mining/DataMining-Project/src/collaborative_filtering/test_little_data.ipynb#ch0000013?line=6'>7</a>\u001b[0m \u001b[39mdef\u001b[39;00m \u001b[39mmy_program\u001b[39m(data, patient_id, condition):\n\u001b[0;32m      <a href='vscode-notebook-cell:/c%3A/Users/elypa/OneDrive/Desktop/DM%20updated/updates/Data%20Mining/DataMining-Project/src/collaborative_filtering/test_little_data.ipynb#ch0000013?line=7'>8</a>\u001b[0m     reccomended_ther \u001b[39m=\u001b[39m pd\u001b[39m.\u001b[39mDataFrame(columns \u001b[39m=\u001b[39m [\u001b[39m'\u001b[39m\u001b[39mid\u001b[39m\u001b[39m'\u001b[39m, \u001b[39m'\u001b[39m\u001b[39mname\u001b[39m\u001b[39m'\u001b[39m, \u001b[39m'\u001b[39m\u001b[39mtype\u001b[39m\u001b[39m'\u001b[39m, \u001b[39m'\u001b[39m\u001b[39mdetails\u001b[39m\u001b[39m'\u001b[39m])\n",
      "\u001b[1;31mModuleNotFoundError\u001b[0m: No module named 'md5'"
     ]
    }
   ],
   "source": [
    "\n",
    "def my_program(data, patient_id, condition):\n",
    "    reccomended_ther = pd.DataFrame(columns = ['id', 'name', 'type', 'details'])\n",
    "\n",
    "    # open dataset\n",
    "    # with open(dataset_path, 'r') as file:\n",
    "    #     data = json.load(file)\n",
    "    patients_df = pd.DataFrame(data['Patients'])\n",
    "    conditions_df = pd.DataFrame(data['Conditions'])\n",
    "    therapies_df = pd.DataFrame(data['Therapies'])\n",
    "    # check if patients and condition exists\n",
    "    if patient_id not in patients_df.id.values:\n",
    "        print(\"Patient ID is not in the data\")\n",
    "    else:\n",
    "        if condition not in conditions_df.name.values:\n",
    "            print(\"Condition is not in the data\")\n",
    "        else:\n",
    "            # check if condition was already succesfully cured by a therapy (for the given patient)\n",
    "            cond_id = conditions_df[conditions_df.name==condition].id.values[0]\n",
    "            if any(d['kind'] == cond_id and d['cured'] != None for d in patients_df[patients_df.id == patient_id].conditions.values[0]):\n",
    "                \n",
    "                succ_cond_id = list(filter(lambda d: d['kind'] == cond_id, patients_df[patients_df.id == patient_id].conditions.values[0]))[0]['id'] \n",
    "                ther_id = list(filter(lambda d: d['condition'] == succ_cond_id and d['successful']>90, patients_df[patients_df.id == patient_id].trials.values[0]))[0]['therapy']\n",
    "\n",
    "                ther_row = therapies_df[therapies_df.id == ther_id]\n",
    "                ther_row['details'] = f\"cured with success on itself\" \n",
    "                reccomended_ther = reccomended_ther.append(ther_row, ignore_index = True)\n",
    "                #return reccomended_ther\n",
    "            # else:\n",
    "            # find cured patients subset\n",
    "            pat_cured = []\n",
    "            for i in patients_df.id.values:\n",
    "                if any(d['kind'] == cond_id and d['cured'] != None for d in patients_df[patients_df.id == i].conditions.values[0]):\n",
    "                    #print(i)\n",
    "                    \n",
    "                    pat_cured.append(i)\n",
    "            # build patient utility matrix\n",
    "            patient_id_u_mat = utility_matrix(patient_id).to_numpy()\n",
    "            # build cured patient utility matrix and calculate cosine similarity with patient id matrix\n",
    "            cosine_sim = []\n",
    "\n",
    "            for i in tqdm(pat_cured, desc=\"Caclulating cosine distances\"):\n",
    "                cured_u_mat = utility_matrix(i).to_numpy()\n",
    "                cosine_sim_pat = 1 - distance.cosine(patient_id_u_mat.flatten(), cured_u_mat.flatten())\n",
    "                cosine_sim.append(cosine_sim_pat)\n",
    "            \n",
    "            cos_sim_df = pd.DataFrame({\"pat_cured\" : pat_cured, \n",
    "                \"cosine_similarity\": cosine_sim})\n",
    "            cos_sim_df_sort = cos_sim_df.sort_values(\"cosine_similarity\", ascending=False)\n",
    "            \n",
    "            # extract therapies that cured the most similar patients\n",
    "            for pat in cos_sim_df_sort.pat_cured.values:\n",
    "                if len(reccomended_ther) < 5:\n",
    "                    succ_cond_id = list(filter(lambda d: d['kind'] == cond_id, patients_df[patients_df.id == pat].conditions.values[0]))[0]['id'] \n",
    "                    ther_id = list(filter(lambda d: d['condition'] == succ_cond_id and d['successful']>90, patients_df[patients_df.id == pat].trials.values[0]))[0]['therapy']\n",
    "                    \n",
    "                    similarity = cos_sim_df_sort[cos_sim_df_sort.pat_cured == pat]['cosine_similarity'].values[0]\n",
    "                    ther_row = therapies_df[therapies_df.id == ther_id]\n",
    "                    ther_row['details'] = f\"cured with success on {pat} ({similarity} cosine similarity with {patient_id})\" \n",
    "                    # add only therapies that are not in the reccomandation yet\n",
    "                    if ther_id not in reccomended_ther.id.values:\n",
    "                        reccomended_ther = reccomended_ther.append(ther_row, ignore_index = True)\n",
    "\n",
    "    return reccomended_ther\n",
    "                "
   ]
  },
  {
   "cell_type": "code",
   "execution_count": 24,
   "metadata": {},
   "outputs": [
    {
     "name": "stderr",
     "output_type": "stream",
     "text": [
      "C:\\Users\\elypa\\AppData\\Local\\Temp\\ipykernel_18264\\3680822559.py:23: FutureWarning: The frame.append method is deprecated and will be removed from pandas in a future version. Use pandas.concat instead.\n",
      "  reccomended_ther = reccomended_ther.append(therapies_df[therapies_df.id == ther_id], ignore_index = True)\n",
      "Caclulating cosine distances: 100%|██████████| 3/3 [00:00<00:00, 36.97it/s]\n",
      "C:\\Users\\elypa\\AppData\\Local\\Temp\\ipykernel_18264\\3680822559.py:54: FutureWarning: The frame.append method is deprecated and will be removed from pandas in a future version. Use pandas.concat instead.\n",
      "  reccomended_ther = reccomended_ther.append(therapies_df[therapies_df.id == ther_id], ignore_index = True)\n"
     ]
    }
   ],
   "source": [
    "i = my_program(data, \"pat_6\", \"Acute cholecystitis\")"
   ]
  },
  {
   "cell_type": "code",
   "execution_count": 25,
   "metadata": {},
   "outputs": [
    {
     "data": {
      "text/html": [
       "<div>\n",
       "<style scoped>\n",
       "    .dataframe tbody tr th:only-of-type {\n",
       "        vertical-align: middle;\n",
       "    }\n",
       "\n",
       "    .dataframe tbody tr th {\n",
       "        vertical-align: top;\n",
       "    }\n",
       "\n",
       "    .dataframe thead th {\n",
       "        text-align: right;\n",
       "    }\n",
       "</style>\n",
       "<table border=\"1\" class=\"dataframe\">\n",
       "  <thead>\n",
       "    <tr style=\"text-align: right;\">\n",
       "      <th></th>\n",
       "      <th>id</th>\n",
       "      <th>name</th>\n",
       "      <th>type</th>\n",
       "    </tr>\n",
       "  </thead>\n",
       "  <tbody>\n",
       "    <tr>\n",
       "      <th>0</th>\n",
       "      <td>ther_0</td>\n",
       "      <td>Abortion</td>\n",
       "      <td>Surgical procedures</td>\n",
       "    </tr>\n",
       "    <tr>\n",
       "      <th>1</th>\n",
       "      <td>ther_7</td>\n",
       "      <td>Arthroscopy</td>\n",
       "      <td>Surgical procedures</td>\n",
       "    </tr>\n",
       "    <tr>\n",
       "      <th>2</th>\n",
       "      <td>ther_4</td>\n",
       "      <td>Antibiotics</td>\n",
       "      <td>Medicines and medical aids</td>\n",
       "    </tr>\n",
       "  </tbody>\n",
       "</table>\n",
       "</div>"
      ],
      "text/plain": [
       "       id         name                        type\n",
       "0  ther_0     Abortion         Surgical procedures\n",
       "1  ther_7  Arthroscopy         Surgical procedures\n",
       "2  ther_4  Antibiotics  Medicines and medical aids"
      ]
     },
     "execution_count": 25,
     "metadata": {},
     "output_type": "execute_result"
    }
   ],
   "source": [
    "i"
   ]
  },
  {
   "cell_type": "code",
   "execution_count": null,
   "metadata": {},
   "outputs": [],
   "source": []
  },
  {
   "cell_type": "code",
   "execution_count": 18,
   "metadata": {},
   "outputs": [
    {
     "name": "stderr",
     "output_type": "stream",
     "text": [
      "C:\\Users\\elypa\\AppData\\Local\\Temp\\ipykernel_18264\\3435266761.py:6: FutureWarning: The frame.append method is deprecated and will be removed from pandas in a future version. Use pandas.concat instead.\n",
      "  reccomended_ther = reccomended_ther.append(therapies_df[therapies_df.id == ther_id], ignore_index = True)\n"
     ]
    },
    {
     "data": {
      "text/html": [
       "<div>\n",
       "<style scoped>\n",
       "    .dataframe tbody tr th:only-of-type {\n",
       "        vertical-align: middle;\n",
       "    }\n",
       "\n",
       "    .dataframe tbody tr th {\n",
       "        vertical-align: top;\n",
       "    }\n",
       "\n",
       "    .dataframe thead th {\n",
       "        text-align: right;\n",
       "    }\n",
       "</style>\n",
       "<table border=\"1\" class=\"dataframe\">\n",
       "  <thead>\n",
       "    <tr style=\"text-align: right;\">\n",
       "      <th></th>\n",
       "      <th>id</th>\n",
       "      <th>name</th>\n",
       "      <th>type</th>\n",
       "    </tr>\n",
       "  </thead>\n",
       "  <tbody>\n",
       "    <tr>\n",
       "      <th>0</th>\n",
       "      <td>ther_7</td>\n",
       "      <td>Arthroscopy</td>\n",
       "      <td>Surgical procedures</td>\n",
       "    </tr>\n",
       "    <tr>\n",
       "      <th>1</th>\n",
       "      <td>ther_4</td>\n",
       "      <td>Antibiotics</td>\n",
       "      <td>Medicines and medical aids</td>\n",
       "    </tr>\n",
       "    <tr>\n",
       "      <th>2</th>\n",
       "      <td>ther_0</td>\n",
       "      <td>Abortion</td>\n",
       "      <td>Surgical procedures</td>\n",
       "    </tr>\n",
       "  </tbody>\n",
       "</table>\n",
       "</div>"
      ],
      "text/plain": [
       "       id         name                        type\n",
       "0  ther_7  Arthroscopy         Surgical procedures\n",
       "1  ther_4  Antibiotics  Medicines and medical aids\n",
       "2  ther_0     Abortion         Surgical procedures"
      ]
     },
     "execution_count": 18,
     "metadata": {},
     "output_type": "execute_result"
    }
   ],
   "source": [
    "reccomended_ther = pd.DataFrame(columns = ['id', 'name', 'type'])\n",
    "for pat in dff.pat_cured.values[:5]:   \n",
    "    succ_cond_id = list(filter(lambda d: d['kind'] == \"cond_2\", patients_df[patients_df.id == pat].conditions.values[0]))[0]['id'] \n",
    "    ther_id = list(filter(lambda d: d['condition'] == succ_cond_id and d['successful']>90, patients_df[patients_df.id == pat].trials.values[0]))[0]['therapy']\n",
    "    if ther_id not in reccomended_ther.id.values:\n",
    "        reccomended_ther = reccomended_ther.append(therapies_df[therapies_df.id == ther_id], ignore_index = True)\n",
    "reccomended_ther"
   ]
  },
  {
   "cell_type": "markdown",
   "metadata": {},
   "source": [
    "## Try with huge data"
   ]
  },
  {
   "cell_type": "code",
   "execution_count": 27,
   "metadata": {},
   "outputs": [],
   "source": [
    "with open('../../data/full_data.json', 'r') as file:\n",
    "    data = json.load(file)"
   ]
  },
  {
   "cell_type": "code",
   "execution_count": 34,
   "metadata": {},
   "outputs": [
    {
     "name": "stderr",
     "output_type": "stream",
     "text": [
      "Caclulating cosine distances: 100%|██████████| 135/135 [03:15<00:00,  1.44s/it]\n",
      "C:\\Users\\elypa\\AppData\\Local\\Temp\\ipykernel_3484\\2100057466.py:58: SettingWithCopyWarning: \n",
      "A value is trying to be set on a copy of a slice from a DataFrame.\n",
      "Try using .loc[row_indexer,col_indexer] = value instead\n",
      "\n",
      "See the caveats in the documentation: https://pandas.pydata.org/pandas-docs/stable/user_guide/indexing.html#returning-a-view-versus-a-copy\n",
      "  ther_row['details'] = f\"cured with success on {pat} ({similarity} cosine similarity with {patient_id})\"\n",
      "C:\\Users\\elypa\\AppData\\Local\\Temp\\ipykernel_3484\\2100057466.py:61: FutureWarning: The frame.append method is deprecated and will be removed from pandas in a future version. Use pandas.concat instead.\n",
      "  reccomended_ther = reccomended_ther.append(ther_row, ignore_index = True)\n",
      "C:\\Users\\elypa\\AppData\\Local\\Temp\\ipykernel_3484\\2100057466.py:58: SettingWithCopyWarning: \n",
      "A value is trying to be set on a copy of a slice from a DataFrame.\n",
      "Try using .loc[row_indexer,col_indexer] = value instead\n",
      "\n",
      "See the caveats in the documentation: https://pandas.pydata.org/pandas-docs/stable/user_guide/indexing.html#returning-a-view-versus-a-copy\n",
      "  ther_row['details'] = f\"cured with success on {pat} ({similarity} cosine similarity with {patient_id})\"\n",
      "C:\\Users\\elypa\\AppData\\Local\\Temp\\ipykernel_3484\\2100057466.py:61: FutureWarning: The frame.append method is deprecated and will be removed from pandas in a future version. Use pandas.concat instead.\n",
      "  reccomended_ther = reccomended_ther.append(ther_row, ignore_index = True)\n",
      "C:\\Users\\elypa\\AppData\\Local\\Temp\\ipykernel_3484\\2100057466.py:58: SettingWithCopyWarning: \n",
      "A value is trying to be set on a copy of a slice from a DataFrame.\n",
      "Try using .loc[row_indexer,col_indexer] = value instead\n",
      "\n",
      "See the caveats in the documentation: https://pandas.pydata.org/pandas-docs/stable/user_guide/indexing.html#returning-a-view-versus-a-copy\n",
      "  ther_row['details'] = f\"cured with success on {pat} ({similarity} cosine similarity with {patient_id})\"\n",
      "C:\\Users\\elypa\\AppData\\Local\\Temp\\ipykernel_3484\\2100057466.py:61: FutureWarning: The frame.append method is deprecated and will be removed from pandas in a future version. Use pandas.concat instead.\n",
      "  reccomended_ther = reccomended_ther.append(ther_row, ignore_index = True)\n",
      "C:\\Users\\elypa\\AppData\\Local\\Temp\\ipykernel_3484\\2100057466.py:58: SettingWithCopyWarning: \n",
      "A value is trying to be set on a copy of a slice from a DataFrame.\n",
      "Try using .loc[row_indexer,col_indexer] = value instead\n",
      "\n",
      "See the caveats in the documentation: https://pandas.pydata.org/pandas-docs/stable/user_guide/indexing.html#returning-a-view-versus-a-copy\n",
      "  ther_row['details'] = f\"cured with success on {pat} ({similarity} cosine similarity with {patient_id})\"\n",
      "C:\\Users\\elypa\\AppData\\Local\\Temp\\ipykernel_3484\\2100057466.py:58: SettingWithCopyWarning: \n",
      "A value is trying to be set on a copy of a slice from a DataFrame.\n",
      "Try using .loc[row_indexer,col_indexer] = value instead\n",
      "\n",
      "See the caveats in the documentation: https://pandas.pydata.org/pandas-docs/stable/user_guide/indexing.html#returning-a-view-versus-a-copy\n",
      "  ther_row['details'] = f\"cured with success on {pat} ({similarity} cosine similarity with {patient_id})\"\n",
      "C:\\Users\\elypa\\AppData\\Local\\Temp\\ipykernel_3484\\2100057466.py:61: FutureWarning: The frame.append method is deprecated and will be removed from pandas in a future version. Use pandas.concat instead.\n",
      "  reccomended_ther = reccomended_ther.append(ther_row, ignore_index = True)\n",
      "C:\\Users\\elypa\\AppData\\Local\\Temp\\ipykernel_3484\\2100057466.py:58: SettingWithCopyWarning: \n",
      "A value is trying to be set on a copy of a slice from a DataFrame.\n",
      "Try using .loc[row_indexer,col_indexer] = value instead\n",
      "\n",
      "See the caveats in the documentation: https://pandas.pydata.org/pandas-docs/stable/user_guide/indexing.html#returning-a-view-versus-a-copy\n",
      "  ther_row['details'] = f\"cured with success on {pat} ({similarity} cosine similarity with {patient_id})\"\n",
      "C:\\Users\\elypa\\AppData\\Local\\Temp\\ipykernel_3484\\2100057466.py:61: FutureWarning: The frame.append method is deprecated and will be removed from pandas in a future version. Use pandas.concat instead.\n",
      "  reccomended_ther = reccomended_ther.append(ther_row, ignore_index = True)\n"
     ]
    }
   ],
   "source": [
    "i = my_program(data, \"pat_6\", \"Acute cholecystitis\")"
   ]
  },
  {
   "cell_type": "code",
   "execution_count": 35,
   "metadata": {},
   "outputs": [
    {
     "data": {
      "text/html": [
       "<div>\n",
       "<style scoped>\n",
       "    .dataframe tbody tr th:only-of-type {\n",
       "        vertical-align: middle;\n",
       "    }\n",
       "\n",
       "    .dataframe tbody tr th {\n",
       "        vertical-align: top;\n",
       "    }\n",
       "\n",
       "    .dataframe thead th {\n",
       "        text-align: right;\n",
       "    }\n",
       "</style>\n",
       "<table border=\"1\" class=\"dataframe\">\n",
       "  <thead>\n",
       "    <tr style=\"text-align: right;\">\n",
       "      <th></th>\n",
       "      <th>id</th>\n",
       "      <th>name</th>\n",
       "      <th>type</th>\n",
       "      <th>details</th>\n",
       "    </tr>\n",
       "  </thead>\n",
       "  <tbody>\n",
       "    <tr>\n",
       "      <th>0</th>\n",
       "      <td>ther_60</td>\n",
       "      <td>Statins</td>\n",
       "      <td>Medicines and medical aids</td>\n",
       "      <td>cured with success on pat_5698 (0.052977777389...</td>\n",
       "    </tr>\n",
       "    <tr>\n",
       "      <th>1</th>\n",
       "      <td>ther_6</td>\n",
       "      <td>Antiplatelets, clopidogrel</td>\n",
       "      <td>Medicines and medical aids</td>\n",
       "      <td>cured with success on pat_5460 (0.041568813352...</td>\n",
       "    </tr>\n",
       "    <tr>\n",
       "      <th>2</th>\n",
       "      <td>ther_10</td>\n",
       "      <td>Beta-blockers</td>\n",
       "      <td>Medicines and medical aids</td>\n",
       "      <td>cured with success on pat_4655 (0.038140845814...</td>\n",
       "    </tr>\n",
       "    <tr>\n",
       "      <th>3</th>\n",
       "      <td>ther_21</td>\n",
       "      <td>Coronary artery bypass graft</td>\n",
       "      <td>Surgical procedures</td>\n",
       "      <td>cured with success on pat_5695 (0.017236971078...</td>\n",
       "    </tr>\n",
       "    <tr>\n",
       "      <th>4</th>\n",
       "      <td>ther_45</td>\n",
       "      <td>Liver transplant</td>\n",
       "      <td>Surgical procedures</td>\n",
       "      <td>cured with success on pat_7468 (0.013686589419...</td>\n",
       "    </tr>\n",
       "  </tbody>\n",
       "</table>\n",
       "</div>"
      ],
      "text/plain": [
       "        id                          name                        type  \\\n",
       "0  ther_60                       Statins  Medicines and medical aids   \n",
       "1   ther_6    Antiplatelets, clopidogrel  Medicines and medical aids   \n",
       "2  ther_10                 Beta-blockers  Medicines and medical aids   \n",
       "3  ther_21  Coronary artery bypass graft         Surgical procedures   \n",
       "4  ther_45              Liver transplant         Surgical procedures   \n",
       "\n",
       "                                             details  \n",
       "0  cured with success on pat_5698 (0.052977777389...  \n",
       "1  cured with success on pat_5460 (0.041568813352...  \n",
       "2  cured with success on pat_4655 (0.038140845814...  \n",
       "3  cured with success on pat_5695 (0.017236971078...  \n",
       "4  cured with success on pat_7468 (0.013686589419...  "
      ]
     },
     "execution_count": 35,
     "metadata": {},
     "output_type": "execute_result"
    }
   ],
   "source": [
    "i"
   ]
  },
  {
   "cell_type": "code",
   "execution_count": 50,
   "metadata": {},
   "outputs": [],
   "source": [
    "i.to_csv(\"../../results/results.txt\", index=None, sep='-', mode='a')"
   ]
  },
  {
   "cell_type": "code",
   "execution_count": 87,
   "metadata": {},
   "outputs": [],
   "source": [
    "count = 1\n",
    "with open(\"../../results/results.txt\", 'a') as f:\n",
    "        f.write(\"Recommended therapies for {patient_id} to treat condition {cond_id}: \\n\")\n",
    "        for idx,row in i.iterrows():\n",
    "            #with open(\"../../results/results.txt\", 'a') as f:\n",
    "            f.write(f'{count}°: {row.id}  |  {row.name}  |  {row.type}  |  {row.details} \\n')\n",
    "            count += 1\n",
    "        f.write(\"-----------------------------------------------------------------------------------------------------------------------------------------\\n\")\n"
   ]
  },
  {
   "cell_type": "code",
   "execution_count": 70,
   "metadata": {},
   "outputs": [],
   "source": [
    "with open('file1.txt', mode='w') as file_object:\n",
    "        print(i, file=file_object)"
   ]
  },
  {
   "cell_type": "code",
   "execution_count": 91,
   "metadata": {},
   "outputs": [],
   "source": [
    "reccomended_ther = pd.DataFrame(columns = ['id', 'name', 'type'])"
   ]
  },
  {
   "cell_type": "code",
   "execution_count": 92,
   "metadata": {},
   "outputs": [
    {
     "data": {
      "text/html": [
       "<div>\n",
       "<style scoped>\n",
       "    .dataframe tbody tr th:only-of-type {\n",
       "        vertical-align: middle;\n",
       "    }\n",
       "\n",
       "    .dataframe tbody tr th {\n",
       "        vertical-align: top;\n",
       "    }\n",
       "\n",
       "    .dataframe thead th {\n",
       "        text-align: right;\n",
       "    }\n",
       "</style>\n",
       "<table border=\"1\" class=\"dataframe\">\n",
       "  <thead>\n",
       "    <tr style=\"text-align: right;\">\n",
       "      <th></th>\n",
       "      <th>id</th>\n",
       "      <th>name</th>\n",
       "      <th>type</th>\n",
       "    </tr>\n",
       "  </thead>\n",
       "  <tbody>\n",
       "  </tbody>\n",
       "</table>\n",
       "</div>"
      ],
      "text/plain": [
       "Empty DataFrame\n",
       "Columns: [id, name, type]\n",
       "Index: []"
      ]
     },
     "execution_count": 92,
     "metadata": {},
     "output_type": "execute_result"
    }
   ],
   "source": [
    "reccomended_ther"
   ]
  },
  {
   "cell_type": "code",
   "execution_count": 96,
   "metadata": {},
   "outputs": [
    {
     "data": {
      "text/html": [
       "<div>\n",
       "<style scoped>\n",
       "    .dataframe tbody tr th:only-of-type {\n",
       "        vertical-align: middle;\n",
       "    }\n",
       "\n",
       "    .dataframe tbody tr th {\n",
       "        vertical-align: top;\n",
       "    }\n",
       "\n",
       "    .dataframe thead th {\n",
       "        text-align: right;\n",
       "    }\n",
       "</style>\n",
       "<table border=\"1\" class=\"dataframe\">\n",
       "  <thead>\n",
       "    <tr style=\"text-align: right;\">\n",
       "      <th></th>\n",
       "      <th>id</th>\n",
       "      <th>name</th>\n",
       "      <th>type</th>\n",
       "    </tr>\n",
       "  </thead>\n",
       "  <tbody>\n",
       "    <tr>\n",
       "      <th>0</th>\n",
       "      <td>ther_0</td>\n",
       "      <td>Abortion</td>\n",
       "      <td>Surgical procedures</td>\n",
       "    </tr>\n",
       "  </tbody>\n",
       "</table>\n",
       "</div>"
      ],
      "text/plain": [
       "       id      name                 type\n",
       "0  ther_0  Abortion  Surgical procedures"
      ]
     },
     "execution_count": 96,
     "metadata": {},
     "output_type": "execute_result"
    }
   ],
   "source": [
    "ther = therapies_df[therapies_df.id == \"ther_0\"]\n",
    "ther\n"
   ]
  },
  {
   "cell_type": "code",
   "execution_count": 108,
   "metadata": {},
   "outputs": [
    {
     "data": {
      "text/html": [
       "<div>\n",
       "<style scoped>\n",
       "    .dataframe tbody tr th:only-of-type {\n",
       "        vertical-align: middle;\n",
       "    }\n",
       "\n",
       "    .dataframe tbody tr th {\n",
       "        vertical-align: top;\n",
       "    }\n",
       "\n",
       "    .dataframe thead th {\n",
       "        text-align: right;\n",
       "    }\n",
       "</style>\n",
       "<table border=\"1\" class=\"dataframe\">\n",
       "  <thead>\n",
       "    <tr style=\"text-align: right;\">\n",
       "      <th></th>\n",
       "      <th>id</th>\n",
       "      <th>name</th>\n",
       "      <th>type</th>\n",
       "    </tr>\n",
       "  </thead>\n",
       "  <tbody>\n",
       "    <tr>\n",
       "      <th>0</th>\n",
       "      <td>ther_0</td>\n",
       "      <td>Abortion</td>\n",
       "      <td>Surgical procedures</td>\n",
       "    </tr>\n",
       "    <tr>\n",
       "      <th>0</th>\n",
       "      <td>ther_0</td>\n",
       "      <td>Abortion</td>\n",
       "      <td>Surgical procedures</td>\n",
       "    </tr>\n",
       "    <tr>\n",
       "      <th>0</th>\n",
       "      <td>ther_0</td>\n",
       "      <td>Abortion</td>\n",
       "      <td>Surgical procedures</td>\n",
       "    </tr>\n",
       "    <tr>\n",
       "      <th>0</th>\n",
       "      <td>ther_0</td>\n",
       "      <td>Abortion</td>\n",
       "      <td>Surgical procedures</td>\n",
       "    </tr>\n",
       "    <tr>\n",
       "      <th>0</th>\n",
       "      <td>ther_0</td>\n",
       "      <td>Abortion</td>\n",
       "      <td>Surgical procedures</td>\n",
       "    </tr>\n",
       "  </tbody>\n",
       "</table>\n",
       "</div>"
      ],
      "text/plain": [
       "       id      name                 type\n",
       "0  ther_0  Abortion  Surgical procedures\n",
       "0  ther_0  Abortion  Surgical procedures\n",
       "0  ther_0  Abortion  Surgical procedures\n",
       "0  ther_0  Abortion  Surgical procedures\n",
       "0  ther_0  Abortion  Surgical procedures"
      ]
     },
     "execution_count": 108,
     "metadata": {},
     "output_type": "execute_result"
    }
   ],
   "source": [
    "import warnings\n",
    "warnings.filterwarnings('ignore')\n",
    "\n",
    "reccomended_ther =reccomended_ther.append(ther)\n",
    "reccomended_ther"
   ]
  },
  {
   "cell_type": "code",
   "execution_count": 105,
   "metadata": {},
   "outputs": [
    {
     "data": {
      "text/plain": [
       "3"
      ]
     },
     "execution_count": 105,
     "metadata": {},
     "output_type": "execute_result"
    }
   ],
   "source": [
    "len(reccomended_ther)"
   ]
  },
  {
   "cell_type": "code",
   "execution_count": 106,
   "metadata": {},
   "outputs": [
    {
     "data": {
      "text/plain": [
       "(3, 3)"
      ]
     },
     "execution_count": 106,
     "metadata": {},
     "output_type": "execute_result"
    }
   ],
   "source": [
    "reccomended_ther.shape"
   ]
  }
 ],
 "metadata": {
  "kernelspec": {
   "display_name": "Python 3.9.12 ('DATA_MINING')",
   "language": "python",
   "name": "python3"
  },
  "language_info": {
   "codemirror_mode": {
    "name": "ipython",
    "version": 3
   },
   "file_extension": ".py",
   "mimetype": "text/x-python",
   "name": "python",
   "nbconvert_exporter": "python",
   "pygments_lexer": "ipython3",
   "version": "3.9.12"
  },
  "orig_nbformat": 4,
  "vscode": {
   "interpreter": {
    "hash": "9478262fb3c52ab4ffeada6175b6b0d234b7147cd16c4fdbc145fe9c59d9ba51"
   }
  }
 },
 "nbformat": 4,
 "nbformat_minor": 2
}
