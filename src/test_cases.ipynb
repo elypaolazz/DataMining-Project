{
 "cells": [
  {
   "cell_type": "markdown",
   "metadata": {},
   "source": [
    "# **Test cases**\n",
    "## Libraries"
   ]
  },
  {
   "cell_type": "code",
   "execution_count": 1,
   "metadata": {},
   "outputs": [],
   "source": [
    "import sys\n",
    "sys.path.append('../')\n",
    "import os\n",
    "import random\n",
    "import pandas as pd\n",
    "import json\n"
   ]
  },
  {
   "cell_type": "markdown",
   "metadata": {},
   "source": [
    "## Open data and define useful variables\n",
    "\n",
    "For the test we will use the dataset containing 10k of patients, each one with a maximum of 20 condition and a maximum of 12 trials per condition."
   ]
  },
  {
   "cell_type": "code",
   "execution_count": 2,
   "metadata": {},
   "outputs": [],
   "source": [
    "# open json data\n",
    "with open('../data/full_data.json', 'r') as file:\n",
    "    data = json.load(file)\n",
    "\n",
    "# define useful variable\n",
    "conditions_df = pd.DataFrame(data['Conditions'])\n",
    "therapies_df = pd.DataFrame(data['Therapies'])\n",
    "patients_df = pd.DataFrame(data['Patients'])  "
   ]
  },
  {
   "cell_type": "markdown",
   "metadata": {},
   "source": [
    "## Choose 15 test patients and conditions\n",
    "\n",
    "We choose randomly 15 combination of patient and condition in order ot test our solution algorithm.\n",
    "These 15 combination will be a sort of test set."
   ]
  },
  {
   "cell_type": "code",
   "execution_count": 3,
   "metadata": {},
   "outputs": [],
   "source": [
    "# choice randomly 15 patients and their coditions\n",
    "list_pat = random.choices(patients_df.id.values, k=15)\n",
    "list_cond = random.choices(conditions_df.id.values, k=15)\n",
    "test_df = pd.DataFrame({\"patient\": list_pat, \"condition\": list_cond})"
   ]
  },
  {
   "cell_type": "code",
   "execution_count": 4,
   "metadata": {},
   "outputs": [
    {
     "data": {
      "text/html": [
       "<div>\n",
       "<style scoped>\n",
       "    .dataframe tbody tr th:only-of-type {\n",
       "        vertical-align: middle;\n",
       "    }\n",
       "\n",
       "    .dataframe tbody tr th {\n",
       "        vertical-align: top;\n",
       "    }\n",
       "\n",
       "    .dataframe thead th {\n",
       "        text-align: right;\n",
       "    }\n",
       "</style>\n",
       "<table border=\"1\" class=\"dataframe\">\n",
       "  <thead>\n",
       "    <tr style=\"text-align: right;\">\n",
       "      <th></th>\n",
       "      <th>patient</th>\n",
       "      <th>condition</th>\n",
       "    </tr>\n",
       "  </thead>\n",
       "  <tbody>\n",
       "    <tr>\n",
       "      <th>0</th>\n",
       "      <td>pat_9776</td>\n",
       "      <td>cond_284</td>\n",
       "    </tr>\n",
       "    <tr>\n",
       "      <th>1</th>\n",
       "      <td>pat_937</td>\n",
       "      <td>cond_13</td>\n",
       "    </tr>\n",
       "    <tr>\n",
       "      <th>2</th>\n",
       "      <td>pat_5435</td>\n",
       "      <td>cond_20</td>\n",
       "    </tr>\n",
       "    <tr>\n",
       "      <th>3</th>\n",
       "      <td>pat_9124</td>\n",
       "      <td>cond_227</td>\n",
       "    </tr>\n",
       "    <tr>\n",
       "      <th>4</th>\n",
       "      <td>pat_7410</td>\n",
       "      <td>cond_209</td>\n",
       "    </tr>\n",
       "    <tr>\n",
       "      <th>5</th>\n",
       "      <td>pat_9833</td>\n",
       "      <td>cond_73</td>\n",
       "    </tr>\n",
       "    <tr>\n",
       "      <th>6</th>\n",
       "      <td>pat_1159</td>\n",
       "      <td>cond_306</td>\n",
       "    </tr>\n",
       "    <tr>\n",
       "      <th>7</th>\n",
       "      <td>pat_3343</td>\n",
       "      <td>cond_190</td>\n",
       "    </tr>\n",
       "    <tr>\n",
       "      <th>8</th>\n",
       "      <td>pat_2410</td>\n",
       "      <td>cond_3</td>\n",
       "    </tr>\n",
       "    <tr>\n",
       "      <th>9</th>\n",
       "      <td>pat_1832</td>\n",
       "      <td>cond_249</td>\n",
       "    </tr>\n",
       "    <tr>\n",
       "      <th>10</th>\n",
       "      <td>pat_3821</td>\n",
       "      <td>cond_27</td>\n",
       "    </tr>\n",
       "    <tr>\n",
       "      <th>11</th>\n",
       "      <td>pat_9356</td>\n",
       "      <td>cond_99</td>\n",
       "    </tr>\n",
       "    <tr>\n",
       "      <th>12</th>\n",
       "      <td>pat_7321</td>\n",
       "      <td>cond_60</td>\n",
       "    </tr>\n",
       "    <tr>\n",
       "      <th>13</th>\n",
       "      <td>pat_6623</td>\n",
       "      <td>cond_218</td>\n",
       "    </tr>\n",
       "    <tr>\n",
       "      <th>14</th>\n",
       "      <td>pat_1842</td>\n",
       "      <td>cond_74</td>\n",
       "    </tr>\n",
       "  </tbody>\n",
       "</table>\n",
       "</div>"
      ],
      "text/plain": [
       "     patient condition\n",
       "0   pat_9776  cond_284\n",
       "1    pat_937   cond_13\n",
       "2   pat_5435   cond_20\n",
       "3   pat_9124  cond_227\n",
       "4   pat_7410  cond_209\n",
       "5   pat_9833   cond_73\n",
       "6   pat_1159  cond_306\n",
       "7   pat_3343  cond_190\n",
       "8   pat_2410    cond_3\n",
       "9   pat_1832  cond_249\n",
       "10  pat_3821   cond_27\n",
       "11  pat_9356   cond_99\n",
       "12  pat_7321   cond_60\n",
       "13  pat_6623  cond_218\n",
       "14  pat_1842   cond_74"
      ]
     },
     "execution_count": 4,
     "metadata": {},
     "output_type": "execute_result"
    }
   ],
   "source": [
    "test_df"
   ]
  },
  {
   "cell_type": "markdown",
   "metadata": {},
   "source": [
    "## Run recommendation algorithm for each fo them:"
   ]
  },
  {
   "cell_type": "code",
   "execution_count": 5,
   "metadata": {},
   "outputs": [
    {
     "name": "stdout",
     "output_type": "stream",
     "text": [
      "> Test 1: pat_9776, cond_284 -----------------------------------------------------------\n",
      "> Parameters setted\n",
      "> Find cond_284 cured patients subset\n"
     ]
    },
    {
     "name": "stderr",
     "output_type": "stream",
     "text": [
      "Calculating cosine distances: 100%|██████████| 137/137 [00:09<00:00, 14.43it/s]\n"
     ]
    },
    {
     "name": "stdout",
     "output_type": "stream",
     "text": [
      "> Compose recommended therapies ranking list\n",
      "> Results and execution time are stored in 'results/results.txt' file\n",
      "> Test 1: pat_937, cond_13 -----------------------------------------------------------\n",
      "> Parameters setted\n",
      "> Find cond_13 cured patients subset\n"
     ]
    },
    {
     "name": "stderr",
     "output_type": "stream",
     "text": [
      "Calculating cosine distances: 100%|██████████| 126/126 [00:08<00:00, 15.26it/s]\n"
     ]
    },
    {
     "name": "stdout",
     "output_type": "stream",
     "text": [
      "> Compose recommended therapies ranking list\n",
      "> Results and execution time are stored in 'results/results.txt' file\n",
      "> Test 1: pat_5435, cond_20 -----------------------------------------------------------\n",
      "> Parameters setted\n",
      "> Find cond_20 cured patients subset\n"
     ]
    },
    {
     "name": "stderr",
     "output_type": "stream",
     "text": [
      "Calculating cosine distances: 100%|██████████| 110/110 [00:06<00:00, 16.02it/s]\n"
     ]
    },
    {
     "name": "stdout",
     "output_type": "stream",
     "text": [
      "> Compose recommended therapies ranking list\n",
      "> Results and execution time are stored in 'results/results.txt' file\n",
      "> Test 1: pat_9124, cond_227 -----------------------------------------------------------\n",
      "> Parameters setted\n",
      "> Find cond_227 cured patients subset\n"
     ]
    },
    {
     "name": "stderr",
     "output_type": "stream",
     "text": [
      "Calculating cosine distances: 100%|██████████| 121/121 [00:07<00:00, 15.65it/s]\n"
     ]
    },
    {
     "name": "stdout",
     "output_type": "stream",
     "text": [
      "> Compose recommended therapies ranking list\n",
      "> Results and execution time are stored in 'results/results.txt' file\n",
      "> Test 1: pat_7410, cond_209 -----------------------------------------------------------\n",
      "> Parameters setted\n",
      "> Find cond_209 cured patients subset\n"
     ]
    },
    {
     "name": "stderr",
     "output_type": "stream",
     "text": [
      "Calculating cosine distances: 100%|██████████| 129/129 [00:08<00:00, 15.69it/s]\n"
     ]
    },
    {
     "name": "stdout",
     "output_type": "stream",
     "text": [
      "> Compose recommended therapies ranking list\n",
      "> Results and execution time are stored in 'results/results.txt' file\n",
      "> Test 1: pat_9833, cond_73 -----------------------------------------------------------\n",
      "> Parameters setted\n",
      "> Find cond_73 cured patients subset\n"
     ]
    },
    {
     "name": "stderr",
     "output_type": "stream",
     "text": [
      "Calculating cosine distances: 100%|██████████| 116/116 [00:07<00:00, 15.94it/s]\n"
     ]
    },
    {
     "name": "stdout",
     "output_type": "stream",
     "text": [
      "> Compose recommended therapies ranking list\n",
      "> Results and execution time are stored in 'results/results.txt' file\n",
      "> Test 1: pat_1159, cond_306 -----------------------------------------------------------\n",
      "> Parameters setted\n",
      "> Find cond_306 cured patients subset\n"
     ]
    },
    {
     "name": "stderr",
     "output_type": "stream",
     "text": [
      "Calculating cosine distances: 100%|██████████| 128/128 [00:08<00:00, 14.48it/s]\n"
     ]
    },
    {
     "name": "stdout",
     "output_type": "stream",
     "text": [
      "> Compose recommended therapies ranking list\n",
      "> Results and execution time are stored in 'results/results.txt' file\n",
      "> Test 1: pat_3343, cond_190 -----------------------------------------------------------\n",
      "> Parameters setted\n",
      "> Find cond_190 cured patients subset\n"
     ]
    },
    {
     "name": "stderr",
     "output_type": "stream",
     "text": [
      "Calculating cosine distances: 100%|██████████| 125/125 [00:11<00:00, 11.20it/s]\n"
     ]
    },
    {
     "name": "stdout",
     "output_type": "stream",
     "text": [
      "> Compose recommended therapies ranking list\n",
      "> Results and execution time are stored in 'results/results.txt' file\n",
      "> Test 1: pat_2410, cond_3 -----------------------------------------------------------\n",
      "> Parameters setted\n",
      "> Find cond_3 cured patients subset\n"
     ]
    },
    {
     "name": "stderr",
     "output_type": "stream",
     "text": [
      "Calculating cosine distances: 100%|██████████| 140/140 [00:11<00:00, 12.65it/s]\n"
     ]
    },
    {
     "name": "stdout",
     "output_type": "stream",
     "text": [
      "> Compose recommended therapies ranking list\n",
      "> Results and execution time are stored in 'results/results.txt' file\n",
      "> Test 1: pat_1832, cond_249 -----------------------------------------------------------\n",
      "> Parameters setted\n",
      "> Find cond_249 cured patients subset\n"
     ]
    },
    {
     "name": "stderr",
     "output_type": "stream",
     "text": [
      "Calculating cosine distances: 100%|██████████| 123/123 [00:08<00:00, 13.92it/s]\n"
     ]
    },
    {
     "name": "stdout",
     "output_type": "stream",
     "text": [
      "> Compose recommended therapies ranking list\n",
      "> Results and execution time are stored in 'results/results.txt' file\n",
      "> Test 1: pat_3821, cond_27 -----------------------------------------------------------\n",
      "> Parameters setted\n",
      "> Find cond_27 cured patients subset\n"
     ]
    },
    {
     "name": "stderr",
     "output_type": "stream",
     "text": [
      "Calculating cosine distances: 100%|██████████| 116/116 [00:10<00:00, 11.37it/s]\n"
     ]
    },
    {
     "name": "stdout",
     "output_type": "stream",
     "text": [
      "> Compose recommended therapies ranking list\n",
      "> Results and execution time are stored in 'results/results.txt' file\n",
      "> Test 1: pat_9356, cond_99 -----------------------------------------------------------\n",
      "> Parameters setted\n",
      "> Find cond_99 cured patients subset\n"
     ]
    },
    {
     "name": "stderr",
     "output_type": "stream",
     "text": [
      "Calculating cosine distances: 100%|██████████| 113/113 [00:07<00:00, 14.55it/s]\n"
     ]
    },
    {
     "name": "stdout",
     "output_type": "stream",
     "text": [
      "> Compose recommended therapies ranking list\n",
      "> Results and execution time are stored in 'results/results.txt' file\n",
      "> Test 1: pat_7321, cond_60 -----------------------------------------------------------\n",
      "> Parameters setted\n",
      "> Find cond_60 cured patients subset\n"
     ]
    },
    {
     "name": "stderr",
     "output_type": "stream",
     "text": [
      "Calculating cosine distances: 100%|██████████| 130/130 [00:09<00:00, 13.55it/s]\n"
     ]
    },
    {
     "name": "stdout",
     "output_type": "stream",
     "text": [
      "> Compose recommended therapies ranking list\n",
      "> Results and execution time are stored in 'results/results.txt' file\n",
      "> Test 1: pat_6623, cond_218 -----------------------------------------------------------\n",
      "> Parameters setted\n",
      "> Find cond_218 cured patients subset\n"
     ]
    },
    {
     "name": "stderr",
     "output_type": "stream",
     "text": [
      "Calculating cosine distances: 100%|██████████| 134/134 [00:08<00:00, 16.16it/s]\n"
     ]
    },
    {
     "name": "stdout",
     "output_type": "stream",
     "text": [
      "> Compose recommended therapies ranking list\n",
      "> Results and execution time are stored in 'results/results.txt' file\n",
      "> Test 1: pat_1842, cond_74 -----------------------------------------------------------\n",
      "> Parameters setted\n",
      "> Find cond_74 cured patients subset\n"
     ]
    },
    {
     "name": "stderr",
     "output_type": "stream",
     "text": [
      "Calculating cosine distances: 100%|██████████| 136/136 [00:08<00:00, 15.81it/s]\n"
     ]
    },
    {
     "name": "stdout",
     "output_type": "stream",
     "text": [
      "> Compose recommended therapies ranking list\n",
      "> Results and execution time are stored in 'results/results.txt' file\n"
     ]
    }
   ],
   "source": [
    "count = 1\n",
    "for idx,row in test_df.iterrows():\n",
    "    print(f\"> Test {count}: {row.patient}, {row.condition} -----------------------------------------------------------\")\n",
    "    execution = f\"../bin/ther_recommendation.py ../data/full_data.json {row.patient} {row.condition} test\"\n",
    "    %run {execution}\n",
    "    count = count =+1"
   ]
  }
 ],
 "metadata": {
  "kernelspec": {
   "display_name": "Python 3.9.12 ('DATA_MINING')",
   "language": "python",
   "name": "python3"
  },
  "language_info": {
   "codemirror_mode": {
    "name": "ipython",
    "version": 3
   },
   "file_extension": ".py",
   "mimetype": "text/x-python",
   "name": "python",
   "nbconvert_exporter": "python",
   "pygments_lexer": "ipython3",
   "version": "3.9.12"
  },
  "orig_nbformat": 4,
  "vscode": {
   "interpreter": {
    "hash": "9478262fb3c52ab4ffeada6175b6b0d234b7147cd16c4fdbc145fe9c59d9ba51"
   }
  }
 },
 "nbformat": 4,
 "nbformat_minor": 2
}
