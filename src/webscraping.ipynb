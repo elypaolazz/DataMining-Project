{
 "cells": [
  {
   "cell_type": "markdown",
   "metadata": {},
   "source": [
    "## **Web Scraping**"
   ]
  },
  {
   "cell_type": "markdown",
   "metadata": {},
   "source": [
    "#### **Libraries**\n",
    "\n",
    "We import the necessary libraries for the notebook."
   ]
  },
  {
   "cell_type": "code",
   "execution_count": 1,
   "metadata": {},
   "outputs": [
    {
     "name": "stdout",
     "output_type": "stream",
     "text": [
      "> Libraries Imported\n"
     ]
    }
   ],
   "source": [
    "import pandas as pd\n",
    "import requests\n",
    "import json\n",
    "from bs4 import BeautifulSoup\n",
    "from tqdm import tqdm\n",
    "\n",
    "print(\"> Libraries Imported\")"
   ]
  },
  {
   "cell_type": "markdown",
   "metadata": {},
   "source": [
    "## **Conditions**\n",
    "#### **Obtain the main page**\n",
    "\n",
    "First, we obtain the main content of the page *https://www.nhsinform.scot/illnesses-and-conditions/a-to-z*"
   ]
  },
  {
   "cell_type": "code",
   "execution_count": 2,
   "metadata": {},
   "outputs": [
    {
     "name": "stdout",
     "output_type": "stream",
     "text": [
      "> Status Code: 200\n",
      "> Site obtained\n"
     ]
    }
   ],
   "source": [
    "header = {'User-Agent': 'Mozilla/5.0 (Windows; U; Windows NT 5.1; en-US; rv:1.9.0.7) Gecko/2009021910 Firefox/3.0.7'}\n",
    "base_url = \"https://www.nhsinform.scot/illnesses-and-conditions/a-to-z\"\n",
    "\n",
    "r = requests.get(base_url,headers=header)\n",
    "\n",
    "# check the response code (it should be 200)\n",
    "print(f\"> Status Code: {r.status_code}\")\n",
    "\n",
    "# and obtain the content\n",
    "soup = BeautifulSoup(r.text, 'html.parser')\n",
    "print(\"> Site obtained\")"
   ]
  },
  {
   "cell_type": "markdown",
   "metadata": {},
   "source": [
    "Now we create the logic to obtain the information we need."
   ]
  },
  {
   "cell_type": "code",
   "execution_count": 3,
   "metadata": {},
   "outputs": [
    {
     "name": "stdout",
     "output_type": "stream",
     "text": [
      "> Total Conditions Found: 322\n",
      " * 'Abdominal aortic aneurysm' | Link: 'https://www.nhsinform.scot//illnesses-and-conditions/a-to-z/a/abdominal-aortic-aneurysm'\n",
      " * 'Acne' | Link: 'https://www.nhsinform.scot//illnesses-and-conditions/a-to-z/a/acne'\n",
      " * 'Acute cholecystitis' | Link: 'https://www.nhsinform.scot//illnesses-and-conditions/a-to-z/a/acute-cholecystitis'\n",
      " * 'Acute lymphoblastic leukaemia' | Link: 'https://www.nhsinform.scot//illnesses-and-conditions/a-to-z/a/acute-lymphoblastic-leukaemia'\n",
      " * 'Acute lymphoblastic leukaemia: Children' | Link: 'https://www.nhsinform.scot//illnesses-and-conditions/a-to-z/a/acute-lymphoblastic-leukaemia-children'\n"
     ]
    }
   ],
   "source": [
    "# the info is stored in the 'a' tags, with class 'nhs-uk__az-link'\n",
    "links = soup.find_all('a',attrs={\"class\":\"nhs-uk__az-link\"})\n",
    "\n",
    "# setup placeholders and variables\n",
    "BASE_LINK = 'https://www.nhsinform.scot/'\n",
    "name_list = []\n",
    "href_list = []\n",
    "\n",
    "# iterate over obtained \n",
    "for link in links:\n",
    "\n",
    "    # preprocess name\n",
    "    clean_name = link.text.replace('\\r','').replace('\\n','').replace('\\t','')\n",
    "    \n",
    "    # save it in the list\n",
    "    name_list.append(clean_name)\n",
    "\n",
    "    # obtain href\n",
    "    href_list.append(BASE_LINK + link.get('href'))\n",
    "\n",
    "# show results\n",
    "print(f\"> Total Conditions Found: {len(name_list)}\")\n",
    "for name, link in zip(name_list[0:5], href_list[0:5]):\n",
    "    print(f\" * '{name}' | Link: '{link}'\")"
   ]
  },
  {
   "cell_type": "markdown",
   "metadata": {},
   "source": [
    "#### **Obtain the information about type**"
   ]
  },
  {
   "cell_type": "code",
   "execution_count": 4,
   "metadata": {},
   "outputs": [
    {
     "name": "stderr",
     "output_type": "stream",
     "text": [
      "Scraping Sites:  19%|█▉        | 61/322 [00:51<03:10,  1.37it/s]"
     ]
    },
    {
     "name": "stdout",
     "output_type": "stream",
     "text": [
      "> Error while retrieving the page 'https://www.nhsinform.scot//illnesses-and-conditions/a-to-z/c/chronic-fatigue-syndrome'.\n",
      "  Status Code: 404\n"
     ]
    },
    {
     "name": "stderr",
     "output_type": "stream",
     "text": [
      "Scraping Sites:  28%|██▊       | 91/322 [01:15<03:09,  1.22it/s]"
     ]
    },
    {
     "name": "stdout",
     "output_type": "stream",
     "text": [
      "> Error while retrieving the page 'https://www.nhsinform.scot//illnesses-and-conditions/a-to-z/d/diabetes'.\n",
      "  Error Details: list index out of range\n"
     ]
    },
    {
     "name": "stderr",
     "output_type": "stream",
     "text": [
      "Scraping Sites:  53%|█████▎    | 172/322 [02:16<01:23,  1.79it/s]"
     ]
    },
    {
     "name": "stdout",
     "output_type": "stream",
     "text": [
      "> Error while retrieving the page 'https://www.nhsinform.scot//illnesses-and-conditions/a-to-z/l/langerhans-cell-histiocytosis'.\n",
      "  Status Code: 404\n"
     ]
    },
    {
     "name": "stderr",
     "output_type": "stream",
     "text": [
      "Scraping Sites:  58%|█████▊    | 188/322 [02:26<01:18,  1.70it/s]"
     ]
    },
    {
     "name": "stdout",
     "output_type": "stream",
     "text": [
      "> Error while retrieving the page 'https://www.nhsinform.scot//illnesses-and-conditions/a-to-z/m/malnutrition'.\n",
      "  Status Code: 404\n"
     ]
    },
    {
     "name": "stderr",
     "output_type": "stream",
     "text": [
      "Scraping Sites:  59%|█████▉    | 191/322 [02:27<01:11,  1.84it/s]"
     ]
    },
    {
     "name": "stdout",
     "output_type": "stream",
     "text": [
      "> Error while retrieving the page 'https://www.nhsinform.scot//illnesses-and-conditions/a-to-z/m/menopause'.\n",
      "  Status Code: 404\n"
     ]
    },
    {
     "name": "stderr",
     "output_type": "stream",
     "text": [
      "Scraping Sites:  66%|██████▌   | 211/322 [02:43<01:11,  1.54it/s]"
     ]
    },
    {
     "name": "stdout",
     "output_type": "stream",
     "text": [
      "> Error while retrieving the page 'https://www.nhsinform.scot//illnesses-and-conditions/a-to-z/n/norovirus'.\n",
      "  Status Code: 404\n"
     ]
    },
    {
     "name": "stderr",
     "output_type": "stream",
     "text": [
      "Scraping Sites:  75%|███████▍  | 240/322 [03:01<00:51,  1.60it/s]"
     ]
    },
    {
     "name": "stdout",
     "output_type": "stream",
     "text": [
      "> Error while retrieving the page 'https://www.nhsinform.scot//illnesses-and-conditions/a-to-z/p/pregnancy-and-baby'.\n",
      "  Error Details: list index out of range\n"
     ]
    },
    {
     "name": "stderr",
     "output_type": "stream",
     "text": [
      "Scraping Sites:  86%|████████▋ | 278/322 [03:27<00:28,  1.57it/s]"
     ]
    },
    {
     "name": "stdout",
     "output_type": "stream",
     "text": [
      "> Error while retrieving the page 'https://www.nhsinform.scot//illnesses-and-conditions/a-to-z/s/stress-anxiety-and-low-mood'.\n",
      "  Error Details: list index out of range\n"
     ]
    },
    {
     "name": "stderr",
     "output_type": "stream",
     "text": [
      "Scraping Sites:  87%|████████▋ | 279/322 [03:27<00:27,  1.59it/s]"
     ]
    },
    {
     "name": "stdout",
     "output_type": "stream",
     "text": [
      "> Error while retrieving the page 'https://www.nhsinform.scot//illnesses-and-conditions/a-to-z/s/stroke'.\n",
      "  Status Code: 404\n"
     ]
    },
    {
     "name": "stderr",
     "output_type": "stream",
     "text": [
      "Scraping Sites:  87%|████████▋ | 281/322 [03:28<00:22,  1.81it/s]"
     ]
    },
    {
     "name": "stdout",
     "output_type": "stream",
     "text": [
      "> Error while retrieving the page 'https://www.nhsinform.scot//illnesses-and-conditions/a-to-z/s/suicide'.\n",
      "  Status Code: 404\n"
     ]
    },
    {
     "name": "stderr",
     "output_type": "stream",
     "text": [
      "Scraping Sites:  90%|█████████ | 291/322 [03:34<00:16,  1.90it/s]"
     ]
    },
    {
     "name": "stdout",
     "output_type": "stream",
     "text": [
      "> Error while retrieving the page 'https://www.nhsinform.scot//illnesses-and-conditions/a-to-z/t/thrush-in-men'.\n",
      "  Status Code: 404\n"
     ]
    },
    {
     "name": "stderr",
     "output_type": "stream",
     "text": [
      "Scraping Sites:  93%|█████████▎| 298/322 [03:38<00:13,  1.79it/s]"
     ]
    },
    {
     "name": "stdout",
     "output_type": "stream",
     "text": [
      "> Error while retrieving the page 'https://www.nhsinform.scot//illnesses-and-conditions/a-to-z/t/transient-ischaemic-attack-tia'.\n",
      "  Status Code: 404\n"
     ]
    },
    {
     "name": "stderr",
     "output_type": "stream",
     "text": [
      "Scraping Sites:  97%|█████████▋| 311/322 [03:46<00:05,  1.89it/s]"
     ]
    },
    {
     "name": "stdout",
     "output_type": "stream",
     "text": [
      "> Error while retrieving the page 'https://www.nhsinform.scot//illnesses-and-conditions/a-to-z/v/vaginal-thrush'.\n",
      "  Status Code: 404\n"
     ]
    },
    {
     "name": "stderr",
     "output_type": "stream",
     "text": [
      "Scraping Sites: 100%|██████████| 322/322 [03:54<00:00,  1.37it/s]\n"
     ]
    }
   ],
   "source": [
    "# setup placeholder\n",
    "types_list = []\n",
    "\n",
    "for link in tqdm(href_list, desc=\"Scraping Sites\"):\n",
    "    \n",
    "    # connect\n",
    "    r = requests.get(link,headers=header)\n",
    "\n",
    "    # check for status code\n",
    "    if r.status_code == 200:\n",
    "\n",
    "        try:\n",
    "            # obtain content \n",
    "            soup = BeautifulSoup(r.text, 'html.parser')\n",
    "\n",
    "            # obtain 'a' with class 'nhsuk-breadcrumb__link'\n",
    "            links = soup.find_all('a',attrs={\"class\":\"nhsuk-breadcrumb__link\"})\n",
    "\n",
    "            # save it in the list\n",
    "            types_list.append(links[2].text)\n",
    "\n",
    "        except Exception as e:\n",
    "            types_list.append(\"ERROR\")\n",
    "            print(f\"> Error while retrieving the page '{link}'.\")\n",
    "            print(f\"  Error Details: {str(e)}\")\n",
    "\n",
    "    # if the page could not be reached, print a warning\n",
    "    else:\n",
    "        types_list.append(\"ERROR\")\n",
    "        print(f\"> Error while retrieving the page '{link}'.\")\n",
    "        print(f\"  Status Code: {r.status_code}\")\n"
   ]
  },
  {
   "cell_type": "markdown",
   "metadata": {},
   "source": [
    "#### **Create the complete dataset of conditions**\n",
    "\n",
    "We merge all the scraped data together."
   ]
  },
  {
   "cell_type": "code",
   "execution_count": 5,
   "metadata": {},
   "outputs": [
    {
     "name": "stdout",
     "output_type": "stream",
     "text": [
      "> Number of Conditions         322\n",
      "> Number of Conditions (clean) 309\n"
     ]
    },
    {
     "data": {
      "text/html": [
       "<div>\n",
       "<style scoped>\n",
       "    .dataframe tbody tr th:only-of-type {\n",
       "        vertical-align: middle;\n",
       "    }\n",
       "\n",
       "    .dataframe tbody tr th {\n",
       "        vertical-align: top;\n",
       "    }\n",
       "\n",
       "    .dataframe thead th {\n",
       "        text-align: right;\n",
       "    }\n",
       "</style>\n",
       "<table border=\"1\" class=\"dataframe\">\n",
       "  <thead>\n",
       "    <tr style=\"text-align: right;\">\n",
       "      <th></th>\n",
       "      <th>condition_id</th>\n",
       "      <th>condition_name</th>\n",
       "      <th>condition_type</th>\n",
       "    </tr>\n",
       "  </thead>\n",
       "  <tbody>\n",
       "    <tr>\n",
       "      <th>0</th>\n",
       "      <td>cond_0</td>\n",
       "      <td>Abdominal aortic aneurysm</td>\n",
       "      <td>Heart and blood vessels</td>\n",
       "    </tr>\n",
       "    <tr>\n",
       "      <th>1</th>\n",
       "      <td>cond_1</td>\n",
       "      <td>Acne</td>\n",
       "      <td>Skin, hair and nails</td>\n",
       "    </tr>\n",
       "    <tr>\n",
       "      <th>2</th>\n",
       "      <td>cond_2</td>\n",
       "      <td>Acute cholecystitis</td>\n",
       "      <td>Stomach, liver and gastrointestinal tract</td>\n",
       "    </tr>\n",
       "    <tr>\n",
       "      <th>3</th>\n",
       "      <td>cond_3</td>\n",
       "      <td>Acute lymphoblastic leukaemia</td>\n",
       "      <td>Cancer</td>\n",
       "    </tr>\n",
       "    <tr>\n",
       "      <th>4</th>\n",
       "      <td>cond_4</td>\n",
       "      <td>Acute lymphoblastic leukaemia: Children</td>\n",
       "      <td>Cancer</td>\n",
       "    </tr>\n",
       "    <tr>\n",
       "      <th>...</th>\n",
       "      <td>...</td>\n",
       "      <td>...</td>\n",
       "      <td>...</td>\n",
       "    </tr>\n",
       "    <tr>\n",
       "      <th>304</th>\n",
       "      <td>cond_304</td>\n",
       "      <td>Warts and verrucas</td>\n",
       "      <td>Skin, hair and nails</td>\n",
       "    </tr>\n",
       "    <tr>\n",
       "      <th>305</th>\n",
       "      <td>cond_305</td>\n",
       "      <td>Whooping cough</td>\n",
       "      <td>Infections and poisoning</td>\n",
       "    </tr>\n",
       "    <tr>\n",
       "      <th>306</th>\n",
       "      <td>cond_306</td>\n",
       "      <td>Wilms’ tumour</td>\n",
       "      <td>Cancer</td>\n",
       "    </tr>\n",
       "    <tr>\n",
       "      <th>307</th>\n",
       "      <td>cond_307</td>\n",
       "      <td>Womb (uterus) cancer</td>\n",
       "      <td>Cancer</td>\n",
       "    </tr>\n",
       "    <tr>\n",
       "      <th>308</th>\n",
       "      <td>cond_308</td>\n",
       "      <td>Yellow fever</td>\n",
       "      <td>Infections and poisoning</td>\n",
       "    </tr>\n",
       "  </tbody>\n",
       "</table>\n",
       "<p>309 rows × 3 columns</p>\n",
       "</div>"
      ],
      "text/plain": [
       "    condition_id                           condition_name  \\\n",
       "0         cond_0                Abdominal aortic aneurysm   \n",
       "1         cond_1                                     Acne   \n",
       "2         cond_2                      Acute cholecystitis   \n",
       "3         cond_3            Acute lymphoblastic leukaemia   \n",
       "4         cond_4  Acute lymphoblastic leukaemia: Children   \n",
       "..           ...                                      ...   \n",
       "304     cond_304                       Warts and verrucas   \n",
       "305     cond_305                           Whooping cough   \n",
       "306     cond_306                            Wilms’ tumour   \n",
       "307     cond_307                     Womb (uterus) cancer   \n",
       "308     cond_308                             Yellow fever   \n",
       "\n",
       "                                condition_type  \n",
       "0                      Heart and blood vessels  \n",
       "1                         Skin, hair and nails  \n",
       "2    Stomach, liver and gastrointestinal tract  \n",
       "3                                       Cancer  \n",
       "4                                       Cancer  \n",
       "..                                         ...  \n",
       "304                       Skin, hair and nails  \n",
       "305                   Infections and poisoning  \n",
       "306                                     Cancer  \n",
       "307                                     Cancer  \n",
       "308                   Infections and poisoning  \n",
       "\n",
       "[309 rows x 3 columns]"
      ]
     },
     "execution_count": 5,
     "metadata": {},
     "output_type": "execute_result"
    }
   ],
   "source": [
    "# create the df from lists\n",
    "conditions_df = pd.DataFrame(\n",
    "    data=zip(name_list, types_list),\n",
    "    columns=[\"condition_name\",\"condition_type\"]\n",
    ")\n",
    "\n",
    "# remove error types\n",
    "print(f\"> Number of Conditions         {conditions_df.shape[0]}\")\n",
    "conditions_df = conditions_df.loc[conditions_df[\"condition_type\"] != \"ERROR\"].reset_index()\n",
    "print(f\"> Number of Conditions (clean) {conditions_df.shape[0]}\")\n",
    "\n",
    "# add column with conditions ids\n",
    "conditions_ids = [f\"cond_{n}\" for n in range(len(conditions_df))]\n",
    "conditions_df[\"condition_id\"] = conditions_ids\n",
    "\n",
    "# reorder columns\n",
    "conditions_df = conditions_df[[\"condition_id\", \"condition_name\", \"condition_type\"]]\n",
    "\n",
    "# show results\n",
    "conditions_df"
   ]
  },
  {
   "cell_type": "markdown",
   "metadata": {},
   "source": [
    "*How many different types do we have?*"
   ]
  },
  {
   "cell_type": "code",
   "execution_count": 6,
   "metadata": {},
   "outputs": [
    {
     "data": {
      "text/html": [
       "<div>\n",
       "<style scoped>\n",
       "    .dataframe tbody tr th:only-of-type {\n",
       "        vertical-align: middle;\n",
       "    }\n",
       "\n",
       "    .dataframe tbody tr th {\n",
       "        vertical-align: top;\n",
       "    }\n",
       "\n",
       "    .dataframe thead th {\n",
       "        text-align: right;\n",
       "    }\n",
       "</style>\n",
       "<table border=\"1\" class=\"dataframe\">\n",
       "  <thead>\n",
       "    <tr style=\"text-align: right;\">\n",
       "      <th></th>\n",
       "      <th>condition_type</th>\n",
       "    </tr>\n",
       "  </thead>\n",
       "  <tbody>\n",
       "    <tr>\n",
       "      <th>0</th>\n",
       "      <td>Heart and blood vessels</td>\n",
       "    </tr>\n",
       "    <tr>\n",
       "      <th>1</th>\n",
       "      <td>Skin, hair and nails</td>\n",
       "    </tr>\n",
       "    <tr>\n",
       "      <th>2</th>\n",
       "      <td>Stomach, liver and gastrointestinal tract</td>\n",
       "    </tr>\n",
       "    <tr>\n",
       "      <th>3</th>\n",
       "      <td>Cancer</td>\n",
       "    </tr>\n",
       "    <tr>\n",
       "      <th>4</th>\n",
       "      <td>Glands</td>\n",
       "    </tr>\n",
       "    <tr>\n",
       "      <th>5</th>\n",
       "      <td>Ears, nose and throat</td>\n",
       "    </tr>\n",
       "    <tr>\n",
       "      <th>6</th>\n",
       "      <td>Immune system</td>\n",
       "    </tr>\n",
       "    <tr>\n",
       "      <th>7</th>\n",
       "      <td>Brain, nerves and spinal cord</td>\n",
       "    </tr>\n",
       "    <tr>\n",
       "      <th>8</th>\n",
       "      <td>Muscle, bone and joints</td>\n",
       "    </tr>\n",
       "    <tr>\n",
       "      <th>9</th>\n",
       "      <td>Mental health</td>\n",
       "    </tr>\n",
       "    <tr>\n",
       "      <th>10</th>\n",
       "      <td>Lungs and airways</td>\n",
       "    </tr>\n",
       "    <tr>\n",
       "      <th>11</th>\n",
       "      <td>Sexual and reproductive</td>\n",
       "    </tr>\n",
       "    <tr>\n",
       "      <th>12</th>\n",
       "      <td>Kidneys, bladder and prostate</td>\n",
       "    </tr>\n",
       "    <tr>\n",
       "      <th>13</th>\n",
       "      <td>Blood and lymph</td>\n",
       "    </tr>\n",
       "    <tr>\n",
       "      <th>14</th>\n",
       "      <td>Infections and poisoning</td>\n",
       "    </tr>\n",
       "    <tr>\n",
       "      <th>15</th>\n",
       "      <td>Mouth</td>\n",
       "    </tr>\n",
       "    <tr>\n",
       "      <th>16</th>\n",
       "      <td>Eyes</td>\n",
       "    </tr>\n",
       "    <tr>\n",
       "      <th>17</th>\n",
       "      <td>Nutritional</td>\n",
       "    </tr>\n",
       "    <tr>\n",
       "      <th>18</th>\n",
       "      <td>Down's syndrome</td>\n",
       "    </tr>\n",
       "    <tr>\n",
       "      <th>19</th>\n",
       "      <td>Pregnancy and childbirth</td>\n",
       "    </tr>\n",
       "    <tr>\n",
       "      <th>20</th>\n",
       "      <td>Women's health</td>\n",
       "    </tr>\n",
       "    <tr>\n",
       "      <th>21</th>\n",
       "      <td>Pregnancy</td>\n",
       "    </tr>\n",
       "    <tr>\n",
       "      <th>22</th>\n",
       "      <td>Early parenthood</td>\n",
       "    </tr>\n",
       "    <tr>\n",
       "      <th>23</th>\n",
       "      <td>Injuries</td>\n",
       "    </tr>\n",
       "    <tr>\n",
       "      <th>24</th>\n",
       "      <td>Diabetes</td>\n",
       "    </tr>\n",
       "  </tbody>\n",
       "</table>\n",
       "</div>"
      ],
      "text/plain": [
       "                               condition_type\n",
       "0                     Heart and blood vessels\n",
       "1                        Skin, hair and nails\n",
       "2   Stomach, liver and gastrointestinal tract\n",
       "3                                      Cancer\n",
       "4                                      Glands\n",
       "5                       Ears, nose and throat\n",
       "6                               Immune system\n",
       "7               Brain, nerves and spinal cord\n",
       "8                     Muscle, bone and joints\n",
       "9                               Mental health\n",
       "10                          Lungs and airways\n",
       "11                    Sexual and reproductive\n",
       "12              Kidneys, bladder and prostate\n",
       "13                            Blood and lymph\n",
       "14                   Infections and poisoning\n",
       "15                                      Mouth\n",
       "16                                       Eyes\n",
       "17                                Nutritional\n",
       "18                            Down's syndrome\n",
       "19                   Pregnancy and childbirth\n",
       "20                             Women's health\n",
       "21                                  Pregnancy\n",
       "22                           Early parenthood\n",
       "23                                   Injuries\n",
       "24                                   Diabetes"
      ]
     },
     "execution_count": 6,
     "metadata": {},
     "output_type": "execute_result"
    }
   ],
   "source": [
    "types_set = conditions_df[[\"condition_type\"]].drop_duplicates().reset_index(drop=True)\n",
    "types_set"
   ]
  },
  {
   "cell_type": "code",
   "execution_count": 7,
   "metadata": {},
   "outputs": [
    {
     "data": {
      "text/html": [
       "<div>\n",
       "<style scoped>\n",
       "    .dataframe tbody tr th:only-of-type {\n",
       "        vertical-align: middle;\n",
       "    }\n",
       "\n",
       "    .dataframe tbody tr th {\n",
       "        vertical-align: top;\n",
       "    }\n",
       "\n",
       "    .dataframe thead th {\n",
       "        text-align: right;\n",
       "    }\n",
       "</style>\n",
       "<table border=\"1\" class=\"dataframe\">\n",
       "  <thead>\n",
       "    <tr style=\"text-align: right;\">\n",
       "      <th></th>\n",
       "      <th>condition_name</th>\n",
       "    </tr>\n",
       "    <tr>\n",
       "      <th>condition_type</th>\n",
       "      <th></th>\n",
       "    </tr>\n",
       "  </thead>\n",
       "  <tbody>\n",
       "    <tr>\n",
       "      <th>Cancer</th>\n",
       "      <td>73</td>\n",
       "    </tr>\n",
       "    <tr>\n",
       "      <th>Stomach, liver and gastrointestinal tract</th>\n",
       "      <td>33</td>\n",
       "    </tr>\n",
       "    <tr>\n",
       "      <th>Infections and poisoning</th>\n",
       "      <td>27</td>\n",
       "    </tr>\n",
       "    <tr>\n",
       "      <th>Skin, hair and nails</th>\n",
       "      <td>22</td>\n",
       "    </tr>\n",
       "    <tr>\n",
       "      <th>Brain, nerves and spinal cord</th>\n",
       "      <td>18</td>\n",
       "    </tr>\n",
       "    <tr>\n",
       "      <th>Muscle, bone and joints</th>\n",
       "      <td>16</td>\n",
       "    </tr>\n",
       "    <tr>\n",
       "      <th>Sexual and reproductive</th>\n",
       "      <td>16</td>\n",
       "    </tr>\n",
       "    <tr>\n",
       "      <th>Mental health</th>\n",
       "      <td>16</td>\n",
       "    </tr>\n",
       "    <tr>\n",
       "      <th>Ears, nose and throat</th>\n",
       "      <td>15</td>\n",
       "    </tr>\n",
       "    <tr>\n",
       "      <th>Lungs and airways</th>\n",
       "      <td>14</td>\n",
       "    </tr>\n",
       "    <tr>\n",
       "      <th>Kidneys, bladder and prostate</th>\n",
       "      <td>8</td>\n",
       "    </tr>\n",
       "    <tr>\n",
       "      <th>Blood and lymph</th>\n",
       "      <td>8</td>\n",
       "    </tr>\n",
       "    <tr>\n",
       "      <th>Mouth</th>\n",
       "      <td>7</td>\n",
       "    </tr>\n",
       "    <tr>\n",
       "      <th>Heart and blood vessels</th>\n",
       "      <td>7</td>\n",
       "    </tr>\n",
       "    <tr>\n",
       "      <th>Immune system</th>\n",
       "      <td>6</td>\n",
       "    </tr>\n",
       "    <tr>\n",
       "      <th>Nutritional</th>\n",
       "      <td>6</td>\n",
       "    </tr>\n",
       "    <tr>\n",
       "      <th>Glands</th>\n",
       "      <td>4</td>\n",
       "    </tr>\n",
       "    <tr>\n",
       "      <th>Pregnancy and childbirth</th>\n",
       "      <td>3</td>\n",
       "    </tr>\n",
       "    <tr>\n",
       "      <th>Women's health</th>\n",
       "      <td>2</td>\n",
       "    </tr>\n",
       "    <tr>\n",
       "      <th>Eyes</th>\n",
       "      <td>2</td>\n",
       "    </tr>\n",
       "    <tr>\n",
       "      <th>Diabetes</th>\n",
       "      <td>2</td>\n",
       "    </tr>\n",
       "    <tr>\n",
       "      <th>Pregnancy</th>\n",
       "      <td>1</td>\n",
       "    </tr>\n",
       "    <tr>\n",
       "      <th>Early parenthood</th>\n",
       "      <td>1</td>\n",
       "    </tr>\n",
       "    <tr>\n",
       "      <th>Down's syndrome</th>\n",
       "      <td>1</td>\n",
       "    </tr>\n",
       "    <tr>\n",
       "      <th>Injuries</th>\n",
       "      <td>1</td>\n",
       "    </tr>\n",
       "  </tbody>\n",
       "</table>\n",
       "</div>"
      ],
      "text/plain": [
       "                                           condition_name\n",
       "condition_type                                           \n",
       "Cancer                                                 73\n",
       "Stomach, liver and gastrointestinal tract              33\n",
       "Infections and poisoning                               27\n",
       "Skin, hair and nails                                   22\n",
       "Brain, nerves and spinal cord                          18\n",
       "Muscle, bone and joints                                16\n",
       "Sexual and reproductive                                16\n",
       "Mental health                                          16\n",
       "Ears, nose and throat                                  15\n",
       "Lungs and airways                                      14\n",
       "Kidneys, bladder and prostate                           8\n",
       "Blood and lymph                                         8\n",
       "Mouth                                                   7\n",
       "Heart and blood vessels                                 7\n",
       "Immune system                                           6\n",
       "Nutritional                                             6\n",
       "Glands                                                  4\n",
       "Pregnancy and childbirth                                3\n",
       "Women's health                                          2\n",
       "Eyes                                                    2\n",
       "Diabetes                                                2\n",
       "Pregnancy                                               1\n",
       "Early parenthood                                        1\n",
       "Down's syndrome                                         1\n",
       "Injuries                                                1"
      ]
     },
     "execution_count": 7,
     "metadata": {},
     "output_type": "execute_result"
    }
   ],
   "source": [
    "type_freq = pd.DataFrame(conditions_df.groupby(['condition_type'])['condition_name'].count()).sort_values(by=['condition_name'], ascending=False)\n",
    "type_freq"
   ]
  },
  {
   "cell_type": "markdown",
   "metadata": {},
   "source": [
    "#### **Create a dictionary**\n",
    "\n",
    "And store it as a .json"
   ]
  },
  {
   "cell_type": "code",
   "execution_count": 8,
   "metadata": {},
   "outputs": [
    {
     "name": "stdout",
     "output_type": "stream",
     "text": [
      "> JSON stored correctly\n"
     ]
    }
   ],
   "source": [
    "# create the dict\n",
    "RESULT_DICT = {\"conditions\":[]}\n",
    "for idx,row in conditions_df.iterrows():\n",
    "    RESULT_DICT[\"conditions\"].append(\n",
    "        {\n",
    "            \"id\":row[\"condition_id\"],\n",
    "            \"name\":row[\"condition_name\"],\n",
    "            \"type\":row[\"condition_type\"],\n",
    "        }\n",
    "    )\n",
    "\n",
    "# save it as .json\n",
    "with open('conditions.json', 'w') as fp:\n",
    "    json.dump(RESULT_DICT, fp, indent=4)\n",
    "print(\"> JSON stored correctly\")"
   ]
  },
  {
   "cell_type": "markdown",
   "metadata": {},
   "source": [
    "---\n",
    "## **Therapies**"
   ]
  },
  {
   "cell_type": "code",
   "execution_count": 9,
   "metadata": {},
   "outputs": [
    {
     "name": "stdout",
     "output_type": "stream",
     "text": [
      "> Status Code: 200\n",
      "> Site obtained\n"
     ]
    }
   ],
   "source": [
    "url_ther = \"https://en.wikipedia.org/wiki/List_of_therapies\"\n",
    "\n",
    "r = requests.get(url_ther,headers=header)\n",
    "\n",
    "# check the response code (it should be 200)\n",
    "print(f\"> Status Code: {r.status_code}\")\n",
    "\n",
    "# and obtain the content\n",
    "soup = BeautifulSoup(r.text, 'html.parser')\n",
    "print(\"> Site obtained\")"
   ]
  },
  {
   "cell_type": "code",
   "execution_count": 12,
   "metadata": {},
   "outputs": [
    {
     "ename": "AttributeError",
     "evalue": "ResultSet object has no attribute 'text'. You're probably treating a list of elements like a single element. Did you call find_all() when you meant to call find()?",
     "output_type": "error",
     "traceback": [
      "\u001b[1;31m---------------------------------------------------------------------------\u001b[0m",
      "\u001b[1;31mAttributeError\u001b[0m                            Traceback (most recent call last)",
      "\u001b[1;32mh:\\Il mio Drive\\Data Science - 2nd year\\Data Science\\Data Mining\\Progetto\\TEST\\TEST\\webscraping.ipynb Cell 19'\u001b[0m in \u001b[0;36m<cell line: 6>\u001b[1;34m()\u001b[0m\n\u001b[0;32m      <a href='vscode-notebook-cell:/h%3A/Il%20mio%20Drive/Data%20Science%20-%202nd%20year/Data%20Science/Data%20Mining/Progetto/TEST/TEST/webscraping.ipynb#ch0000019?line=1'>2</a>\u001b[0m links \u001b[39m=\u001b[39m soup\u001b[39m.\u001b[39mfind_all(\u001b[39m'\u001b[39m\u001b[39ma\u001b[39m\u001b[39m'\u001b[39m,attrs\u001b[39m=\u001b[39m{\u001b[39m\"\u001b[39m\u001b[39mclass\u001b[39m\u001b[39m\"\u001b[39m:\u001b[39m\"\u001b[39m\u001b[39mmw-redirect\u001b[39m\u001b[39m\"\u001b[39m})\n\u001b[0;32m      <a href='vscode-notebook-cell:/h%3A/Il%20mio%20Drive/Data%20Science%20-%202nd%20year/Data%20Science/Data%20Mining/Progetto/TEST/TEST/webscraping.ipynb#ch0000019?line=3'>4</a>\u001b[0m links\n\u001b[1;32m----> <a href='vscode-notebook-cell:/h%3A/Il%20mio%20Drive/Data%20Science%20-%202nd%20year/Data%20Science/Data%20Mining/Progetto/TEST/TEST/webscraping.ipynb#ch0000019?line=5'>6</a>\u001b[0m clean_name \u001b[39m=\u001b[39m links\u001b[39m.\u001b[39;49mtext\n",
      "File \u001b[1;32mc:\\Users\\elypa\\anaconda3\\envs\\DATA_MINING\\lib\\site-packages\\bs4\\element.py:2289\u001b[0m, in \u001b[0;36mResultSet.__getattr__\u001b[1;34m(self, key)\u001b[0m\n\u001b[0;32m   2287\u001b[0m \u001b[39mdef\u001b[39;00m \u001b[39m__getattr__\u001b[39m(\u001b[39mself\u001b[39m, key):\n\u001b[0;32m   2288\u001b[0m     \u001b[39m\"\"\"Raise a helpful exception to explain a common code fix.\"\"\"\u001b[39;00m\n\u001b[1;32m-> 2289\u001b[0m     \u001b[39mraise\u001b[39;00m \u001b[39mAttributeError\u001b[39;00m(\n\u001b[0;32m   2290\u001b[0m         \u001b[39m\"\u001b[39m\u001b[39mResultSet object has no attribute \u001b[39m\u001b[39m'\u001b[39m\u001b[39m%s\u001b[39;00m\u001b[39m'\u001b[39m\u001b[39m. You\u001b[39m\u001b[39m'\u001b[39m\u001b[39mre probably treating a list of elements like a single element. Did you call find_all() when you meant to call find()?\u001b[39m\u001b[39m\"\u001b[39m \u001b[39m%\u001b[39m key\n\u001b[0;32m   2291\u001b[0m     )\n",
      "\u001b[1;31mAttributeError\u001b[0m: ResultSet object has no attribute 'text'. You're probably treating a list of elements like a single element. Did you call find_all() when you meant to call find()?"
     ]
    }
   ],
   "source": [
    "# the info is stored in the 'a' tags, with class 'nhs-uk__az-link'\n",
    "links = soup.find_all('a',attrs={\"class\":\"mw-redirect\"})\n",
    "\n",
    "links\n",
    "\n",
    "clean_name = link.text"
   ]
  },
  {
   "cell_type": "code",
   "execution_count": 14,
   "metadata": {},
   "outputs": [
    {
     "name": "stdout",
     "output_type": "stream",
     "text": [
      "> Total Conditions Found: 51\n",
      " * 'abortive therapy' | Link: 'https://en.wikipedia.org/wiki/Abortive_therapy'\n",
      " * 'antibody therapy' | Link: 'https://en.wikipedia.org/wiki/Antibody_therapy_(disambiguation)'\n",
      " * 'aquarium therapy' | Link: 'https://en.wikipedia.org/wiki/Aquarium_therapy'\n",
      " * 'aurotherapy' | Link: 'https://en.wikipedia.org/wiki/Chrysotherapy'\n",
      " * 'cell transfer therapy' | Link: 'https://en.wikipedia.org/wiki/Cell_transfer_therapy'\n"
     ]
    }
   ],
   "source": [
    "# the info is stored in the 'a' tags, with class 'nhs-uk__az-link'\n",
    "links = soup.find_all('a',attrs={\"class\":\"mw-redirect\"})\n",
    "\n",
    "# setup placeholders and variables\n",
    "BASE_LINK = 'https://en.wikipedia.org'\n",
    "name_list = []\n",
    "href_list = []\n",
    "\n",
    "# iterate over obtained \n",
    "for link in links:\n",
    "\n",
    "    # preprocess name\n",
    "    clean_name = link.text.replace('\\r','').replace('\\n','').replace('\\t','')\n",
    "    \n",
    "    # save it in the list\n",
    "    name_list.append(clean_name)\n",
    "\n",
    "    # obtain href\n",
    "    href_list.append(BASE_LINK + link.get('href'))\n",
    "\n",
    "# show results\n",
    "print(f\"> Total Conditions Found: {len(name_list)}\")\n",
    "for name, link in zip(name_list[0:5], href_list[0:5]):\n",
    "    print(f\" * '{name}' | Link: '{link}'\")"
   ]
  }
 ],
 "metadata": {
  "kernelspec": {
   "display_name": "Python 3.9.12 ('DATA_MINING')",
   "language": "python",
   "name": "python3"
  },
  "language_info": {
   "codemirror_mode": {
    "name": "ipython",
    "version": 3
   },
   "file_extension": ".py",
   "mimetype": "text/x-python",
   "name": "python",
   "nbconvert_exporter": "python",
   "pygments_lexer": "ipython3",
   "version": "3.9.12"
  },
  "orig_nbformat": 4,
  "vscode": {
   "interpreter": {
    "hash": "9478262fb3c52ab4ffeada6175b6b0d234b7147cd16c4fdbc145fe9c59d9ba51"
   }
  }
 },
 "nbformat": 4,
 "nbformat_minor": 2
}
