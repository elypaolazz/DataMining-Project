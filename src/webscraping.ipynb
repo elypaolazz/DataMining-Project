{
 "cells": [
  {
   "cell_type": "markdown",
   "metadata": {},
   "source": [
    "## **Web Scraping**"
   ]
  },
  {
   "cell_type": "markdown",
   "metadata": {},
   "source": [
    "#### **Libraries**\n",
    "\n",
    "We import the necessary libraries for the notebook."
   ]
  },
  {
   "cell_type": "code",
   "execution_count": 1,
   "metadata": {},
   "outputs": [
    {
     "name": "stdout",
     "output_type": "stream",
     "text": [
      "> Libraries Imported\n"
     ]
    }
   ],
   "source": [
    "import pandas as pd\n",
    "import requests\n",
    "import json\n",
    "from bs4 import BeautifulSoup\n",
    "from tqdm import tqdm\n",
    "\n",
    "print(\"> Libraries Imported\")"
   ]
  },
  {
   "cell_type": "markdown",
   "metadata": {},
   "source": [
    "## **Conditions data**\n",
    "We obtain data on conditions from the NHS inform webpage [*Illinesses and conditions*](https://www.nhsinform.scot/illnesses-and-conditions/a-to-z), as suggested in the assignment. In order to do this, we need to use web scraping; for this purpose `BeautifulSoup` library will be useful.\n",
    "\n",
    "#### **Obtain the web page**\n",
    "First, we obtain the main content of the web page by mean of `requests` library:"
   ]
  },
  {
   "cell_type": "code",
   "execution_count": 2,
   "metadata": {},
   "outputs": [
    {
     "name": "stdout",
     "output_type": "stream",
     "text": [
      "> Status Code: 200\n",
      "> Site obtained\n"
     ]
    }
   ],
   "source": [
    "header = {'User-Agent': 'Mozilla/5.0 (Windows; U; Windows NT 5.1; en-US; rv:1.9.0.7) Gecko/2009021910 Firefox/3.0.7'}\n",
    "cond_url = \"https://www.nhsinform.scot/illnesses-and-conditions/a-to-z\"\n",
    "\n",
    "r_cond = requests.get(cond_url,headers=header)\n",
    "\n",
    "# check the response code (it should be 200)\n",
    "print(f\"> Status Code: {r_cond.status_code}\")\n",
    "\n",
    "# and obtain the content\n",
    "soup_cond = BeautifulSoup(r_cond.text, 'html.parser')\n",
    "print(\"> Site obtained\")"
   ]
  },
  {
   "cell_type": "markdown",
   "metadata": {},
   "source": [
    "#### **Obtain each therapy detail page**"
   ]
  },
  {
   "cell_type": "markdown",
   "metadata": {},
   "source": [
    "Now we create the logic to obtain the information we need. We are interested in the name and the type of each condition. We note that each name is contained in the `<a>` tag of the list, while the type is present in the page linked by the same tag (particularly in the `href` attribute link)."
   ]
  },
  {
   "cell_type": "code",
   "execution_count": 3,
   "metadata": {},
   "outputs": [
    {
     "name": "stdout",
     "output_type": "stream",
     "text": [
      "> Total Conditions Found: 322\n",
      " * 'Abdominal aortic aneurysm' | Link: 'https://www.nhsinform.scot//illnesses-and-conditions/a-to-z/a/abdominal-aortic-aneurysm'\n",
      " * 'Acne' | Link: 'https://www.nhsinform.scot//illnesses-and-conditions/a-to-z/a/acne'\n",
      " * 'Acute cholecystitis' | Link: 'https://www.nhsinform.scot//illnesses-and-conditions/a-to-z/a/acute-cholecystitis'\n",
      " * 'Acute lymphoblastic leukaemia' | Link: 'https://www.nhsinform.scot//illnesses-and-conditions/a-to-z/a/acute-lymphoblastic-leukaemia'\n",
      " * 'Acute lymphoblastic leukaemia: Children' | Link: 'https://www.nhsinform.scot//illnesses-and-conditions/a-to-z/a/acute-lymphoblastic-leukaemia-children'\n"
     ]
    }
   ],
   "source": [
    "# the info is stored in the 'a' tags, with class 'nhs-uk__az-link'\n",
    "links_cond = soup_cond.find_all('a',attrs={\"class\":\"nhs-uk__az-link\"})\n",
    "\n",
    "# setup placeholders and variables\n",
    "BASE_LINK_C = 'https://www.nhsinform.scot/' # useful to complete the href link\n",
    "name_cond_list = []\n",
    "href_cond_list = []\n",
    "\n",
    "# iterate over obtained tags\n",
    "for link in links_cond:\n",
    "\n",
    "    # preprocess name\n",
    "    clean_name = link.text.replace('\\r','').replace('\\n','').replace('\\t','')\n",
    "    \n",
    "    # save it in the list\n",
    "    name_cond_list.append(clean_name)\n",
    "\n",
    "    # obtain href link (for the type page)\n",
    "    href_cond_list.append(BASE_LINK_C + link.get('href'))\n",
    "\n",
    "# show results\n",
    "print(f\"> Total Conditions Found: {len(name_cond_list)}\")\n",
    "for name, link in zip(name_cond_list[0:5], href_cond_list[0:5]):\n",
    "    print(f\" * '{name}' | Link: '{link}'\")"
   ]
  },
  {
   "cell_type": "markdown",
   "metadata": {},
   "source": [
    "#### **Obtain the information about type**\n",
    "In particular, the type information is contained in an `<a>` tag in the breadcrumbs at the top of each page:\n",
    "\n",
    "![condition type](notebooks_images\\cond_type.png \"Title\")\n",
    "\n",
    "We obtain this information for all conditions whose link does not give an error. In particulare we can have two types of errors:\n",
    "- the web page no longer exists (404 error)\n",
    "- the condition page does not have the type in the breadcrumbs (list index out of range error)."
   ]
  },
  {
   "cell_type": "code",
   "execution_count": 4,
   "metadata": {},
   "outputs": [
    {
     "name": "stderr",
     "output_type": "stream",
     "text": [
      "Scraping Sites:  19%|█▉        | 61/322 [00:37<02:17,  1.90it/s]"
     ]
    },
    {
     "name": "stdout",
     "output_type": "stream",
     "text": [
      "> Error while retrieving the page 'https://www.nhsinform.scot//illnesses-and-conditions/a-to-z/c/chronic-fatigue-syndrome'.\n",
      "  Status Code: 404\n"
     ]
    },
    {
     "name": "stderr",
     "output_type": "stream",
     "text": [
      "Scraping Sites:  28%|██▊       | 91/322 [00:53<02:17,  1.67it/s]"
     ]
    },
    {
     "name": "stdout",
     "output_type": "stream",
     "text": [
      "> Error while retrieving the page 'https://www.nhsinform.scot//illnesses-and-conditions/a-to-z/d/diabetes'.\n",
      "  Error Details: list index out of range\n"
     ]
    },
    {
     "name": "stderr",
     "output_type": "stream",
     "text": [
      "Scraping Sites:  53%|█████▎    | 172/322 [01:36<01:12,  2.08it/s]"
     ]
    },
    {
     "name": "stdout",
     "output_type": "stream",
     "text": [
      "> Error while retrieving the page 'https://www.nhsinform.scot//illnesses-and-conditions/a-to-z/l/langerhans-cell-histiocytosis'.\n",
      "  Status Code: 404\n"
     ]
    },
    {
     "name": "stderr",
     "output_type": "stream",
     "text": [
      "Scraping Sites:  58%|█████▊    | 188/322 [01:43<00:58,  2.29it/s]"
     ]
    },
    {
     "name": "stdout",
     "output_type": "stream",
     "text": [
      "> Error while retrieving the page 'https://www.nhsinform.scot//illnesses-and-conditions/a-to-z/m/malnutrition'.\n",
      "  Status Code: 404\n"
     ]
    },
    {
     "name": "stderr",
     "output_type": "stream",
     "text": [
      "Scraping Sites:  59%|█████▉    | 191/322 [01:45<00:53,  2.47it/s]"
     ]
    },
    {
     "name": "stdout",
     "output_type": "stream",
     "text": [
      "> Error while retrieving the page 'https://www.nhsinform.scot//illnesses-and-conditions/a-to-z/m/menopause'.\n",
      "  Status Code: 404\n"
     ]
    },
    {
     "name": "stderr",
     "output_type": "stream",
     "text": [
      "Scraping Sites:  66%|██████▌   | 211/322 [01:56<00:53,  2.06it/s]"
     ]
    },
    {
     "name": "stdout",
     "output_type": "stream",
     "text": [
      "> Error while retrieving the page 'https://www.nhsinform.scot//illnesses-and-conditions/a-to-z/n/norovirus'.\n",
      "  Status Code: 404\n"
     ]
    },
    {
     "name": "stderr",
     "output_type": "stream",
     "text": [
      "Scraping Sites:  75%|███████▍  | 240/322 [02:12<00:41,  2.00it/s]"
     ]
    },
    {
     "name": "stdout",
     "output_type": "stream",
     "text": [
      "> Error while retrieving the page 'https://www.nhsinform.scot//illnesses-and-conditions/a-to-z/p/pregnancy-and-baby'.\n",
      "  Error Details: list index out of range\n"
     ]
    },
    {
     "name": "stderr",
     "output_type": "stream",
     "text": [
      "Scraping Sites:  86%|████████▋ | 278/322 [02:31<00:22,  1.97it/s]"
     ]
    },
    {
     "name": "stdout",
     "output_type": "stream",
     "text": [
      "> Error while retrieving the page 'https://www.nhsinform.scot//illnesses-and-conditions/a-to-z/s/stress-anxiety-and-low-mood'.\n",
      "  Error Details: list index out of range\n"
     ]
    },
    {
     "name": "stderr",
     "output_type": "stream",
     "text": [
      "Scraping Sites:  87%|████████▋ | 279/322 [02:32<00:20,  2.10it/s]"
     ]
    },
    {
     "name": "stdout",
     "output_type": "stream",
     "text": [
      "> Error while retrieving the page 'https://www.nhsinform.scot//illnesses-and-conditions/a-to-z/s/stroke'.\n",
      "  Status Code: 404\n"
     ]
    },
    {
     "name": "stderr",
     "output_type": "stream",
     "text": [
      "Scraping Sites:  87%|████████▋ | 281/322 [02:32<00:17,  2.32it/s]"
     ]
    },
    {
     "name": "stdout",
     "output_type": "stream",
     "text": [
      "> Error while retrieving the page 'https://www.nhsinform.scot//illnesses-and-conditions/a-to-z/s/suicide'.\n",
      "  Status Code: 404\n"
     ]
    },
    {
     "name": "stderr",
     "output_type": "stream",
     "text": [
      "Scraping Sites:  90%|█████████ | 291/322 [02:38<00:16,  1.85it/s]"
     ]
    },
    {
     "name": "stdout",
     "output_type": "stream",
     "text": [
      "> Error while retrieving the page 'https://www.nhsinform.scot//illnesses-and-conditions/a-to-z/t/thrush-in-men'.\n",
      "  Status Code: 404\n"
     ]
    },
    {
     "name": "stderr",
     "output_type": "stream",
     "text": [
      "Scraping Sites:  93%|█████████▎| 298/322 [02:41<00:10,  2.21it/s]"
     ]
    },
    {
     "name": "stdout",
     "output_type": "stream",
     "text": [
      "> Error while retrieving the page 'https://www.nhsinform.scot//illnesses-and-conditions/a-to-z/t/transient-ischaemic-attack-tia'.\n",
      "  Status Code: 404\n"
     ]
    },
    {
     "name": "stderr",
     "output_type": "stream",
     "text": [
      "Scraping Sites:  97%|█████████▋| 311/322 [02:49<00:05,  1.98it/s]"
     ]
    },
    {
     "name": "stdout",
     "output_type": "stream",
     "text": [
      "> Error while retrieving the page 'https://www.nhsinform.scot//illnesses-and-conditions/a-to-z/v/vaginal-thrush'.\n",
      "  Status Code: 404\n"
     ]
    },
    {
     "name": "stderr",
     "output_type": "stream",
     "text": [
      "Scraping Sites: 100%|██████████| 322/322 [02:56<00:00,  1.82it/s]\n"
     ]
    }
   ],
   "source": [
    "# initialize placeholder\n",
    "types_cond_list = []\n",
    "\n",
    "# iterate over conditions pages links\n",
    "for link in tqdm(href_cond_list, desc=\"Scraping Sites\"):\n",
    "    \n",
    "    # connect\n",
    "    r = requests.get(link,headers=header)\n",
    "\n",
    "    # check for status code\n",
    "    if r.status_code == 200:\n",
    "\n",
    "        try:\n",
    "            # obtain content \n",
    "            soup = BeautifulSoup(r.text, 'html.parser')\n",
    "\n",
    "            # obtain 'a' with class 'nhsuk-breadcrumb__link'\n",
    "            links = soup.find_all('a',attrs={\"class\":\"nhsuk-breadcrumb__link\"})\n",
    "\n",
    "            # save it in the list\n",
    "            types_cond_list.append(links[2].text)\n",
    "\n",
    "        except Exception as e:\n",
    "            types_cond_list.append(\"ERROR\")\n",
    "            print(f\"> Error while retrieving the page '{link}'.\")\n",
    "            print(f\"  Error Details: {str(e)}\")\n",
    "\n",
    "    # if the page could not be reached, print a warning\n",
    "    else:\n",
    "        types_cond_list.append(\"ERROR\")\n",
    "        print(f\"> Error while retrieving the page '{link}'.\")\n",
    "        print(f\"  Status Code: {r.status_code}\")\n"
   ]
  },
  {
   "cell_type": "markdown",
   "metadata": {},
   "source": [
    "#### **Create the complete dataset of conditions**\n",
    "\n",
    "We merge all the scraped data together in order to better visualize them. For this purpose we save them in a `pandas` DataFrame. In addiction to that we also generate an id for each condition."
   ]
  },
  {
   "cell_type": "code",
   "execution_count": 5,
   "metadata": {},
   "outputs": [
    {
     "name": "stdout",
     "output_type": "stream",
     "text": [
      "> Number of Conditions         322\n",
      "> Number of Conditions (clean) 309\n"
     ]
    },
    {
     "data": {
      "text/html": [
       "<div>\n",
       "<style scoped>\n",
       "    .dataframe tbody tr th:only-of-type {\n",
       "        vertical-align: middle;\n",
       "    }\n",
       "\n",
       "    .dataframe tbody tr th {\n",
       "        vertical-align: top;\n",
       "    }\n",
       "\n",
       "    .dataframe thead th {\n",
       "        text-align: right;\n",
       "    }\n",
       "</style>\n",
       "<table border=\"1\" class=\"dataframe\">\n",
       "  <thead>\n",
       "    <tr style=\"text-align: right;\">\n",
       "      <th></th>\n",
       "      <th>condition_id</th>\n",
       "      <th>condition_name</th>\n",
       "      <th>condition_type</th>\n",
       "    </tr>\n",
       "  </thead>\n",
       "  <tbody>\n",
       "    <tr>\n",
       "      <th>0</th>\n",
       "      <td>cond_0</td>\n",
       "      <td>Abdominal aortic aneurysm</td>\n",
       "      <td>Heart and blood vessels</td>\n",
       "    </tr>\n",
       "    <tr>\n",
       "      <th>1</th>\n",
       "      <td>cond_1</td>\n",
       "      <td>Acne</td>\n",
       "      <td>Skin, hair and nails</td>\n",
       "    </tr>\n",
       "    <tr>\n",
       "      <th>2</th>\n",
       "      <td>cond_2</td>\n",
       "      <td>Acute cholecystitis</td>\n",
       "      <td>Stomach, liver and gastrointestinal tract</td>\n",
       "    </tr>\n",
       "    <tr>\n",
       "      <th>3</th>\n",
       "      <td>cond_3</td>\n",
       "      <td>Acute lymphoblastic leukaemia</td>\n",
       "      <td>Cancer</td>\n",
       "    </tr>\n",
       "    <tr>\n",
       "      <th>4</th>\n",
       "      <td>cond_4</td>\n",
       "      <td>Acute lymphoblastic leukaemia: Children</td>\n",
       "      <td>Cancer</td>\n",
       "    </tr>\n",
       "    <tr>\n",
       "      <th>...</th>\n",
       "      <td>...</td>\n",
       "      <td>...</td>\n",
       "      <td>...</td>\n",
       "    </tr>\n",
       "    <tr>\n",
       "      <th>304</th>\n",
       "      <td>cond_304</td>\n",
       "      <td>Warts and verrucas</td>\n",
       "      <td>Skin, hair and nails</td>\n",
       "    </tr>\n",
       "    <tr>\n",
       "      <th>305</th>\n",
       "      <td>cond_305</td>\n",
       "      <td>Whooping cough</td>\n",
       "      <td>Infections and poisoning</td>\n",
       "    </tr>\n",
       "    <tr>\n",
       "      <th>306</th>\n",
       "      <td>cond_306</td>\n",
       "      <td>Wilms’ tumour</td>\n",
       "      <td>Cancer</td>\n",
       "    </tr>\n",
       "    <tr>\n",
       "      <th>307</th>\n",
       "      <td>cond_307</td>\n",
       "      <td>Womb (uterus) cancer</td>\n",
       "      <td>Cancer</td>\n",
       "    </tr>\n",
       "    <tr>\n",
       "      <th>308</th>\n",
       "      <td>cond_308</td>\n",
       "      <td>Yellow fever</td>\n",
       "      <td>Infections and poisoning</td>\n",
       "    </tr>\n",
       "  </tbody>\n",
       "</table>\n",
       "<p>309 rows × 3 columns</p>\n",
       "</div>"
      ],
      "text/plain": [
       "    condition_id                           condition_name  \\\n",
       "0         cond_0                Abdominal aortic aneurysm   \n",
       "1         cond_1                                     Acne   \n",
       "2         cond_2                      Acute cholecystitis   \n",
       "3         cond_3            Acute lymphoblastic leukaemia   \n",
       "4         cond_4  Acute lymphoblastic leukaemia: Children   \n",
       "..           ...                                      ...   \n",
       "304     cond_304                       Warts and verrucas   \n",
       "305     cond_305                           Whooping cough   \n",
       "306     cond_306                            Wilms’ tumour   \n",
       "307     cond_307                     Womb (uterus) cancer   \n",
       "308     cond_308                             Yellow fever   \n",
       "\n",
       "                                condition_type  \n",
       "0                      Heart and blood vessels  \n",
       "1                         Skin, hair and nails  \n",
       "2    Stomach, liver and gastrointestinal tract  \n",
       "3                                       Cancer  \n",
       "4                                       Cancer  \n",
       "..                                         ...  \n",
       "304                       Skin, hair and nails  \n",
       "305                   Infections and poisoning  \n",
       "306                                     Cancer  \n",
       "307                                     Cancer  \n",
       "308                   Infections and poisoning  \n",
       "\n",
       "[309 rows x 3 columns]"
      ]
     },
     "execution_count": 5,
     "metadata": {},
     "output_type": "execute_result"
    }
   ],
   "source": [
    "# create the df from lists\n",
    "conditions_df = pd.DataFrame(\n",
    "    data=zip(name_cond_list, types_cond_list),\n",
    "    columns=[\"condition_name\",\"condition_type\"]\n",
    ")\n",
    "\n",
    "# remove error types\n",
    "print(f\"> Number of Conditions         {conditions_df.shape[0]}\")\n",
    "conditions_df = conditions_df.loc[conditions_df[\"condition_type\"] != \"ERROR\"].reset_index()\n",
    "print(f\"> Number of Conditions (clean) {conditions_df.shape[0]}\")\n",
    "\n",
    "# add column with conditions ids\n",
    "conditions_ids = [f\"cond_{n}\" for n in range(len(conditions_df))]\n",
    "conditions_df[\"condition_id\"] = conditions_ids\n",
    "\n",
    "# reorder columns\n",
    "conditions_df = conditions_df[[\"condition_id\", \"condition_name\", \"condition_type\"]]\n",
    "\n",
    "# show results\n",
    "conditions_df"
   ]
  },
  {
   "cell_type": "markdown",
   "metadata": {},
   "source": [
    "#### **How many different types do we have?**\n",
    "\n",
    "we can check the number of types of conditions we are dealing with:"
   ]
  },
  {
   "cell_type": "code",
   "execution_count": 6,
   "metadata": {},
   "outputs": [
    {
     "data": {
      "text/html": [
       "<div>\n",
       "<style scoped>\n",
       "    .dataframe tbody tr th:only-of-type {\n",
       "        vertical-align: middle;\n",
       "    }\n",
       "\n",
       "    .dataframe tbody tr th {\n",
       "        vertical-align: top;\n",
       "    }\n",
       "\n",
       "    .dataframe thead th {\n",
       "        text-align: right;\n",
       "    }\n",
       "</style>\n",
       "<table border=\"1\" class=\"dataframe\">\n",
       "  <thead>\n",
       "    <tr style=\"text-align: right;\">\n",
       "      <th></th>\n",
       "      <th>condition_type</th>\n",
       "    </tr>\n",
       "  </thead>\n",
       "  <tbody>\n",
       "    <tr>\n",
       "      <th>0</th>\n",
       "      <td>Heart and blood vessels</td>\n",
       "    </tr>\n",
       "    <tr>\n",
       "      <th>1</th>\n",
       "      <td>Skin, hair and nails</td>\n",
       "    </tr>\n",
       "    <tr>\n",
       "      <th>2</th>\n",
       "      <td>Stomach, liver and gastrointestinal tract</td>\n",
       "    </tr>\n",
       "    <tr>\n",
       "      <th>3</th>\n",
       "      <td>Cancer</td>\n",
       "    </tr>\n",
       "    <tr>\n",
       "      <th>4</th>\n",
       "      <td>Glands</td>\n",
       "    </tr>\n",
       "    <tr>\n",
       "      <th>5</th>\n",
       "      <td>Ears, nose and throat</td>\n",
       "    </tr>\n",
       "    <tr>\n",
       "      <th>6</th>\n",
       "      <td>Immune system</td>\n",
       "    </tr>\n",
       "    <tr>\n",
       "      <th>7</th>\n",
       "      <td>Brain, nerves and spinal cord</td>\n",
       "    </tr>\n",
       "    <tr>\n",
       "      <th>8</th>\n",
       "      <td>Muscle, bone and joints</td>\n",
       "    </tr>\n",
       "    <tr>\n",
       "      <th>9</th>\n",
       "      <td>Mental health</td>\n",
       "    </tr>\n",
       "    <tr>\n",
       "      <th>10</th>\n",
       "      <td>Lungs and airways</td>\n",
       "    </tr>\n",
       "    <tr>\n",
       "      <th>11</th>\n",
       "      <td>Sexual and reproductive</td>\n",
       "    </tr>\n",
       "    <tr>\n",
       "      <th>12</th>\n",
       "      <td>Kidneys, bladder and prostate</td>\n",
       "    </tr>\n",
       "    <tr>\n",
       "      <th>13</th>\n",
       "      <td>Blood and lymph</td>\n",
       "    </tr>\n",
       "    <tr>\n",
       "      <th>14</th>\n",
       "      <td>Infections and poisoning</td>\n",
       "    </tr>\n",
       "    <tr>\n",
       "      <th>15</th>\n",
       "      <td>Mouth</td>\n",
       "    </tr>\n",
       "    <tr>\n",
       "      <th>16</th>\n",
       "      <td>Eyes</td>\n",
       "    </tr>\n",
       "    <tr>\n",
       "      <th>17</th>\n",
       "      <td>Nutritional</td>\n",
       "    </tr>\n",
       "    <tr>\n",
       "      <th>18</th>\n",
       "      <td>Down's syndrome</td>\n",
       "    </tr>\n",
       "    <tr>\n",
       "      <th>19</th>\n",
       "      <td>Pregnancy and childbirth</td>\n",
       "    </tr>\n",
       "    <tr>\n",
       "      <th>20</th>\n",
       "      <td>Women's health</td>\n",
       "    </tr>\n",
       "    <tr>\n",
       "      <th>21</th>\n",
       "      <td>Pregnancy</td>\n",
       "    </tr>\n",
       "    <tr>\n",
       "      <th>22</th>\n",
       "      <td>Early parenthood</td>\n",
       "    </tr>\n",
       "    <tr>\n",
       "      <th>23</th>\n",
       "      <td>Injuries</td>\n",
       "    </tr>\n",
       "    <tr>\n",
       "      <th>24</th>\n",
       "      <td>Diabetes</td>\n",
       "    </tr>\n",
       "  </tbody>\n",
       "</table>\n",
       "</div>"
      ],
      "text/plain": [
       "                               condition_type\n",
       "0                     Heart and blood vessels\n",
       "1                        Skin, hair and nails\n",
       "2   Stomach, liver and gastrointestinal tract\n",
       "3                                      Cancer\n",
       "4                                      Glands\n",
       "5                       Ears, nose and throat\n",
       "6                               Immune system\n",
       "7               Brain, nerves and spinal cord\n",
       "8                     Muscle, bone and joints\n",
       "9                               Mental health\n",
       "10                          Lungs and airways\n",
       "11                    Sexual and reproductive\n",
       "12              Kidneys, bladder and prostate\n",
       "13                            Blood and lymph\n",
       "14                   Infections and poisoning\n",
       "15                                      Mouth\n",
       "16                                       Eyes\n",
       "17                                Nutritional\n",
       "18                            Down's syndrome\n",
       "19                   Pregnancy and childbirth\n",
       "20                             Women's health\n",
       "21                                  Pregnancy\n",
       "22                           Early parenthood\n",
       "23                                   Injuries\n",
       "24                                   Diabetes"
      ]
     },
     "execution_count": 6,
     "metadata": {},
     "output_type": "execute_result"
    }
   ],
   "source": [
    "# obtain unique types\n",
    "types_cond_set = conditions_df[[\"condition_type\"]].drop_duplicates().reset_index(drop=True)\n",
    "types_cond_set"
   ]
  },
  {
   "cell_type": "markdown",
   "metadata": {},
   "source": [
    "We have 25 conditions type. Let us now check the frequency of this types:"
   ]
  },
  {
   "cell_type": "code",
   "execution_count": 7,
   "metadata": {},
   "outputs": [
    {
     "data": {
      "text/html": [
       "<div>\n",
       "<style scoped>\n",
       "    .dataframe tbody tr th:only-of-type {\n",
       "        vertical-align: middle;\n",
       "    }\n",
       "\n",
       "    .dataframe tbody tr th {\n",
       "        vertical-align: top;\n",
       "    }\n",
       "\n",
       "    .dataframe thead th {\n",
       "        text-align: right;\n",
       "    }\n",
       "</style>\n",
       "<table border=\"1\" class=\"dataframe\">\n",
       "  <thead>\n",
       "    <tr style=\"text-align: right;\">\n",
       "      <th></th>\n",
       "      <th>condition_name</th>\n",
       "    </tr>\n",
       "    <tr>\n",
       "      <th>condition_type</th>\n",
       "      <th></th>\n",
       "    </tr>\n",
       "  </thead>\n",
       "  <tbody>\n",
       "    <tr>\n",
       "      <th>Cancer</th>\n",
       "      <td>73</td>\n",
       "    </tr>\n",
       "    <tr>\n",
       "      <th>Stomach, liver and gastrointestinal tract</th>\n",
       "      <td>33</td>\n",
       "    </tr>\n",
       "    <tr>\n",
       "      <th>Infections and poisoning</th>\n",
       "      <td>27</td>\n",
       "    </tr>\n",
       "    <tr>\n",
       "      <th>Skin, hair and nails</th>\n",
       "      <td>22</td>\n",
       "    </tr>\n",
       "    <tr>\n",
       "      <th>Brain, nerves and spinal cord</th>\n",
       "      <td>18</td>\n",
       "    </tr>\n",
       "    <tr>\n",
       "      <th>Muscle, bone and joints</th>\n",
       "      <td>16</td>\n",
       "    </tr>\n",
       "    <tr>\n",
       "      <th>Sexual and reproductive</th>\n",
       "      <td>16</td>\n",
       "    </tr>\n",
       "    <tr>\n",
       "      <th>Mental health</th>\n",
       "      <td>16</td>\n",
       "    </tr>\n",
       "    <tr>\n",
       "      <th>Ears, nose and throat</th>\n",
       "      <td>15</td>\n",
       "    </tr>\n",
       "    <tr>\n",
       "      <th>Lungs and airways</th>\n",
       "      <td>14</td>\n",
       "    </tr>\n",
       "    <tr>\n",
       "      <th>Kidneys, bladder and prostate</th>\n",
       "      <td>8</td>\n",
       "    </tr>\n",
       "    <tr>\n",
       "      <th>Blood and lymph</th>\n",
       "      <td>8</td>\n",
       "    </tr>\n",
       "    <tr>\n",
       "      <th>Mouth</th>\n",
       "      <td>7</td>\n",
       "    </tr>\n",
       "    <tr>\n",
       "      <th>Heart and blood vessels</th>\n",
       "      <td>7</td>\n",
       "    </tr>\n",
       "    <tr>\n",
       "      <th>Immune system</th>\n",
       "      <td>6</td>\n",
       "    </tr>\n",
       "    <tr>\n",
       "      <th>Nutritional</th>\n",
       "      <td>6</td>\n",
       "    </tr>\n",
       "    <tr>\n",
       "      <th>Glands</th>\n",
       "      <td>4</td>\n",
       "    </tr>\n",
       "    <tr>\n",
       "      <th>Pregnancy and childbirth</th>\n",
       "      <td>3</td>\n",
       "    </tr>\n",
       "    <tr>\n",
       "      <th>Women's health</th>\n",
       "      <td>2</td>\n",
       "    </tr>\n",
       "    <tr>\n",
       "      <th>Eyes</th>\n",
       "      <td>2</td>\n",
       "    </tr>\n",
       "    <tr>\n",
       "      <th>Diabetes</th>\n",
       "      <td>2</td>\n",
       "    </tr>\n",
       "    <tr>\n",
       "      <th>Pregnancy</th>\n",
       "      <td>1</td>\n",
       "    </tr>\n",
       "    <tr>\n",
       "      <th>Early parenthood</th>\n",
       "      <td>1</td>\n",
       "    </tr>\n",
       "    <tr>\n",
       "      <th>Down's syndrome</th>\n",
       "      <td>1</td>\n",
       "    </tr>\n",
       "    <tr>\n",
       "      <th>Injuries</th>\n",
       "      <td>1</td>\n",
       "    </tr>\n",
       "  </tbody>\n",
       "</table>\n",
       "</div>"
      ],
      "text/plain": [
       "                                           condition_name\n",
       "condition_type                                           \n",
       "Cancer                                                 73\n",
       "Stomach, liver and gastrointestinal tract              33\n",
       "Infections and poisoning                               27\n",
       "Skin, hair and nails                                   22\n",
       "Brain, nerves and spinal cord                          18\n",
       "Muscle, bone and joints                                16\n",
       "Sexual and reproductive                                16\n",
       "Mental health                                          16\n",
       "Ears, nose and throat                                  15\n",
       "Lungs and airways                                      14\n",
       "Kidneys, bladder and prostate                           8\n",
       "Blood and lymph                                         8\n",
       "Mouth                                                   7\n",
       "Heart and blood vessels                                 7\n",
       "Immune system                                           6\n",
       "Nutritional                                             6\n",
       "Glands                                                  4\n",
       "Pregnancy and childbirth                                3\n",
       "Women's health                                          2\n",
       "Eyes                                                    2\n",
       "Diabetes                                                2\n",
       "Pregnancy                                               1\n",
       "Early parenthood                                        1\n",
       "Down's syndrome                                         1\n",
       "Injuries                                                1"
      ]
     },
     "execution_count": 7,
     "metadata": {},
     "output_type": "execute_result"
    }
   ],
   "source": [
    "type_cond_freq = pd.DataFrame(conditions_df.groupby(['condition_type'])['condition_name'].count()).sort_values(by=['condition_name'], ascending=False)\n",
    "type_cond_freq"
   ]
  },
  {
   "cell_type": "markdown",
   "metadata": {},
   "source": [
    "Some types are definitely more popular than others."
   ]
  },
  {
   "cell_type": "markdown",
   "metadata": {},
   "source": [
    "---\n",
    "\n",
    "## **Therapies data**\n",
    "\n",
    "We obtain data on therapies from the NHS inform webpage [*Tests and treatments*](https://www.nhsinform.scot/tests-and-treatments/a-to-z). Since the page structure is the same as in the previous case, we can proceed with the same operations.\n",
    "\n",
    "#### **Obtain the web page**"
   ]
  },
  {
   "cell_type": "code",
   "execution_count": 9,
   "metadata": {},
   "outputs": [
    {
     "name": "stdout",
     "output_type": "stream",
     "text": [
      "> Status Code: 200\n",
      "> Site obtained\n"
     ]
    }
   ],
   "source": [
    "header = {'User-Agent': 'Mozilla/5.0 (Windows; U; Windows NT 5.1; en-US; rv:1.9.0.7) Gecko/2009021910 Firefox/3.0.7'}\n",
    "base_url_ther = \"https://www.nhsinform.scot/tests-and-treatments/a-to-z\"\n",
    "\n",
    "r_ther = requests.get(base_url_ther,headers=header)\n",
    "\n",
    "# check the response code (it should be 200)\n",
    "print(f\"> Status Code: {r_ther.status_code}\")\n",
    "\n",
    "# and obtain the content\n",
    "soup_ther = BeautifulSoup(r_ther.text, 'html.parser')\n",
    "print(\"> Site obtained\")"
   ]
  },
  {
   "cell_type": "markdown",
   "metadata": {},
   "source": [
    "#### **Obtain each therapy detail page**"
   ]
  },
  {
   "cell_type": "code",
   "execution_count": 10,
   "metadata": {},
   "outputs": [
    {
     "name": "stdout",
     "output_type": "stream",
     "text": [
      "> Total Therapies Found: 69\n",
      " * 'Abortion' | Link: 'https://www.nhsinform.scot//tests-and-treatments/a-to-z/a/abortion'\n",
      " * 'Amniocentesis' | Link: 'https://www.nhsinform.scot//tests-and-treatments/a-to-z/a/amniocentesis'\n",
      " * 'Amputation' | Link: 'https://www.nhsinform.scot//tests-and-treatments/a-to-z/a/amputation'\n",
      " * 'Anaesthesia' | Link: 'https://www.nhsinform.scot//tests-and-treatments/a-to-z/a/anaesthesia'\n",
      " * 'Antibiotics' | Link: 'https://www.nhsinform.scot//tests-and-treatments/a-to-z/a/antibiotics'\n"
     ]
    }
   ],
   "source": [
    "# the info is stored in the 'a' tags, with class 'nhs-uk__az-link'\n",
    "links_ther = soup_ther.find_all('a',attrs={\"class\":\"nhs-uk__az-link\"})\n",
    "\n",
    "# setup placeholders and variables\n",
    "BASE_LINK_T = 'https://www.nhsinform.scot/'\n",
    "name_ther_list = []\n",
    "href_ther_list = []\n",
    "\n",
    "# iterate over obtained \n",
    "for link in links_ther:\n",
    "\n",
    "    # preprocess name\n",
    "    clean_name = link.text.replace('\\r','').replace('\\n','').replace('\\t','')\n",
    "    \n",
    "    # save it in the list\n",
    "    name_ther_list.append(clean_name)\n",
    "\n",
    "    # obtain href\n",
    "    href_ther_list.append(BASE_LINK_T + link.get('href'))\n",
    "\n",
    "# show results\n",
    "print(f\"> Total Therapies Found: {len(name_ther_list)}\")\n",
    "for name, link in zip(name_ther_list[0:5], href_ther_list[0:5]):\n",
    "    print(f\" * '{name}' | Link: '{link}'\")"
   ]
  },
  {
   "cell_type": "markdown",
   "metadata": {},
   "source": [
    "#### **Obtain the information about type**\n"
   ]
  },
  {
   "cell_type": "code",
   "execution_count": 11,
   "metadata": {},
   "outputs": [
    {
     "name": "stderr",
     "output_type": "stream",
     "text": [
      "Scraping Sites:  32%|███▏      | 22/69 [00:11<00:23,  1.98it/s]"
     ]
    },
    {
     "name": "stdout",
     "output_type": "stream",
     "text": [
      "> Error while retrieving the page 'https://www.nhsinform.scot//tests-and-treatments/a-to-z/c/contraception'.\n",
      "  Error Details: list index out of range\n"
     ]
    },
    {
     "name": "stderr",
     "output_type": "stream",
     "text": [
      "Scraping Sites:  88%|████████▊ | 61/69 [00:31<00:04,  1.83it/s]"
     ]
    },
    {
     "name": "stdout",
     "output_type": "stream",
     "text": [
      "> Error while retrieving the page 'https://www.nhsinform.scot//tests-and-treatments/a-to-z/s/screening'.\n",
      "  Error Details: list index out of range\n"
     ]
    },
    {
     "name": "stderr",
     "output_type": "stream",
     "text": [
      "Scraping Sites: 100%|██████████| 69/69 [00:35<00:00,  1.94it/s]\n"
     ]
    }
   ],
   "source": [
    "# setup placeholder\n",
    "types_ther_list = []\n",
    "\n",
    "for link in tqdm(href_ther_list, desc=\"Scraping Sites\"):\n",
    "    \n",
    "    # connect\n",
    "    r = requests.get(link,headers=header)\n",
    "\n",
    "    # check for status code\n",
    "    if r.status_code == 200:\n",
    "\n",
    "        try:\n",
    "            # obtain content \n",
    "            soup = BeautifulSoup(r.text, 'html.parser')\n",
    "\n",
    "            # obtain 'a' with class 'nhsuk-breadcrumb__link'\n",
    "            links = soup.find_all('a',attrs={\"class\":\"nhsuk-breadcrumb__link\"})\n",
    "\n",
    "            # save it in the list\n",
    "            types_ther_list.append(links[2].text)\n",
    "\n",
    "        except Exception as e:\n",
    "            types_ther_list.append(\"ERROR\")\n",
    "            print(f\"> Error while retrieving the page '{link}'.\")\n",
    "            print(f\"  Error Details: {str(e)}\")\n",
    "\n",
    "    # if the page could not be reached, print a warning\n",
    "    else:\n",
    "        types_ther_list.append(\"ERROR\")\n",
    "        print(f\"> Error while retrieving the page '{link}'.\")\n",
    "        print(f\"  Status Code: {r.status_code}\")"
   ]
  },
  {
   "cell_type": "markdown",
   "metadata": {},
   "source": [
    "#### **Create the complete dataset of therapies**"
   ]
  },
  {
   "cell_type": "code",
   "execution_count": 12,
   "metadata": {},
   "outputs": [
    {
     "name": "stdout",
     "output_type": "stream",
     "text": [
      "> Number of Therapy         69\n",
      "> Number of Therapy (clean) 67\n"
     ]
    },
    {
     "data": {
      "text/html": [
       "<div>\n",
       "<style scoped>\n",
       "    .dataframe tbody tr th:only-of-type {\n",
       "        vertical-align: middle;\n",
       "    }\n",
       "\n",
       "    .dataframe tbody tr th {\n",
       "        vertical-align: top;\n",
       "    }\n",
       "\n",
       "    .dataframe thead th {\n",
       "        text-align: right;\n",
       "    }\n",
       "</style>\n",
       "<table border=\"1\" class=\"dataframe\">\n",
       "  <thead>\n",
       "    <tr style=\"text-align: right;\">\n",
       "      <th></th>\n",
       "      <th>therapy_id</th>\n",
       "      <th>therapy_name</th>\n",
       "      <th>therapy_type</th>\n",
       "    </tr>\n",
       "  </thead>\n",
       "  <tbody>\n",
       "    <tr>\n",
       "      <th>0</th>\n",
       "      <td>ther_0</td>\n",
       "      <td>Abortion</td>\n",
       "      <td>Surgical procedures</td>\n",
       "    </tr>\n",
       "    <tr>\n",
       "      <th>1</th>\n",
       "      <td>ther_1</td>\n",
       "      <td>Amniocentesis</td>\n",
       "      <td>Biopsies</td>\n",
       "    </tr>\n",
       "    <tr>\n",
       "      <th>2</th>\n",
       "      <td>ther_2</td>\n",
       "      <td>Amputation</td>\n",
       "      <td>Surgical procedures</td>\n",
       "    </tr>\n",
       "    <tr>\n",
       "      <th>3</th>\n",
       "      <td>ther_3</td>\n",
       "      <td>Anaesthesia</td>\n",
       "      <td>Medicines and medical aids</td>\n",
       "    </tr>\n",
       "    <tr>\n",
       "      <th>4</th>\n",
       "      <td>ther_4</td>\n",
       "      <td>Antibiotics</td>\n",
       "      <td>Medicines and medical aids</td>\n",
       "    </tr>\n",
       "    <tr>\n",
       "      <th>...</th>\n",
       "      <td>...</td>\n",
       "      <td>...</td>\n",
       "      <td>...</td>\n",
       "    </tr>\n",
       "    <tr>\n",
       "      <th>62</th>\n",
       "      <td>ther_62</td>\n",
       "      <td>Ultrasound scan</td>\n",
       "      <td>Scans and X-rays</td>\n",
       "    </tr>\n",
       "    <tr>\n",
       "      <th>63</th>\n",
       "      <td>ther_63</td>\n",
       "      <td>Urinary catheterisation</td>\n",
       "      <td>Medicines and medical aids</td>\n",
       "    </tr>\n",
       "    <tr>\n",
       "      <th>64</th>\n",
       "      <td>ther_64</td>\n",
       "      <td>Warfarin</td>\n",
       "      <td>Medicines and medical aids</td>\n",
       "    </tr>\n",
       "    <tr>\n",
       "      <th>65</th>\n",
       "      <td>ther_65</td>\n",
       "      <td>Wisdom tooth removal</td>\n",
       "      <td>Dental treatments</td>\n",
       "    </tr>\n",
       "    <tr>\n",
       "      <th>66</th>\n",
       "      <td>ther_66</td>\n",
       "      <td>X-ray</td>\n",
       "      <td>Scans and X-rays</td>\n",
       "    </tr>\n",
       "  </tbody>\n",
       "</table>\n",
       "<p>67 rows × 3 columns</p>\n",
       "</div>"
      ],
      "text/plain": [
       "   therapy_id             therapy_name                therapy_type\n",
       "0      ther_0                 Abortion         Surgical procedures\n",
       "1      ther_1            Amniocentesis                    Biopsies\n",
       "2      ther_2               Amputation         Surgical procedures\n",
       "3      ther_3              Anaesthesia  Medicines and medical aids\n",
       "4      ther_4              Antibiotics  Medicines and medical aids\n",
       "..        ...                      ...                         ...\n",
       "62    ther_62          Ultrasound scan            Scans and X-rays\n",
       "63    ther_63  Urinary catheterisation  Medicines and medical aids\n",
       "64    ther_64                 Warfarin  Medicines and medical aids\n",
       "65    ther_65     Wisdom tooth removal           Dental treatments\n",
       "66    ther_66                    X-ray            Scans and X-rays\n",
       "\n",
       "[67 rows x 3 columns]"
      ]
     },
     "execution_count": 12,
     "metadata": {},
     "output_type": "execute_result"
    }
   ],
   "source": [
    "# create the df from lists\n",
    "therapies_df = pd.DataFrame(\n",
    "    data=zip(name_ther_list, types_ther_list),\n",
    "    columns=[\"therapy_name\",\"therapy_type\"]\n",
    ")\n",
    "\n",
    "# remove error types\n",
    "print(f\"> Number of Therapy         {therapies_df.shape[0]}\")\n",
    "therapies_df = therapies_df.loc[therapies_df[\"therapy_type\"] != \"ERROR\"].reset_index()\n",
    "print(f\"> Number of Therapy (clean) {therapies_df.shape[0]}\")\n",
    "\n",
    "# add column with conditions ids\n",
    "therapies_ids = [f\"ther_{n}\" for n in range(len(therapies_df))]\n",
    "therapies_df[\"therapy_id\"] = therapies_ids\n",
    "\n",
    "# reorder columns\n",
    "therapies_df = therapies_df[[\"therapy_id\", \"therapy_name\", \"therapy_type\"]]\n",
    "\n",
    "# show results\n",
    "therapies_df"
   ]
  },
  {
   "cell_type": "markdown",
   "metadata": {},
   "source": [
    "We end up with 67 therapies."
   ]
  },
  {
   "cell_type": "markdown",
   "metadata": {},
   "source": [
    "#### **How many different types do we have and which are their frequencies?**"
   ]
  },
  {
   "cell_type": "code",
   "execution_count": 13,
   "metadata": {},
   "outputs": [
    {
     "data": {
      "text/html": [
       "<div>\n",
       "<style scoped>\n",
       "    .dataframe tbody tr th:only-of-type {\n",
       "        vertical-align: middle;\n",
       "    }\n",
       "\n",
       "    .dataframe tbody tr th {\n",
       "        vertical-align: top;\n",
       "    }\n",
       "\n",
       "    .dataframe thead th {\n",
       "        text-align: right;\n",
       "    }\n",
       "</style>\n",
       "<table border=\"1\" class=\"dataframe\">\n",
       "  <thead>\n",
       "    <tr style=\"text-align: right;\">\n",
       "      <th></th>\n",
       "      <th>therapy_type</th>\n",
       "    </tr>\n",
       "  </thead>\n",
       "  <tbody>\n",
       "    <tr>\n",
       "      <th>0</th>\n",
       "      <td>Surgical procedures</td>\n",
       "    </tr>\n",
       "    <tr>\n",
       "      <th>1</th>\n",
       "      <td>Biopsies</td>\n",
       "    </tr>\n",
       "    <tr>\n",
       "      <th>2</th>\n",
       "      <td>Medicines and medical aids</td>\n",
       "    </tr>\n",
       "    <tr>\n",
       "      <th>3</th>\n",
       "      <td>Non-surgical procedures</td>\n",
       "    </tr>\n",
       "    <tr>\n",
       "      <th>4</th>\n",
       "      <td>Blood tests</td>\n",
       "    </tr>\n",
       "    <tr>\n",
       "      <th>5</th>\n",
       "      <td>Routine tests and examinations</td>\n",
       "    </tr>\n",
       "    <tr>\n",
       "      <th>6</th>\n",
       "      <td>Scans and X-rays</td>\n",
       "    </tr>\n",
       "    <tr>\n",
       "      <th>7</th>\n",
       "      <td>Dental treatments</td>\n",
       "    </tr>\n",
       "    <tr>\n",
       "      <th>8</th>\n",
       "      <td>Counselling and therapies</td>\n",
       "    </tr>\n",
       "  </tbody>\n",
       "</table>\n",
       "</div>"
      ],
      "text/plain": [
       "                     therapy_type\n",
       "0             Surgical procedures\n",
       "1                        Biopsies\n",
       "2      Medicines and medical aids\n",
       "3         Non-surgical procedures\n",
       "4                     Blood tests\n",
       "5  Routine tests and examinations\n",
       "6                Scans and X-rays\n",
       "7               Dental treatments\n",
       "8       Counselling and therapies"
      ]
     },
     "execution_count": 13,
     "metadata": {},
     "output_type": "execute_result"
    }
   ],
   "source": [
    "types_set = therapies_df[[\"therapy_type\"]].drop_duplicates().reset_index(drop=True)\n",
    "types_set"
   ]
  },
  {
   "cell_type": "markdown",
   "metadata": {},
   "source": [
    "The therapies types are 9."
   ]
  },
  {
   "cell_type": "code",
   "execution_count": 14,
   "metadata": {},
   "outputs": [
    {
     "data": {
      "text/html": [
       "<div>\n",
       "<style scoped>\n",
       "    .dataframe tbody tr th:only-of-type {\n",
       "        vertical-align: middle;\n",
       "    }\n",
       "\n",
       "    .dataframe tbody tr th {\n",
       "        vertical-align: top;\n",
       "    }\n",
       "\n",
       "    .dataframe thead th {\n",
       "        text-align: right;\n",
       "    }\n",
       "</style>\n",
       "<table border=\"1\" class=\"dataframe\">\n",
       "  <thead>\n",
       "    <tr style=\"text-align: right;\">\n",
       "      <th></th>\n",
       "      <th>therapy_name</th>\n",
       "    </tr>\n",
       "    <tr>\n",
       "      <th>therapy_type</th>\n",
       "      <th></th>\n",
       "    </tr>\n",
       "  </thead>\n",
       "  <tbody>\n",
       "    <tr>\n",
       "      <th>Medicines and medical aids</th>\n",
       "      <td>24</td>\n",
       "    </tr>\n",
       "    <tr>\n",
       "      <th>Surgical procedures</th>\n",
       "      <td>16</td>\n",
       "    </tr>\n",
       "    <tr>\n",
       "      <th>Non-surgical procedures</th>\n",
       "      <td>9</td>\n",
       "    </tr>\n",
       "    <tr>\n",
       "      <th>Scans and X-rays</th>\n",
       "      <td>7</td>\n",
       "    </tr>\n",
       "    <tr>\n",
       "      <th>Biopsies</th>\n",
       "      <td>3</td>\n",
       "    </tr>\n",
       "    <tr>\n",
       "      <th>Dental treatments</th>\n",
       "      <td>3</td>\n",
       "    </tr>\n",
       "    <tr>\n",
       "      <th>Counselling and therapies</th>\n",
       "      <td>2</td>\n",
       "    </tr>\n",
       "    <tr>\n",
       "      <th>Routine tests and examinations</th>\n",
       "      <td>2</td>\n",
       "    </tr>\n",
       "    <tr>\n",
       "      <th>Blood tests</th>\n",
       "      <td>1</td>\n",
       "    </tr>\n",
       "  </tbody>\n",
       "</table>\n",
       "</div>"
      ],
      "text/plain": [
       "                                therapy_name\n",
       "therapy_type                                \n",
       "Medicines and medical aids                24\n",
       "Surgical procedures                       16\n",
       "Non-surgical procedures                    9\n",
       "Scans and X-rays                           7\n",
       "Biopsies                                   3\n",
       "Dental treatments                          3\n",
       "Counselling and therapies                  2\n",
       "Routine tests and examinations             2\n",
       "Blood tests                                1"
      ]
     },
     "execution_count": 14,
     "metadata": {},
     "output_type": "execute_result"
    }
   ],
   "source": [
    "type_freq = pd.DataFrame(therapies_df.groupby(['therapy_type'])['therapy_name'].count()).sort_values(by=['therapy_name'], ascending=False)\n",
    "type_freq"
   ]
  },
  {
   "cell_type": "markdown",
   "metadata": {},
   "source": [
    "#### **Create dictionaries and store them into a .json file**\n",
    "\n",
    "We can finally create the dictionaries and store them in a `.json` file, as request in the assignment.\n"
   ]
  },
  {
   "cell_type": "code",
   "execution_count": 25,
   "metadata": {},
   "outputs": [
    {
     "name": "stdout",
     "output_type": "stream",
     "text": [
      "> JSON stored correctly\n"
     ]
    }
   ],
   "source": [
    "# create the dict\n",
    "RESULT_DICT = {\"conditions\":[], \"therapies\":[]}\n",
    "# conditions\n",
    "for idx,row in conditions_df.iterrows():\n",
    "    RESULT_DICT[\"conditions\"].append(\n",
    "        {\n",
    "            \"id\":row[\"condition_id\"],\n",
    "            \"name\":row[\"condition_name\"],\n",
    "            \"type\":row[\"condition_type\"],\n",
    "        }\n",
    "    )\n",
    "# therapies\n",
    "for idx,row in therapies_df.iterrows():\n",
    "    RESULT_DICT[\"therapies\"].append(\n",
    "        {\n",
    "            \"id\":row[\"therapy_id\"],\n",
    "            \"name\":row[\"therapy_name\"],\n",
    "            \"type\":row[\"therapy_type\"],\n",
    "        }\n",
    "    )\n",
    "\n",
    "# save it as .json\n",
    "with open('../data/data.json', 'w') as fp:\n",
    "    json.dump(RESULT_DICT, fp, indent=4)\n",
    "print(\"> JSON stored correctly\")"
   ]
  }
 ],
 "metadata": {
  "kernelspec": {
   "display_name": "Python 3.9.12 ('DATA_MINING')",
   "language": "python",
   "name": "python3"
  },
  "language_info": {
   "codemirror_mode": {
    "name": "ipython",
    "version": 3
   },
   "file_extension": ".py",
   "mimetype": "text/x-python",
   "name": "python",
   "nbconvert_exporter": "python",
   "pygments_lexer": "ipython3",
   "version": "3.9.12"
  },
  "orig_nbformat": 4,
  "vscode": {
   "interpreter": {
    "hash": "9478262fb3c52ab4ffeada6175b6b0d234b7147cd16c4fdbc145fe9c59d9ba51"
   }
  }
 },
 "nbformat": 4,
 "nbformat_minor": 2
}
